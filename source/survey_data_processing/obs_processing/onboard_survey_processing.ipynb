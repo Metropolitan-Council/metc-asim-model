{
 "cells": [
  {
   "cell_type": "code",
   "execution_count": 60,
   "metadata": {
    "pycharm": {
     "name": "#%%\n"
    }
   },
   "outputs": [],
   "source": [
    "import pandas as pd\n",
    "pd.set_option(\"display.max_columns\",250)\n",
    "import os\n",
    "import matplotlib.pyplot as plt\n",
    "import numpy as np\n",
    "import seaborn as sns\n",
    "import yaml as yaml\n",
    "# import openpyxl\n",
    "import random\n",
    "import geopandas as gpd\n",
    "\n",
    "sns.set()\n",
    "# import openmatrix as omx\n",
    "# import geopandas\n",
    "# import pyproj\n",
    "# import re\n",
    "# import xlrd\n",
    "from IPython.display import display, HTML\n",
    "\n",
    "# Original code from 2021 Leah Flake, RSG\n",
    "# Updated 9/2023 Andrew Rohne, RSG\n",
    "\n",
    "# INSTRUCTIONS:\n",
    "# Setup everything in the fields box (should be next):\n",
    "#  - Survey file is about the specific file (name, type, sheet [if applicable])\n",
    "#  - Survey fields are specifics to the survey fields\n",
    "#  - TAZ Shapefile is the TAZ shapefile\n",
    "\n",
    "# This script will drop some files for validation here...\n",
    "VALIDATION_DATA_FOLDER = r'E:\\Met_Council\\metc-asim-model\\source\\validation\\validation_data'\n",
    "\n",
    "\n"
   ]
  },
  {
   "cell_type": "code",
   "execution_count": 61,
   "metadata": {},
   "outputs": [],
   "source": [
    "# Fields - set these up to map fields from the survey\n",
    "\n",
    "# Survey file - set either survey_is_excel or survey_is_csv and survey_file_name (and survey_excel_table if excel, otherwise not used)\n",
    "survey_is_excel = True\n",
    "survey_is_csv = False\n",
    "survey_file_name = 'Met Council OD 2022.xlsx'\n",
    "survey_excel_table = 'data'\n",
    "\n",
    "# Survey fields\n",
    "survey_id = 'ID'\n",
    "origin_latitude = 'ORIGIN_ADDRESSLAT'\n",
    "origin_longitude = 'ORIGIN_ADDRESSLONG'\n",
    "destination_latitude = 'DESTIN_ADDRESSLAT'\n",
    "destination_longitude = 'DESTIN_ADDRESSLONG'\n",
    "\n",
    "# Fields used - all of these MUST be filled in!\n",
    "survey_route_dir_code = 'ROUTE_DIRECTIONCode'\n",
    "survey_route_dir = 'ROUTE_DIRECTION'\n",
    "survey_agency = 'Agency'\n",
    "survey_orig_place_type_code = 'ORIGIN_PLACE_TYPECode'\n",
    "survey_orig_place_type = 'ORIGIN_PLACE_TYPE'\n",
    "survey_access_mode_code = 'ORIGIN_TRANSPORTCode'\n",
    "survey_access_mode = 'ORIGIN_TRANSPORT'\n",
    "survey_egress_mode_code = 'DESTIN_TRANSPORTCode'\n",
    "survey_egress_mode = 'DESTIN_TRANSPORT'\n",
    "survey_dest_place_type_code = 'DESTIN_PLACE_TYPECode'\n",
    "survey_dest_place_type = 'DESTIN_PLACE_TYPE'\n",
    "survey_time_on_code = 'TIME_ONCode'\n",
    "survey_num_employed_in_hh_code = 'EMPLOYED_IN_HHCode'\n",
    "survey_num_employed_in_hh = 'EMPLOYED_IN_HH'\n",
    "survey_num_vehicle_in_hh_code = 'COUNT_VH_HHCode'\n",
    "survey_num_vehicle_in_hh = 'COUNT_VH_HH'\n",
    "survey_num_persons_in_hh_code = 'HH_SIZECode'\n",
    "survey_num_persons_in_hh = 'HH_SIZE'\n",
    "survey_employment_status = 'EMPLOYMENT_STATUSCode'\n",
    "survey_student_status = 'STUDENT_STATUSCode'\n",
    "survey_is_licensed = 'DO_YOU_DRIVECode'\n",
    "survey_age = 'YOUR_AGE'\n",
    "survey_income_code = 'INCOMECode'\n",
    "survey_linked_trip_weight = 'Final_Linked_weight_fctr'\n",
    "survey_unlinked_trip_weight = 'Final_unlinked_weight_fctr'\n",
    "survey_did_you_go_to_work_code = 'DID_U_GO2WORKCode'\n",
    "survey_will_you_go_to_work_code = 'WILL_GO2WORKCode'\n",
    "survey_did_you_go_to_school_code = 'DID_U_GO2SCHOOLCode'\n",
    "survey_will_you_go_to_school_code = 'WILL_GO2SCHOOLCode'\n",
    "\n",
    "survey_code_go_to_work_school_yes = 1\n",
    "\n",
    "\n",
    "# These fields are set to 'No' in a later step - they should be setup if asked\n",
    "# survey_purpose_no_other_trip\n",
    "# survey_purpose_buy_meal_beverage\n",
    "# survey_purpose_work\n",
    "# survey_purpose_visit    #'TRIP_PURPOSE_VISIT_FRIEND/RELATIVE_OR_ATTEND_RELIGIOUS/SOC_EVENT'\n",
    "# survey_purpose_school\n",
    "# survey_purpose_shopping\n",
    "# survey_purpose_other_errands\n",
    "# survey_purpose_other\n",
    "\n",
    "# applied to place types, all inputs must be represented\n",
    "survey_purpose_codes = {\n",
    "    1: 'Work',\n",
    "    2: 'Home',\n",
    "    5: 'University',\n",
    "    6: 'K-12 school',\n",
    "    7: 'Maintenance',\n",
    "    8: 'Maintenance',\n",
    "    9: 'Discretionary',\n",
    "    11: 'Discretionary',\n",
    "    12: 'Maintenance',\n",
    "    13: 'Discretionary',\n",
    "    14: 'Discretionary',\n",
    "    98: 'Maintenance',\n",
    "    99: 'Maintenance'\n",
    "}\n",
    "\n",
    "knr_access_modes = [4, 7]\n",
    "pnr_access_modes = [5, 6]\n",
    "\n",
    "# TAZ Shapefile and TAZ field - shapefile only, and must have the projection set\n",
    "taz_shapefile = r'E:\\Met_Council\\metc-asim-model\\Input_2022\\Visualizer\\SHP\\TAZ2010.shp'\n",
    "taz_shp_taz_id = 'TAZ'\n",
    "\n"
   ]
  },
  {
   "cell_type": "code",
   "execution_count": 62,
   "metadata": {
    "pycharm": {
     "name": "#%%\n"
    }
   },
   "outputs": [],
   "source": [
    "def add_percentage_to_crosstab(ct):\n",
    "    total_counts = ct['All'][:-1].sum()\n",
    "    ct['Percent'] = ct.apply(lambda row: round(100 * row['All'] / total_counts, 2), axis=1)\n",
    "    ct.loc['Percent'] = ct.apply(lambda col: round(100 * col['All'] / total_counts, 2), axis=0)\n",
    "    ct.loc['Percent', 'Percent'] = pd.NA\n",
    "    return ct"
   ]
  },
  {
   "cell_type": "code",
   "execution_count": 63,
   "metadata": {
    "pycharm": {
     "name": "#%%\n"
    }
   },
   "outputs": [],
   "source": [
    "def make_percentage_bar_plot(variable, title, xlabel, xlabel_rotation):\n",
    "    grouped_df = obs_df.groupby(variable)[\"unlinked_weight_scaled\"].agg(sum)\n",
    "    total_weight = grouped_df.sum()\n",
    "    grouped_df[\"percent\"] = grouped_df/total_weight*100\n",
    "    plt.figure(figsize=(10,7))\n",
    "    grouped_df[\"percent\"].plot.bar()\n",
    "    plt.xlabel(xlabel, fontsize=16)\n",
    "    plt.xticks(rotation=xlabel_rotation)\n",
    "    plt.ylabel(\"Weighted Percent\", fontsize=16)\n",
    "    plt.title(title, fontsize=16)\n",
    "    plt.show()\n",
    "    \n",
    "def make_percentage_bar_plot_cta(variable, title, xlabel, xlabel_rotation):\n",
    "    grouped_df = obs_df.groupby(variable)[\"unlinked_weight_scaled\"].agg(sum)\n",
    "    total_weight = grouped_df.sum()\n",
    "    grouped_df[\"percent\"] = grouped_df/total_weight*100\n",
    "    plt.figure(figsize=(10,7))\n",
    "    grouped_df[\"percent\"].plot.bar()\n",
    "    plt.xlabel(xlabel, fontsize=16)\n",
    "    plt.xticks(rotation=xlabel_rotation)\n",
    "    plt.ylabel(\"Weighted Percent\", fontsize=16)\n",
    "    plt.title(title, fontsize=16)\n",
    "    plt.show()\n",
    "    \n",
    "def make_percentage_bar_plot_metra(variable, title, xlabel, xlabel_rotation):\n",
    "    grouped_df = metra_df.groupby(variable)[\"unlinked_weight_scaled\"].agg(sum)\n",
    "    total_weight = grouped_df.sum()\n",
    "    grouped_df[\"percent\"] = grouped_df/total_weight*100\n",
    "    plt.figure(figsize=(10,7))\n",
    "    grouped_df[\"percent\"].plot.bar()\n",
    "    plt.xlabel(xlabel, fontsize=16)\n",
    "    plt.xticks(rotation=xlabel_rotation)\n",
    "    plt.ylabel(\"Weighted Percent\", fontsize=16)\n",
    "    plt.title(title, fontsize=16)\n",
    "    plt.show()"
   ]
  },
  {
   "cell_type": "code",
   "execution_count": 64,
   "metadata": {
    "pycharm": {
     "name": "#%%\n"
    }
   },
   "outputs": [],
   "source": [
    "\n",
    "with open(r'E:\\Met_Council\\metc-asim-model\\source\\survey_data_processing\\metc_inputs_phase2.yml') as file:\n",
    "    settings = yaml.load(file, Loader = yaml.SafeLoader)\n",
    "\n",
    "obs_path  = os.path.join(settings['obs_dir'], survey_file_name)\n",
    "\n",
    "output_path = r\"output\"\n"
   ]
  },
  {
   "cell_type": "markdown",
   "metadata": {},
   "source": [
    "# TAZ Identification"
   ]
  },
  {
   "cell_type": "code",
   "execution_count": 65,
   "metadata": {},
   "outputs": [
    {
     "name": "stdout",
     "output_type": "stream",
     "text": [
      "Origins: 1443 unique TAZs, 47.62% of TAZs have an origin\n",
      "Most common origin is 1530.0 with 650 origins (3.05%)\n",
      "\n",
      "\n",
      "Destinations: 1421 unique TAZs, 46.9% of TAZs have an destination\n",
      "Most common destination is 1530.0 with 718 origins (3.37%)\n"
     ]
    }
   ],
   "source": [
    "if survey_is_excel:\n",
    "    obs_df = pd.read_excel(obs_path, survey_excel_table)\n",
    "elif survey_is_csv:\n",
    "    obs_df = pd.read_csv(obs_path)\n",
    "else:\n",
    "    assert False, \"Survey must be either Excel or CSV and survey_is_excel or survey_is_csv must be set appropriately\"\n",
    "\n",
    "taz = gpd.read_file(taz_shapefile).to_crs(\"EPSG:4326\")\n",
    "origins_points = gpd.GeoDataFrame(obs_df[[survey_id, origin_latitude, origin_longitude]], geometry=gpd.points_from_xy(obs_df[origin_longitude], obs_df[origin_latitude]), crs = \"EPSG:4326\")\n",
    "destinations_points = gpd.GeoDataFrame(obs_df[[survey_id, destination_latitude, destination_longitude]], geometry=gpd.points_from_xy(obs_df[destination_longitude], obs_df[destination_latitude]), crs = \"EPSG:4326\")\n",
    "\n",
    "origins = gpd.sjoin(origins_points, taz).rename(columns = {taz_shp_taz_id: 'O_TAZ'})\n",
    "destinations = gpd.sjoin(destinations_points, taz).rename(columns = {taz_shp_taz_id: 'D_TAZ'})\n",
    "\n",
    "obs_df = obs_df.merge(origins[[survey_id, 'O_TAZ']], how = 'left', on = survey_id).merge(destinations[[survey_id, 'D_TAZ']], how = 'left', on = survey_id)\n",
    "\n",
    "# QC\n",
    "print(f'Origins: {obs_df.O_TAZ.nunique()} unique TAZs, {round((100 * obs_df.O_TAZ.nunique() / taz.shape[0]), 2)}% of TAZs have an origin')\n",
    "print(f'Most common origin is {obs_df.O_TAZ.mode()[0]} with {obs_df[obs_df.O_TAZ == obs_df.O_TAZ.mode()[0]].shape[0]} origins ({round(100 * obs_df[obs_df.O_TAZ == obs_df.O_TAZ.mode()[0]].shape[0] / obs_df.shape[0], 2)}%)')\n",
    "print('\\n')\n",
    "print(f'Destinations: {obs_df.D_TAZ.nunique()} unique TAZs, {round((100 * obs_df.D_TAZ.nunique() / taz.shape[0]), 2)}% of TAZs have an destination')\n",
    "print(f'Most common destination is {obs_df.D_TAZ.mode()[0]} with {obs_df[obs_df.D_TAZ == obs_df.D_TAZ.mode()[0]].shape[0]} origins ({round(100 * obs_df[obs_df.D_TAZ == obs_df.D_TAZ.mode()[0]].shape[0] / obs_df.shape[0], 2)}%)')\n"
   ]
  },
  {
   "cell_type": "code",
   "execution_count": 66,
   "metadata": {},
   "outputs": [
    {
     "data": {
      "text/plain": [
       "(21278, 248)"
      ]
     },
     "execution_count": 66,
     "metadata": {},
     "output_type": "execute_result"
    }
   ],
   "source": [
    "obs_df.shape"
   ]
  },
  {
   "cell_type": "code",
   "execution_count": 67,
   "metadata": {
    "pycharm": {
     "name": "#%%\n"
    },
    "scrolled": true
   },
   "outputs": [
    {
     "name": "stdout",
     "output_type": "stream",
     "text": [
      "Total entries in the on board survey: 21278\n",
      "Weighted total of entries in the on board survey (unlinked): 147929.12313604102\n",
      "Weighted total of trips in the on board survey (linked): 124008.33261468509\n"
     ]
    }
   ],
   "source": [
    "print(\"Total entries in the on board survey:\", len(obs_df))\n",
    "print(\"Weighted total of entries in the on board survey (unlinked):\", obs_df['Final_unlinked_weight_fctr'].sum())\n",
    "print(\"Weighted total of trips in the on board survey (linked):\", obs_df['Final_Linked_weight_fctr'].sum())\n"
   ]
  },
  {
   "cell_type": "markdown",
   "metadata": {},
   "source": [
    "# Transit Onboard Survey Data Coding"
   ]
  },
  {
   "cell_type": "markdown",
   "metadata": {},
   "source": [
    "## Recode relevant variables to match between each dataset"
   ]
  },
  {
   "cell_type": "code",
   "execution_count": 68,
   "metadata": {},
   "outputs": [],
   "source": [
    "\n",
    "obs_df_orig = obs_df.copy()\n",
    "\n",
    "obs_df.rename(columns = {\n",
    "    survey_route_dir_code: 'ROUTE_SURVEYED_CODE',\n",
    "    survey_route_dir: 'ROUTE_SURVEYED',\n",
    "    survey_agency: 'ROUTE_PROVIDER',\n",
    "    survey_orig_place_type_code: 'ORIGIN_PLACE_TYPE_CODE',\n",
    "    survey_orig_place_type: 'ORIGIN_PLACE_TYPE',\n",
    "    survey_access_mode_code: 'ACCESS_MODE_CODE',\n",
    "    survey_access_mode: 'ACCESS_MODE',\n",
    "    survey_egress_mode_code: 'EGRESS_MODE_CODE',\n",
    "    survey_egress_mode: 'EGRESS_MODE',\n",
    "    survey_dest_place_type_code: 'DESTIN_PLACE_TYPE_CODE',\n",
    "    survey_dest_place_type: 'DESTIN_PLACE_TYPE',\n",
    "    survey_time_on_code: 'TIME_ON_CODE',\n",
    "    survey_num_employed_in_hh_code: 'COUNT_EMPLOYED_HH_CODE',\n",
    "    survey_num_employed_in_hh: 'COUNT_EMPLOYED_HH',\n",
    "    survey_num_vehicle_in_hh_code: 'COUNT_VH_HH_CODE',\n",
    "    survey_num_vehicle_in_hh: 'COUNT_VH_HH',\n",
    "    survey_num_persons_in_hh_code: 'COUNT_MEMBER_HH_CODE',\n",
    "    survey_num_persons_in_hh: 'COUNT_MEMBER_HH',\n",
    "    survey_employment_status: 'STATUS_EMPLOYMENT',\n",
    "    survey_student_status: 'STUDENT_STATUS',\n",
    "    survey_is_licensed: 'HAS_DRIVE_LICENSE',\n",
    "    survey_age: 'AGE',\n",
    "    survey_income_code: 'INCOME_CODE',\n",
    "    survey_did_you_go_to_work_code:  'DID_U_GO2WORK[Code]',\n",
    "    survey_will_you_go_to_work_code: 'WILL_GO2WORK[Code]',\n",
    "    survey_did_you_go_to_school_code: 'DID_U_GO2SCHOOL[Code]',\n",
    "    survey_will_you_go_to_school_code: 'WILL_GO2SCHOOL[Code]',\n",
    "    survey_unlinked_trip_weight: 'Unlinked_Weight-AE',\n",
    "    survey_linked_trip_weight: 'Linked_Weight-AE'}, inplace = True)\n",
    "\n",
    "obs_df['TRIP_PURPOSE_GO_TO_WORK'] = 'No'\n",
    "obs_df.loc[(obs_df['DID_U_GO2WORK[Code]'] == survey_code_go_to_work_school_yes) | (obs_df['WILL_GO2WORK[Code]'] == survey_code_go_to_work_school_yes), 'TRIP_PURPOSE_GO_TO_WORK'] = 'Yes'\n",
    "\n",
    "obs_df['TRIP_PURPOSE_GO_TO_SCHOOL'] = 'No'\n",
    "obs_df.loc[(obs_df['DID_U_GO2SCHOOL[Code]'] == survey_code_go_to_work_school_yes) | (obs_df['WILL_GO2SCHOOL[Code]'] == survey_code_go_to_work_school_yes), 'TRIP_PURPOSE_GO_TO_SCHOOL'] = 'Yes'\n",
    "\n",
    "\n",
    "# These are placeholders - the questions were apparently not asked in the 2023 OBS\n",
    "obs_df['TRIP_PURPOSE_NO_OTHER_TRIP'] = 'No'\n",
    "obs_df['TRIP_PURPOSE_BUY_A_MEAL_/_BEVERAGE'] = 'No'\n",
    "obs_df['TRIP_PURPOSE_GO_TO_WORK'] = 'No'\n",
    "obs_df['TRIP_PURPOSE_VISIT_FRIEND/RELATIVE_OR_ATTEND_RELIGIOUS/SOC_EVENT'] = 'No'\n",
    "obs_df['TRIP_PURPOSE_GO_TO_SCHOOL'] = 'No'\n",
    "obs_df['TRIP_PURPOSE_GO_SHOPPING'] = 'No'\n",
    "obs_df['TRIP_PURPOSE_OTHER_ERRANDS'] = 'No'\n",
    "obs_df['TRIP_PURPOSE_OTHER'] = 'No'\n"
   ]
  },
  {
   "cell_type": "code",
   "execution_count": 69,
   "metadata": {},
   "outputs": [],
   "source": [
    "\n",
    "# Route Naming\n",
    "\n",
    "def zero_pad(a, l):\n",
    "    y = \"\"\n",
    "    for x in range(len(a), l):\n",
    "        y += '0'\n",
    "    y += a\n",
    "    return(y)\n",
    "\n",
    "obs_df['ROUTE'] = obs_df['ROUTE_SURVEYED_CODE'].apply(lambda x: zero_pad(x[6:x.rfind(\"_\")], 3))\n"
   ]
  },
  {
   "cell_type": "code",
   "execution_count": 70,
   "metadata": {},
   "outputs": [],
   "source": [
    "obs_df = obs_df[['ID', 'ROUTE_SURVEYED_CODE', 'ROUTE_SURVEYED', 'ROUTE', \n",
    "  'ROUTE_PROVIDER','ORIGIN_PLACE_TYPE_CODE','ORIGIN_PLACE_TYPE', \n",
    "                      'ACCESS_MODE_CODE','ACCESS_MODE', 'EGRESS_MODE_CODE', 'EGRESS_MODE',\n",
    "                     'DESTIN_PLACE_TYPE_CODE', 'DESTIN_PLACE_TYPE', \n",
    "                      'TIME_ON', 'TIME_PERIOD', 'TIME_ON_CODE',\n",
    "                      'TRIP_PURPOSE_NO_OTHER_TRIP',\n",
    "                     'TRIP_PURPOSE_BUY_A_MEAL_/_BEVERAGE',\n",
    "                     'TRIP_PURPOSE_GO_TO_WORK',\n",
    "                     'TRIP_PURPOSE_VISIT_FRIEND/RELATIVE_OR_ATTEND_RELIGIOUS/SOC_EVENT',\n",
    "                     'TRIP_PURPOSE_GO_TO_SCHOOL',\n",
    "                     'TRIP_PURPOSE_GO_SHOPPING',\n",
    "                     'TRIP_PURPOSE_OTHER_ERRANDS',\n",
    "                     'TRIP_PURPOSE_OTHER',\n",
    "                      'COUNT_EMPLOYED_HH_CODE', 'COUNT_EMPLOYED_HH',\n",
    "                      'COUNT_VH_HH_CODE', 'COUNT_VH_HH',\n",
    "                      'COUNT_MEMBER_HH_CODE', 'COUNT_MEMBER_HH', 'STATUS_EMPLOYMENT', 'STUDENT_STATUS',\n",
    "                    'HAS_DRIVE_LICENSE', 'AGE', 'INCOME_CODE', 'INCOME', \n",
    "                      'O_TAZ', 'D_TAZ', 'Unlinked_Weight-AE', 'Linked_Weight-AE']].copy()\n",
    "\n",
    "\n",
    "\n"
   ]
  },
  {
   "cell_type": "markdown",
   "metadata": {},
   "source": [
    "### Boardings by route\n",
    "\n",
    "\n",
    "Questions:"
   ]
  },
  {
   "cell_type": "code",
   "execution_count": 71,
   "metadata": {
    "pycharm": {
     "name": "#%%\n"
    }
   },
   "outputs": [
    {
     "data": {
      "text/html": [
       "<table border=\"1\" class=\"dataframe\">\n",
       "  <thead>\n",
       "    <tr style=\"text-align: right;\">\n",
       "      <th></th>\n",
       "      <th>Unlinked_Weight-AE</th>\n",
       "      <th>Percent</th>\n",
       "    </tr>\n",
       "    <tr>\n",
       "      <th>ROUTE_PROVIDER</th>\n",
       "      <th></th>\n",
       "      <th></th>\n",
       "    </tr>\n",
       "  </thead>\n",
       "  <tbody>\n",
       "    <tr>\n",
       "      <th>MET</th>\n",
       "      <td>144451.153</td>\n",
       "      <td>97.649</td>\n",
       "    </tr>\n",
       "    <tr>\n",
       "      <th>MNV</th>\n",
       "      <td>3477.970</td>\n",
       "      <td>2.351</td>\n",
       "    </tr>\n",
       "  </tbody>\n",
       "</table>"
      ],
      "text/plain": [
       "<IPython.core.display.HTML object>"
      ]
     },
     "metadata": {},
     "output_type": "display_data"
    }
   ],
   "source": [
    "obs_route_df = obs_df.groupby(['ROUTE_PROVIDER'])['Unlinked_Weight-AE'].agg(sum).sort_index(level='ROUTE_PROVIDER').to_frame()\n",
    "obs_route_df['Percent'] = obs_route_df['Unlinked_Weight-AE'] / obs_route_df['Unlinked_Weight-AE'].sum() * 100\n",
    "\n",
    "# print(route_dict.head())\n",
    "display(HTML(obs_route_df.to_html()))"
   ]
  },
  {
   "cell_type": "code",
   "execution_count": 72,
   "metadata": {
    "pycharm": {
     "name": "#%%\n"
    }
   },
   "outputs": [],
   "source": [
    "obs_df['ORIG_PURPOSE'] = obs_df['ORIGIN_PLACE_TYPE_CODE'].map(survey_purpose_codes)\n",
    "obs_df['DEST_PURPOSE'] = obs_df['DESTIN_PLACE_TYPE_CODE'].map(survey_purpose_codes)"
   ]
  },
  {
   "cell_type": "code",
   "execution_count": 73,
   "metadata": {},
   "outputs": [
    {
     "name": "stdout",
     "output_type": "stream",
     "text": [
      "Home             11170\n",
      "Work              3716\n",
      "Maintenance       3396\n",
      "Discretionary     1761\n",
      "University        1088\n",
      "K-12 school        147\n",
      "Name: ORIG_PURPOSE, dtype: int64\n",
      "Home             7421\n",
      "Work             5494\n",
      "Maintenance      4210\n",
      "Discretionary    2754\n",
      "University       1160\n",
      "K-12 school       239\n",
      "Name: DEST_PURPOSE, dtype: int64\n"
     ]
    }
   ],
   "source": [
    "print(obs_df['ORIG_PURPOSE'].value_counts())\n",
    "print(obs_df['DEST_PURPOSE'].value_counts())\n"
   ]
  },
  {
   "cell_type": "markdown",
   "metadata": {},
   "source": [
    "### Access mode\n",
    "\n",
    "* 1 - PNR (driving, carshare)\n",
    "* 2 - KNR (dropped off, taxi/TNC)\n",
    "* 3 - Walk (includes bike, scooter, skateboard)\n",
    "\n",
    "Questions:\n",
    "* Should taxi be TNC?\n"
   ]
  },
  {
   "cell_type": "code",
   "execution_count": 74,
   "metadata": {},
   "outputs": [],
   "source": [
    "# Code access/egress before imputation ... updated for 2023 OBS\n",
    "\n",
    "def code_access_mode(value):\n",
    "    if (value in  knr_access_modes):\n",
    "        return 'PNR'\n",
    "    elif (value in pnr_access_modes):\n",
    "        return 'PNR'\n",
    "    return 'Walk'\n",
    "\n",
    "obs_df['access_mode'] = obs_df['ACCESS_MODE_CODE'].apply(lambda value: code_access_mode(value))\n",
    "obs_df['egress_mode'] = obs_df['EGRESS_MODE_CODE'].apply(lambda value: code_access_mode(value))\n"
   ]
  },
  {
   "cell_type": "code",
   "execution_count": 75,
   "metadata": {},
   "outputs": [
    {
     "data": {
      "text/html": [
       "<div>\n",
       "<style scoped>\n",
       "    .dataframe tbody tr th:only-of-type {\n",
       "        vertical-align: middle;\n",
       "    }\n",
       "\n",
       "    .dataframe tbody tr th {\n",
       "        vertical-align: top;\n",
       "    }\n",
       "\n",
       "    .dataframe thead th {\n",
       "        text-align: right;\n",
       "    }\n",
       "</style>\n",
       "<table border=\"1\" class=\"dataframe\">\n",
       "  <thead>\n",
       "    <tr style=\"text-align: right;\">\n",
       "      <th></th>\n",
       "      <th>linked_trips</th>\n",
       "      <th>unlinked_trips</th>\n",
       "    </tr>\n",
       "    <tr>\n",
       "      <th>ACCESS_MODE</th>\n",
       "      <th></th>\n",
       "      <th></th>\n",
       "    </tr>\n",
       "  </thead>\n",
       "  <tbody>\n",
       "    <tr>\n",
       "      <th>Drove alone and parked</th>\n",
       "      <td>3367.558</td>\n",
       "      <td>3591.372</td>\n",
       "    </tr>\n",
       "    <tr>\n",
       "      <th>Drove or rode with others and parked</th>\n",
       "      <td>338.315</td>\n",
       "      <td>386.312</td>\n",
       "    </tr>\n",
       "    <tr>\n",
       "      <th>My bike / e-bike / scooter / skateboard</th>\n",
       "      <td>1329.780</td>\n",
       "      <td>1531.404</td>\n",
       "    </tr>\n",
       "    <tr>\n",
       "      <th>Other</th>\n",
       "      <td>16.862</td>\n",
       "      <td>34.624</td>\n",
       "    </tr>\n",
       "    <tr>\n",
       "      <th>Shared bike / e-bike / scooter (e.g. Nice Ride, Bird, Lime)</th>\n",
       "      <td>84.081</td>\n",
       "      <td>97.542</td>\n",
       "    </tr>\n",
       "    <tr>\n",
       "      <th>Uber, Lyft, Taxi (smartphone ride hailing)</th>\n",
       "      <td>192.546</td>\n",
       "      <td>227.503</td>\n",
       "    </tr>\n",
       "    <tr>\n",
       "      <th>Walk, jog, or roll using a mobility device (e.g. wheelchair)</th>\n",
       "      <td>117219.031</td>\n",
       "      <td>140348.450</td>\n",
       "    </tr>\n",
       "    <tr>\n",
       "      <th>Was dropped off by someone</th>\n",
       "      <td>1460.159</td>\n",
       "      <td>1711.917</td>\n",
       "    </tr>\n",
       "  </tbody>\n",
       "</table>\n",
       "</div>"
      ],
      "text/plain": [
       "                                                    linked_trips  \\\n",
       "ACCESS_MODE                                                        \n",
       "Drove alone and parked                                  3367.558   \n",
       "Drove or rode with others and parked                     338.315   \n",
       "My bike / e-bike / scooter / skateboard                 1329.780   \n",
       "Other                                                     16.862   \n",
       "Shared bike / e-bike / scooter (e.g. Nice Ride,...        84.081   \n",
       "Uber, Lyft, Taxi (smartphone ride hailing)               192.546   \n",
       "Walk, jog, or roll using a mobility device (e.g...    117219.031   \n",
       "Was dropped off by someone                              1460.159   \n",
       "\n",
       "                                                    unlinked_trips  \n",
       "ACCESS_MODE                                                         \n",
       "Drove alone and parked                                    3591.372  \n",
       "Drove or rode with others and parked                       386.312  \n",
       "My bike / e-bike / scooter / skateboard                   1531.404  \n",
       "Other                                                       34.624  \n",
       "Shared bike / e-bike / scooter (e.g. Nice Ride,...          97.542  \n",
       "Uber, Lyft, Taxi (smartphone ride hailing)                 227.503  \n",
       "Walk, jog, or roll using a mobility device (e.g...      140348.450  \n",
       "Was dropped off by someone                                1711.917  "
      ]
     },
     "execution_count": 75,
     "metadata": {},
     "output_type": "execute_result"
    }
   ],
   "source": [
    "obs_df.groupby('ACCESS_MODE').agg(linked_trips = ('Linked_Weight-AE', 'sum'), unlinked_trips = ('Unlinked_Weight-AE', 'sum'))"
   ]
  },
  {
   "cell_type": "code",
   "execution_count": 76,
   "metadata": {},
   "outputs": [
    {
     "data": {
      "text/html": [
       "<div>\n",
       "<style scoped>\n",
       "    .dataframe tbody tr th:only-of-type {\n",
       "        vertical-align: middle;\n",
       "    }\n",
       "\n",
       "    .dataframe tbody tr th {\n",
       "        vertical-align: top;\n",
       "    }\n",
       "\n",
       "    .dataframe thead th {\n",
       "        text-align: right;\n",
       "    }\n",
       "</style>\n",
       "<table border=\"1\" class=\"dataframe\">\n",
       "  <thead>\n",
       "    <tr style=\"text-align: right;\">\n",
       "      <th></th>\n",
       "      <th>linked_trips</th>\n",
       "      <th>unlinked_trips</th>\n",
       "    </tr>\n",
       "    <tr>\n",
       "      <th>EGRESS_MODE</th>\n",
       "      <th></th>\n",
       "      <th></th>\n",
       "    </tr>\n",
       "  </thead>\n",
       "  <tbody>\n",
       "    <tr>\n",
       "      <th>Be picked up by someone</th>\n",
       "      <td>823.924</td>\n",
       "      <td>944.089</td>\n",
       "    </tr>\n",
       "    <tr>\n",
       "      <th>Get in a parked vehicle &amp; drive alone</th>\n",
       "      <td>3578.457</td>\n",
       "      <td>3624.795</td>\n",
       "    </tr>\n",
       "    <tr>\n",
       "      <th>Get in a parked vehicle &amp; drive/ride with others</th>\n",
       "      <td>396.294</td>\n",
       "      <td>420.897</td>\n",
       "    </tr>\n",
       "    <tr>\n",
       "      <th>My bike / e-bike / scooter / skateboard</th>\n",
       "      <td>1315.844</td>\n",
       "      <td>1485.766</td>\n",
       "    </tr>\n",
       "    <tr>\n",
       "      <th>Other</th>\n",
       "      <td>9.721</td>\n",
       "      <td>23.784</td>\n",
       "    </tr>\n",
       "    <tr>\n",
       "      <th>Shared bike / e-bike / scooter (e.g. Nice Ride, Bird, Lime)</th>\n",
       "      <td>111.617</td>\n",
       "      <td>115.852</td>\n",
       "    </tr>\n",
       "    <tr>\n",
       "      <th>Uber, Lyft, Taxi (smartphone ride hailing)</th>\n",
       "      <td>132.679</td>\n",
       "      <td>173.950</td>\n",
       "    </tr>\n",
       "    <tr>\n",
       "      <th>Walk, jog, or roll using a mobility device (e.g. wheelchair)</th>\n",
       "      <td>117639.795</td>\n",
       "      <td>141139.992</td>\n",
       "    </tr>\n",
       "  </tbody>\n",
       "</table>\n",
       "</div>"
      ],
      "text/plain": [
       "                                                    linked_trips  \\\n",
       "EGRESS_MODE                                                        \n",
       "Be picked up by someone                                  823.924   \n",
       "Get in a parked vehicle & drive alone                   3578.457   \n",
       "Get in a parked vehicle & drive/ride with others         396.294   \n",
       "My bike / e-bike / scooter / skateboard                 1315.844   \n",
       "Other                                                      9.721   \n",
       "Shared bike / e-bike / scooter (e.g. Nice Ride,...       111.617   \n",
       "Uber, Lyft, Taxi (smartphone ride hailing)               132.679   \n",
       "Walk, jog, or roll using a mobility device (e.g...    117639.795   \n",
       "\n",
       "                                                    unlinked_trips  \n",
       "EGRESS_MODE                                                         \n",
       "Be picked up by someone                                    944.089  \n",
       "Get in a parked vehicle & drive alone                     3624.795  \n",
       "Get in a parked vehicle & drive/ride with others           420.897  \n",
       "My bike / e-bike / scooter / skateboard                   1485.766  \n",
       "Other                                                       23.784  \n",
       "Shared bike / e-bike / scooter (e.g. Nice Ride,...         115.852  \n",
       "Uber, Lyft, Taxi (smartphone ride hailing)                 173.950  \n",
       "Walk, jog, or roll using a mobility device (e.g...      141139.992  "
      ]
     },
     "execution_count": 76,
     "metadata": {},
     "output_type": "execute_result"
    }
   ],
   "source": [
    "obs_df.groupby('EGRESS_MODE').agg(linked_trips = ('Linked_Weight-AE', 'sum'), unlinked_trips = ('Unlinked_Weight-AE', 'sum'))"
   ]
  },
  {
   "cell_type": "code",
   "execution_count": 77,
   "metadata": {},
   "outputs": [
    {
     "data": {
      "text/html": [
       "<div>\n",
       "<style scoped>\n",
       "    .dataframe tbody tr th:only-of-type {\n",
       "        vertical-align: middle;\n",
       "    }\n",
       "\n",
       "    .dataframe tbody tr th {\n",
       "        vertical-align: top;\n",
       "    }\n",
       "\n",
       "    .dataframe thead th {\n",
       "        text-align: right;\n",
       "    }\n",
       "</style>\n",
       "<table border=\"1\" class=\"dataframe\">\n",
       "  <thead>\n",
       "    <tr style=\"text-align: right;\">\n",
       "      <th>EGRESS_MODE</th>\n",
       "      <th>Be picked up by someone</th>\n",
       "      <th>Get in a parked vehicle &amp; drive alone</th>\n",
       "      <th>Get in a parked vehicle &amp; drive/ride with others</th>\n",
       "      <th>My bike / e-bike / scooter / skateboard</th>\n",
       "      <th>Other</th>\n",
       "      <th>Shared bike / e-bike / scooter (e.g. Nice Ride, Bird, Lime)</th>\n",
       "      <th>Uber, Lyft, Taxi (smartphone ride hailing)</th>\n",
       "      <th>Walk, jog, or roll using a mobility device (e.g. wheelchair)</th>\n",
       "    </tr>\n",
       "    <tr>\n",
       "      <th>ACCESS_MODE</th>\n",
       "      <th></th>\n",
       "      <th></th>\n",
       "      <th></th>\n",
       "      <th></th>\n",
       "      <th></th>\n",
       "      <th></th>\n",
       "      <th></th>\n",
       "      <th></th>\n",
       "    </tr>\n",
       "  </thead>\n",
       "  <tbody>\n",
       "    <tr>\n",
       "      <th>Drove alone and parked</th>\n",
       "      <td>NaN</td>\n",
       "      <td>87.287</td>\n",
       "      <td>15.513</td>\n",
       "      <td>21.025</td>\n",
       "      <td>NaN</td>\n",
       "      <td>NaN</td>\n",
       "      <td>NaN</td>\n",
       "      <td>3243.733</td>\n",
       "    </tr>\n",
       "    <tr>\n",
       "      <th>Drove or rode with others and parked</th>\n",
       "      <td>NaN</td>\n",
       "      <td>14.924</td>\n",
       "      <td>6.018</td>\n",
       "      <td>19.915</td>\n",
       "      <td>NaN</td>\n",
       "      <td>NaN</td>\n",
       "      <td>NaN</td>\n",
       "      <td>297.458</td>\n",
       "    </tr>\n",
       "    <tr>\n",
       "      <th>My bike / e-bike / scooter / skateboard</th>\n",
       "      <td>NaN</td>\n",
       "      <td>NaN</td>\n",
       "      <td>NaN</td>\n",
       "      <td>762.604</td>\n",
       "      <td>NaN</td>\n",
       "      <td>4.471</td>\n",
       "      <td>NaN</td>\n",
       "      <td>562.705</td>\n",
       "    </tr>\n",
       "    <tr>\n",
       "      <th>Other</th>\n",
       "      <td>NaN</td>\n",
       "      <td>NaN</td>\n",
       "      <td>NaN</td>\n",
       "      <td>NaN</td>\n",
       "      <td>NaN</td>\n",
       "      <td>NaN</td>\n",
       "      <td>NaN</td>\n",
       "      <td>16.862</td>\n",
       "    </tr>\n",
       "    <tr>\n",
       "      <th>Shared bike / e-bike / scooter (e.g. Nice Ride, Bird, Lime)</th>\n",
       "      <td>NaN</td>\n",
       "      <td>NaN</td>\n",
       "      <td>NaN</td>\n",
       "      <td>2.772</td>\n",
       "      <td>NaN</td>\n",
       "      <td>18.334</td>\n",
       "      <td>NaN</td>\n",
       "      <td>62.975</td>\n",
       "    </tr>\n",
       "    <tr>\n",
       "      <th>Uber, Lyft, Taxi (smartphone ride hailing)</th>\n",
       "      <td>3.732</td>\n",
       "      <td>6.694</td>\n",
       "      <td>NaN</td>\n",
       "      <td>NaN</td>\n",
       "      <td>NaN</td>\n",
       "      <td>NaN</td>\n",
       "      <td>11.891</td>\n",
       "      <td>170.229</td>\n",
       "    </tr>\n",
       "    <tr>\n",
       "      <th>Walk, jog, or roll using a mobility device (e.g. wheelchair)</th>\n",
       "      <td>787.351</td>\n",
       "      <td>3464.405</td>\n",
       "      <td>372.167</td>\n",
       "      <td>509.528</td>\n",
       "      <td>9.721</td>\n",
       "      <td>88.812</td>\n",
       "      <td>120.788</td>\n",
       "      <td>111866.259</td>\n",
       "    </tr>\n",
       "    <tr>\n",
       "      <th>Was dropped off by someone</th>\n",
       "      <td>32.841</td>\n",
       "      <td>5.147</td>\n",
       "      <td>2.596</td>\n",
       "      <td>NaN</td>\n",
       "      <td>NaN</td>\n",
       "      <td>NaN</td>\n",
       "      <td>NaN</td>\n",
       "      <td>1419.575</td>\n",
       "    </tr>\n",
       "  </tbody>\n",
       "</table>\n",
       "</div>"
      ],
      "text/plain": [
       "EGRESS_MODE                                         Be picked up by someone  \\\n",
       "ACCESS_MODE                                                                   \n",
       "Drove alone and parked                                                  NaN   \n",
       "Drove or rode with others and parked                                    NaN   \n",
       "My bike / e-bike / scooter / skateboard                                 NaN   \n",
       "Other                                                                   NaN   \n",
       "Shared bike / e-bike / scooter (e.g. Nice Ride,...                      NaN   \n",
       "Uber, Lyft, Taxi (smartphone ride hailing)                            3.732   \n",
       "Walk, jog, or roll using a mobility device (e.g...                  787.351   \n",
       "Was dropped off by someone                                           32.841   \n",
       "\n",
       "EGRESS_MODE                                         Get in a parked vehicle & drive alone  \\\n",
       "ACCESS_MODE                                                                                 \n",
       "Drove alone and parked                                                             87.287   \n",
       "Drove or rode with others and parked                                               14.924   \n",
       "My bike / e-bike / scooter / skateboard                                               NaN   \n",
       "Other                                                                                 NaN   \n",
       "Shared bike / e-bike / scooter (e.g. Nice Ride,...                                    NaN   \n",
       "Uber, Lyft, Taxi (smartphone ride hailing)                                          6.694   \n",
       "Walk, jog, or roll using a mobility device (e.g...                               3464.405   \n",
       "Was dropped off by someone                                                          5.147   \n",
       "\n",
       "EGRESS_MODE                                         Get in a parked vehicle & drive/ride with others  \\\n",
       "ACCESS_MODE                                                                                            \n",
       "Drove alone and parked                                                                        15.513   \n",
       "Drove or rode with others and parked                                                           6.018   \n",
       "My bike / e-bike / scooter / skateboard                                                          NaN   \n",
       "Other                                                                                            NaN   \n",
       "Shared bike / e-bike / scooter (e.g. Nice Ride,...                                               NaN   \n",
       "Uber, Lyft, Taxi (smartphone ride hailing)                                                       NaN   \n",
       "Walk, jog, or roll using a mobility device (e.g...                                           372.167   \n",
       "Was dropped off by someone                                                                     2.596   \n",
       "\n",
       "EGRESS_MODE                                         My bike / e-bike / scooter / skateboard  \\\n",
       "ACCESS_MODE                                                                                   \n",
       "Drove alone and parked                                                               21.025   \n",
       "Drove or rode with others and parked                                                 19.915   \n",
       "My bike / e-bike / scooter / skateboard                                             762.604   \n",
       "Other                                                                                   NaN   \n",
       "Shared bike / e-bike / scooter (e.g. Nice Ride,...                                    2.772   \n",
       "Uber, Lyft, Taxi (smartphone ride hailing)                                              NaN   \n",
       "Walk, jog, or roll using a mobility device (e.g...                                  509.528   \n",
       "Was dropped off by someone                                                              NaN   \n",
       "\n",
       "EGRESS_MODE                                         Other  \\\n",
       "ACCESS_MODE                                                 \n",
       "Drove alone and parked                                NaN   \n",
       "Drove or rode with others and parked                  NaN   \n",
       "My bike / e-bike / scooter / skateboard               NaN   \n",
       "Other                                                 NaN   \n",
       "Shared bike / e-bike / scooter (e.g. Nice Ride,...    NaN   \n",
       "Uber, Lyft, Taxi (smartphone ride hailing)            NaN   \n",
       "Walk, jog, or roll using a mobility device (e.g...  9.721   \n",
       "Was dropped off by someone                            NaN   \n",
       "\n",
       "EGRESS_MODE                                         Shared bike / e-bike / scooter (e.g. Nice Ride, Bird, Lime)  \\\n",
       "ACCESS_MODE                                                                                                       \n",
       "Drove alone and parked                                                                            NaN             \n",
       "Drove or rode with others and parked                                                              NaN             \n",
       "My bike / e-bike / scooter / skateboard                                                         4.471             \n",
       "Other                                                                                             NaN             \n",
       "Shared bike / e-bike / scooter (e.g. Nice Ride,...                                             18.334             \n",
       "Uber, Lyft, Taxi (smartphone ride hailing)                                                        NaN             \n",
       "Walk, jog, or roll using a mobility device (e.g...                                             88.812             \n",
       "Was dropped off by someone                                                                        NaN             \n",
       "\n",
       "EGRESS_MODE                                         Uber, Lyft, Taxi (smartphone ride hailing)  \\\n",
       "ACCESS_MODE                                                                                      \n",
       "Drove alone and parked                                                                     NaN   \n",
       "Drove or rode with others and parked                                                       NaN   \n",
       "My bike / e-bike / scooter / skateboard                                                    NaN   \n",
       "Other                                                                                      NaN   \n",
       "Shared bike / e-bike / scooter (e.g. Nice Ride,...                                         NaN   \n",
       "Uber, Lyft, Taxi (smartphone ride hailing)                                              11.891   \n",
       "Walk, jog, or roll using a mobility device (e.g...                                     120.788   \n",
       "Was dropped off by someone                                                                 NaN   \n",
       "\n",
       "EGRESS_MODE                                         Walk, jog, or roll using a mobility device (e.g. wheelchair)  \n",
       "ACCESS_MODE                                                                                                       \n",
       "Drove alone and parked                                                                       3243.733             \n",
       "Drove or rode with others and parked                                                          297.458             \n",
       "My bike / e-bike / scooter / skateboard                                                       562.705             \n",
       "Other                                                                                          16.862             \n",
       "Shared bike / e-bike / scooter (e.g. Nice Ride,...                                             62.975             \n",
       "Uber, Lyft, Taxi (smartphone ride hailing)                                                    170.229             \n",
       "Walk, jog, or roll using a mobility device (e.g...                                         111866.259             \n",
       "Was dropped off by someone                                                                   1419.575             "
      ]
     },
     "execution_count": 77,
     "metadata": {},
     "output_type": "execute_result"
    }
   ],
   "source": [
    "obs_df.groupby(['ACCESS_MODE', 'EGRESS_MODE']).agg(linked_trips = ('Linked_Weight-AE', 'sum')).reset_index().pivot(index = 'ACCESS_MODE', columns = 'EGRESS_MODE', values = 'linked_trips')"
   ]
  },
  {
   "cell_type": "code",
   "execution_count": 78,
   "metadata": {
    "pycharm": {
     "name": "#%%\n"
    },
    "scrolled": false
   },
   "outputs": [
    {
     "data": {
      "text/html": [
       "<div>\n",
       "<style scoped>\n",
       "    .dataframe tbody tr th:only-of-type {\n",
       "        vertical-align: middle;\n",
       "    }\n",
       "\n",
       "    .dataframe tbody tr th {\n",
       "        vertical-align: top;\n",
       "    }\n",
       "\n",
       "    .dataframe thead th {\n",
       "        text-align: right;\n",
       "    }\n",
       "</style>\n",
       "<table border=\"1\" class=\"dataframe\">\n",
       "  <thead>\n",
       "    <tr style=\"text-align: right;\">\n",
       "      <th>egress_mode</th>\n",
       "      <th>PNR</th>\n",
       "      <th>Walk</th>\n",
       "      <th>All</th>\n",
       "      <th>Percent</th>\n",
       "    </tr>\n",
       "    <tr>\n",
       "      <th>access_mode</th>\n",
       "      <th></th>\n",
       "      <th></th>\n",
       "      <th></th>\n",
       "      <th></th>\n",
       "    </tr>\n",
       "  </thead>\n",
       "  <tbody>\n",
       "    <tr>\n",
       "      <th>PNR</th>\n",
       "      <td>199.530</td>\n",
       "      <td>5717.570</td>\n",
       "      <td>5917.100</td>\n",
       "      <td>4.000</td>\n",
       "    </tr>\n",
       "    <tr>\n",
       "      <th>Walk</th>\n",
       "      <td>4964.200</td>\n",
       "      <td>137047.820</td>\n",
       "      <td>142012.020</td>\n",
       "      <td>96.000</td>\n",
       "    </tr>\n",
       "    <tr>\n",
       "      <th>All</th>\n",
       "      <td>5163.730</td>\n",
       "      <td>142765.390</td>\n",
       "      <td>147929.120</td>\n",
       "      <td>100.000</td>\n",
       "    </tr>\n",
       "    <tr>\n",
       "      <th>Percent</th>\n",
       "      <td>3.490</td>\n",
       "      <td>96.510</td>\n",
       "      <td>100.000</td>\n",
       "      <td>0.000</td>\n",
       "    </tr>\n",
       "  </tbody>\n",
       "</table>\n",
       "</div>"
      ],
      "text/plain": [
       "egress_mode      PNR       Walk        All  Percent\n",
       "access_mode                                        \n",
       "PNR          199.530   5717.570   5917.100    4.000\n",
       "Walk        4964.200 137047.820 142012.020   96.000\n",
       "All         5163.730 142765.390 147929.120  100.000\n",
       "Percent        3.490     96.510    100.000    0.000"
      ]
     },
     "execution_count": 78,
     "metadata": {},
     "output_type": "execute_result"
    }
   ],
   "source": [
    "orig_dest_ct = pd.crosstab(obs_df['access_mode'], obs_df['egress_mode'], values=obs_df['Unlinked_Weight-AE'], aggfunc=sum, margins=True)\n",
    "orig_dest_ct = add_percentage_to_crosstab(orig_dest_ct)\n",
    "orig_dest_ct.fillna(0, inplace=True)\n",
    "orig_dest_ct.applymap(lambda x: round(x,2))\n"
   ]
  },
  {
   "cell_type": "markdown",
   "metadata": {},
   "source": [
    "### Auto Sufficiency\n",
    "* 0 for households with no autos\n",
    "* 1 for households that have 0 < autos < number of workers\n",
    "* 2 for households that have 0 < autos >= number of workers\n",
    "\n",
    "Questions:\n",
    "* Auto suff for Metra was imputed in R based on CMAP data\n",
    "  * Mainly resulted in auto suff \"vehicles greater than or equal to workers\"\n",
    "  * Does that make sense for commuter rail?\n",
    "* Some missing hh employed or hh veh in CTA"
   ]
  },
  {
   "cell_type": "code",
   "execution_count": 79,
   "metadata": {},
   "outputs": [],
   "source": [
    "obs_df['auto_suff'] = -1\n",
    "\n"
   ]
  },
  {
   "cell_type": "code",
   "execution_count": 80,
   "metadata": {},
   "outputs": [],
   "source": [
    "\n",
    "obs_df.loc[obs_df.COUNT_VH_HH_CODE != '10P', 'hh_veh'] = obs_df.COUNT_VH_HH_CODE\n",
    "obs_df.loc[obs_df.COUNT_VH_HH_CODE == '10P','hh_veh'] = 10\n",
    "obs_df['hh_veh'] = pd.to_numeric(obs_df['hh_veh'])\n",
    "\n",
    "obs_df.loc[pd.isna(obs_df.COUNT_EMPLOYED_HH_CODE), 'hh_employed'] = 0\n",
    "\n",
    "obs_df['hh_employed'] = pd.to_numeric(obs_df['COUNT_EMPLOYED_HH_CODE'])\n",
    "obs_df.loc[obs_df.hh_veh < obs_df.hh_employed, 'auto_suff'] = 1\n",
    "obs_df.loc[obs_df.hh_veh >= obs_df.hh_employed, 'auto_suff'] = 2\n",
    "obs_df.loc[obs_df.hh_veh == 0, 'auto_suff'] = 0\n",
    "\n"
   ]
  },
  {
   "cell_type": "code",
   "execution_count": 81,
   "metadata": {},
   "outputs": [
    {
     "name": "stdout",
     "output_type": "stream",
     "text": [
      "0   0.528\n",
      "1   0.241\n",
      "2   0.231\n",
      "Name: auto_suff, dtype: float64\n",
      "0   0.528\n",
      "1   0.241\n",
      "2   0.231\n",
      "Name: auto_suff, dtype: float64\n",
      "0     11236\n",
      "1      5759\n",
      "2      3073\n",
      "3       803\n",
      "4       274\n",
      "5        68\n",
      "6        26\n",
      "10       24\n",
      "7        10\n",
      "9         3\n",
      "8         2\n",
      "Name: hh_veh, dtype: int64\n",
      "1     7967\n",
      "2     6459\n",
      "0     3509\n",
      "3     2159\n",
      "4      756\n",
      "5      238\n",
      "6       75\n",
      "10      56\n",
      "7       36\n",
      "8       18\n",
      "9        5\n",
      "Name: hh_employed, dtype: int64\n"
     ]
    }
   ],
   "source": [
    "print(obs_df['auto_suff'].value_counts(normalize = True))\n",
    "print(obs_df[obs_df['auto_suff'] >=0]['auto_suff'].value_counts(normalize = True))\n",
    "print(obs_df['hh_veh'].value_counts())\n",
    "print(obs_df['hh_employed'].value_counts())\n",
    "\n"
   ]
  },
  {
   "cell_type": "code",
   "execution_count": 82,
   "metadata": {},
   "outputs": [
    {
     "name": "stdout",
     "output_type": "stream",
     "text": [
      "[]\n"
     ]
    }
   ],
   "source": [
    "# impute autosuff based on overall distribution\n",
    "\n",
    "# 0    0.342\n",
    "# 1    0.272\n",
    "# 2    0.386\n",
    "random.seed(413)\n",
    "\n",
    "m = obs_df[obs_df['auto_suff']<0].shape[0]\n",
    "\n",
    "s = np.random.choice([0, 1, 2],\n",
    "                     p=[ 0.342, 0.272,0.386], \n",
    "                     size = m)\n",
    "print(s)\n",
    "\n",
    "obs_df.loc[obs_df['auto_suff'] < 0, 'auto_suff'] = s"
   ]
  },
  {
   "cell_type": "code",
   "execution_count": 83,
   "metadata": {},
   "outputs": [
    {
     "name": "stdout",
     "output_type": "stream",
     "text": [
      "147929.12313604102\n",
      "124008.33261468509\n",
      "scaled weights\n",
      "147929.12313604102\n",
      "124008.33261468509\n"
     ]
    }
   ],
   "source": [
    "# # Scale to boardings in oct 2018\n",
    "# pd.set_option('display.max_rows', 130)\n",
    "\n",
    "# metcouncil_boardings = ...\n",
    "\n",
    "# Assume updated weights will have right boarding sum?\n",
    "# Scale missing purposes\n",
    "\n",
    "\n",
    "weight_sum = obs_df['Unlinked_Weight-AE'].sum()\n",
    "linked_weight_sum =  obs_df['Linked_Weight-AE'].sum()\n",
    "print(weight_sum)\n",
    "print(linked_weight_sum)\n",
    "obs_df = obs_df[~obs_df['ORIGIN_PLACE_TYPE_CODE'].isnull()]\n",
    "\n",
    "weight_sum_2 =  obs_df['Unlinked_Weight-AE'].sum()\n",
    "linked_weight_sum_2 =  obs_df['Linked_Weight-AE'].sum()\n",
    "\n",
    "obs_df['unlinked_weight_scaled'] = obs_df['Unlinked_Weight-AE'] * (weight_sum/weight_sum_2)\n",
    "obs_df['linked_weight_scaled'] = obs_df['Linked_Weight-AE'] * (linked_weight_sum/linked_weight_sum_2)\n",
    "print('scaled weights')\n",
    "print(obs_df.unlinked_weight_scaled.sum())\n",
    "print(obs_df.linked_weight_scaled.sum())\n"
   ]
  },
  {
   "cell_type": "code",
   "execution_count": 84,
   "metadata": {},
   "outputs": [
    {
     "data": {
      "text/html": [
       "<div>\n",
       "<style scoped>\n",
       "    .dataframe tbody tr th:only-of-type {\n",
       "        vertical-align: middle;\n",
       "    }\n",
       "\n",
       "    .dataframe tbody tr th {\n",
       "        vertical-align: top;\n",
       "    }\n",
       "\n",
       "    .dataframe thead th {\n",
       "        text-align: right;\n",
       "    }\n",
       "</style>\n",
       "<table border=\"1\" class=\"dataframe\">\n",
       "  <thead>\n",
       "    <tr style=\"text-align: right;\">\n",
       "      <th></th>\n",
       "      <th>linked_trips</th>\n",
       "      <th>unlinked_trips</th>\n",
       "    </tr>\n",
       "    <tr>\n",
       "      <th>auto_suff</th>\n",
       "      <th></th>\n",
       "      <th></th>\n",
       "    </tr>\n",
       "  </thead>\n",
       "  <tbody>\n",
       "    <tr>\n",
       "      <th>0</th>\n",
       "      <td>64652.452</td>\n",
       "      <td>78737.710</td>\n",
       "    </tr>\n",
       "    <tr>\n",
       "      <th>1</th>\n",
       "      <td>28872.781</td>\n",
       "      <td>34422.103</td>\n",
       "    </tr>\n",
       "    <tr>\n",
       "      <th>2</th>\n",
       "      <td>30483.100</td>\n",
       "      <td>34769.310</td>\n",
       "    </tr>\n",
       "  </tbody>\n",
       "</table>\n",
       "</div>"
      ],
      "text/plain": [
       "           linked_trips  unlinked_trips\n",
       "auto_suff                              \n",
       "0             64652.452       78737.710\n",
       "1             28872.781       34422.103\n",
       "2             30483.100       34769.310"
      ]
     },
     "execution_count": 84,
     "metadata": {},
     "output_type": "execute_result"
    }
   ],
   "source": [
    "obs_df.groupby('auto_suff').agg(linked_trips = ('linked_weight_scaled', sum), unlinked_trips = ('unlinked_weight_scaled', sum))"
   ]
  },
  {
   "cell_type": "markdown",
   "metadata": {},
   "source": [
    "#### Impute tour purposes for non-work tours:\n",
    "\n",
    "Impute work tours/sub-tours and joint tour purposes where applicable using time of day.\n",
    "\n",
    "* Impute work tours from maintenance/discretionary tours \n",
    "* Impute work sub-tours where neither end is home\n",
    "* Impute joint tours from maintenance/discretionary tours that remain\n",
    "\n",
    "Metra is only first half of the day, so have to do it on regular metra dataset before combining\n",
    "\n"
   ]
  },
  {
   "cell_type": "code",
   "execution_count": 85,
   "metadata": {},
   "outputs": [
    {
     "data": {
      "text/plain": [
       "7:00 am - 8:00 am      1887\n",
       "8:00 am - 9:00 am      1783\n",
       "9:01 am - 10:00 am     1588\n",
       "4:00 pm - 5:00 pm      1578\n",
       "3:01 pm - 4:00 pm      1551\n",
       "10:00 am - 11:00 am    1517\n",
       "11:00 am - 12:00 pm    1441\n",
       "2:00 pm - 3:00 pm      1428\n",
       "1:00 pm - 2:00 pm      1382\n",
       "5:00 pm - 6:00 pm      1260\n",
       "12:00 pm - 1:00 pm     1205\n",
       "7:00 pm - 8:00 pm      1161\n",
       "6:00 am - 7:00 am      1139\n",
       "8:00 pm - 9:00 pm       793\n",
       "6:31 pm - 7:00 pm       706\n",
       "6:00 pm - 6:30 pm       625\n",
       "After 9:00 pm           136\n",
       "Before 6:00 am           98\n",
       "Name: TIME_ON, dtype: int64"
      ]
     },
     "execution_count": 85,
     "metadata": {},
     "output_type": "execute_result"
    }
   ],
   "source": [
    "obs_df.TIME_ON.value_counts()\n",
    "# metra_df.Time.value_counts()"
   ]
  },
  {
   "cell_type": "markdown",
   "metadata": {},
   "source": [
    "### Tour Purpose\n",
    "\n",
    "* Work (home-based-work or work-based tour)\n",
    "* School\n",
    "* Other - use a hierarchy\n"
   ]
  },
  {
   "cell_type": "code",
   "execution_count": 86,
   "metadata": {
    "pycharm": {
     "name": "#%%\n"
    },
    "scrolled": true
   },
   "outputs": [
    {
     "data": {
      "text/html": [
       "<div>\n",
       "<style scoped>\n",
       "    .dataframe tbody tr th:only-of-type {\n",
       "        vertical-align: middle;\n",
       "    }\n",
       "\n",
       "    .dataframe tbody tr th {\n",
       "        vertical-align: top;\n",
       "    }\n",
       "\n",
       "    .dataframe thead th {\n",
       "        text-align: right;\n",
       "    }\n",
       "</style>\n",
       "<table border=\"1\" class=\"dataframe\">\n",
       "  <thead>\n",
       "    <tr style=\"text-align: right;\">\n",
       "      <th>DEST_PURPOSE</th>\n",
       "      <th>Discretionary</th>\n",
       "      <th>Home</th>\n",
       "      <th>K-12 school</th>\n",
       "      <th>Maintenance</th>\n",
       "      <th>University</th>\n",
       "      <th>Work</th>\n",
       "      <th>All</th>\n",
       "    </tr>\n",
       "    <tr>\n",
       "      <th>ORIG_PURPOSE</th>\n",
       "      <th></th>\n",
       "      <th></th>\n",
       "      <th></th>\n",
       "      <th></th>\n",
       "      <th></th>\n",
       "      <th></th>\n",
       "      <th></th>\n",
       "    </tr>\n",
       "  </thead>\n",
       "  <tbody>\n",
       "    <tr>\n",
       "      <th>Discretionary</th>\n",
       "      <td>1.370</td>\n",
       "      <td>4.770</td>\n",
       "      <td>0.020</td>\n",
       "      <td>1.120</td>\n",
       "      <td>0.380</td>\n",
       "      <td>0.490</td>\n",
       "      <td>8.150</td>\n",
       "    </tr>\n",
       "    <tr>\n",
       "      <th>Home</th>\n",
       "      <td>8.190</td>\n",
       "      <td>0.000</td>\n",
       "      <td>0.870</td>\n",
       "      <td>12.670</td>\n",
       "      <td>6.560</td>\n",
       "      <td>20.340</td>\n",
       "      <td>48.630</td>\n",
       "    </tr>\n",
       "    <tr>\n",
       "      <th>K-12 school</th>\n",
       "      <td>0.040</td>\n",
       "      <td>0.660</td>\n",
       "      <td>0.000</td>\n",
       "      <td>0.040</td>\n",
       "      <td>0.000</td>\n",
       "      <td>0.070</td>\n",
       "      <td>0.810</td>\n",
       "    </tr>\n",
       "    <tr>\n",
       "      <th>Maintenance</th>\n",
       "      <td>1.900</td>\n",
       "      <td>10.540</td>\n",
       "      <td>0.000</td>\n",
       "      <td>2.460</td>\n",
       "      <td>0.110</td>\n",
       "      <td>0.420</td>\n",
       "      <td>15.430</td>\n",
       "    </tr>\n",
       "    <tr>\n",
       "      <th>University</th>\n",
       "      <td>0.460</td>\n",
       "      <td>6.530</td>\n",
       "      <td>0.020</td>\n",
       "      <td>0.320</td>\n",
       "      <td>1.210</td>\n",
       "      <td>0.150</td>\n",
       "      <td>8.690</td>\n",
       "    </tr>\n",
       "    <tr>\n",
       "      <th>Work</th>\n",
       "      <td>0.790</td>\n",
       "      <td>15.900</td>\n",
       "      <td>0.010</td>\n",
       "      <td>1.190</td>\n",
       "      <td>0.160</td>\n",
       "      <td>0.270</td>\n",
       "      <td>18.300</td>\n",
       "    </tr>\n",
       "    <tr>\n",
       "      <th>All</th>\n",
       "      <td>12.740</td>\n",
       "      <td>38.390</td>\n",
       "      <td>0.910</td>\n",
       "      <td>17.800</td>\n",
       "      <td>8.420</td>\n",
       "      <td>21.740</td>\n",
       "      <td>100.000</td>\n",
       "    </tr>\n",
       "  </tbody>\n",
       "</table>\n",
       "</div>"
      ],
      "text/plain": [
       "DEST_PURPOSE   Discretionary   Home  K-12 school  Maintenance  University  \\\n",
       "ORIG_PURPOSE                                                                \n",
       "Discretionary          1.370  4.770        0.020        1.120       0.380   \n",
       "Home                   8.190  0.000        0.870       12.670       6.560   \n",
       "K-12 school            0.040  0.660        0.000        0.040       0.000   \n",
       "Maintenance            1.900 10.540        0.000        2.460       0.110   \n",
       "University             0.460  6.530        0.020        0.320       1.210   \n",
       "Work                   0.790 15.900        0.010        1.190       0.160   \n",
       "All                   12.740 38.390        0.910       17.800       8.420   \n",
       "\n",
       "DEST_PURPOSE    Work     All  \n",
       "ORIG_PURPOSE                  \n",
       "Discretionary  0.490   8.150  \n",
       "Home          20.340  48.630  \n",
       "K-12 school    0.070   0.810  \n",
       "Maintenance    0.420  15.430  \n",
       "University     0.150   8.690  \n",
       "Work           0.270  18.300  \n",
       "All           21.740 100.000  "
      ]
     },
     "execution_count": 86,
     "metadata": {},
     "output_type": "execute_result"
    }
   ],
   "source": [
    "purpose_ct = pd.crosstab(\n",
    "    obs_df['ORIG_PURPOSE'],\n",
    "    obs_df['DEST_PURPOSE'],\n",
    "    values=obs_df['unlinked_weight_scaled'],\n",
    "    aggfunc=sum,\n",
    "    normalize='all',\n",
    "    margins=True)*100\n",
    "# purpose_ct = add_percentage_to_crosstab(purpose_ct)\n",
    "# purpose_ct.fillna(0, inplace=True)\n",
    "purpose_ct.applymap(lambda x: round(x,2))"
   ]
  },
  {
   "cell_type": "code",
   "execution_count": 87,
   "metadata": {
    "pycharm": {
     "name": "#%%\n"
    }
   },
   "outputs": [],
   "source": [
    "def determine_tour_purpose(orig_purpose, dest_purpose):\n",
    "    if (orig_purpose == 'Work') & (dest_purpose == 'Work'):\n",
    "        return 'Work sub-tour'\n",
    "    if (orig_purpose == 'Work') | (dest_purpose == 'Work'):\n",
    "        return 'Work'\n",
    "    if (orig_purpose == 'Other work') | (dest_purpose == 'Other work'):\n",
    "        return 'Maintenance'\n",
    "    if (orig_purpose == 'University') | (dest_purpose == 'University'):\n",
    "        return 'University'\n",
    "    if (orig_purpose == 'K-12 school') | (dest_purpose == 'K-12 school'):\n",
    "        return 'School'\n",
    "    if (orig_purpose == 'Maintenance') | (dest_purpose == 'Maintenance'):\n",
    "        return 'Maintenance'\n",
    "    if (orig_purpose == 'Discretionary') | (dest_purpose == 'Discretionary'):\n",
    "        return 'Discretionary'\n",
    "    if (orig_purpose == 'Home') & (dest_purpose != 'Home'):\n",
    "        return dest_purpose\n",
    "    if (orig_purpose != 'Home') & (dest_purpose == 'Home'):\n",
    "        return orig_purpose\n",
    "    if (orig_purpose == 'Home') & (dest_purpose == 'Home'):\n",
    "        return 'Discretionary'\n",
    "    if orig_purpose == dest_purpose:\n",
    "        return orig_purpose\n",
    "    return dest_purpose\n",
    "\n",
    "obs_df['TOUR_PURPOSE'] = obs_df.apply(lambda row: determine_tour_purpose(row['ORIG_PURPOSE'], row['DEST_PURPOSE']), axis=1)\n",
    "\n",
    "# home-home as other discrectionary\n",
    "# Social/visiting vs. other discretionary\n",
    "# Recreation & sporting in \"other discretionary\"\n"
   ]
  },
  {
   "cell_type": "code",
   "execution_count": 88,
   "metadata": {
    "pycharm": {
     "name": "#%%\n"
    },
    "scrolled": true
   },
   "outputs": [
    {
     "data": {
      "text/plain": [
       "TOUR_PURPOSE\n",
       "Discretionary   17378.050\n",
       "Maintenance     35616.736\n",
       "School           2039.257\n",
       "University      21664.987\n",
       "Work            46958.448\n",
       "Work sub-tour     350.854\n",
       "Name: linked_weight_scaled, dtype: float64"
      ]
     },
     "execution_count": 88,
     "metadata": {},
     "output_type": "execute_result"
    }
   ],
   "source": [
    "# use trip weights instead\n",
    "obs_df['TOUR_PURPOSE'].value_counts(dropna=False)\n",
    "obs_df.groupby(['TOUR_PURPOSE'])['linked_weight_scaled'].agg(sum).sort_index(level='TOUR_PURPOSE')\n"
   ]
  },
  {
   "cell_type": "code",
   "execution_count": 89,
   "metadata": {
    "scrolled": true
   },
   "outputs": [
    {
     "data": {
      "text/plain": [
       "TOUR_PURPOSE\n",
       "Discretionary   21198.340\n",
       "Maintenance     42453.910\n",
       "School           2395.522\n",
       "University      23048.935\n",
       "Work            58438.949\n",
       "Work sub-tour     393.467\n",
       "Name: unlinked_weight_scaled, dtype: float64"
      ]
     },
     "execution_count": 89,
     "metadata": {},
     "output_type": "execute_result"
    }
   ],
   "source": [
    "obs_df.groupby(['TOUR_PURPOSE'])['unlinked_weight_scaled'].agg(sum).sort_index(level='TOUR_PURPOSE')"
   ]
  },
  {
   "cell_type": "code",
   "execution_count": 90,
   "metadata": {
    "pycharm": {
     "name": "#%%\n"
    }
   },
   "outputs": [
    {
     "name": "stdout",
     "output_type": "stream",
     "text": [
      "           unlinked_weight_scaled  Percent\n",
      "TOUR_MODE                                 \n",
      "PNR                     10881.302    7.356\n",
      "Walk                   137047.821   92.644\n"
     ]
    },
    {
     "data": {
      "text/plain": [
       "TOUR_MODE\n",
       "PNR     10881.302\n",
       "Walk   137047.821\n",
       "Name: unlinked_weight_scaled, dtype: float64"
      ]
     },
     "execution_count": 90,
     "metadata": {},
     "output_type": "execute_result"
    }
   ],
   "source": [
    "# access/egress individually coded earlier\n",
    "pd.set_option('display.float_format', lambda x: '%.3f' % x)\n",
    "# code access based on both access/egress\n",
    "def determine_tour_mode(row):\n",
    "    if (row['access_mode'] == 'PNR') | (row['egress_mode'] == 'PNR'):\n",
    "        return 'PNR'\n",
    "    if (row['access_mode'] == 'TNR') | (row['egress_mode'] == 'TNR'):\n",
    "        return 'PNR'\n",
    "    if (row['access_mode'] == 'KNR') | (row['egress_mode'] == 'KNR'):\n",
    "        return 'PNR'\n",
    "    return 'Walk'\n",
    "\n",
    "obs_df['TOUR_MODE'] = obs_df.apply(lambda row: determine_tour_mode(row), axis=1)\n",
    "access_df = obs_df.groupby(['TOUR_MODE'])['unlinked_weight_scaled'].agg(sum).sort_index(level='TOUR_MODE').to_frame()\n",
    "access_df['Percent'] = access_df['unlinked_weight_scaled'] / access_df['unlinked_weight_scaled'].sum() * 100\n",
    "\n",
    "\n",
    "\n",
    "print(access_df)\n",
    "\n",
    "obs_df.groupby(['TOUR_MODE'])['unlinked_weight_scaled'].agg(sum).sort_index(level='TOUR_MODE')"
   ]
  },
  {
   "cell_type": "code",
   "execution_count": 91,
   "metadata": {},
   "outputs": [
    {
     "data": {
      "text/plain": [
       "AM1       98\n",
       "AM2     1139\n",
       "AM3     1887\n",
       "AM4     1783\n",
       "MID1    1588\n",
       "MID2    1517\n",
       "MID3    1441\n",
       "MID4    1205\n",
       "MID5    1382\n",
       "MID6    1428\n",
       "PM1     1551\n",
       "PM2     1578\n",
       "PM3     1260\n",
       "PM4      625\n",
       "PM5      706\n",
       "PM6     1161\n",
       "PM7      793\n",
       "PM8      136\n",
       "Name: TIME_ON_CODE, dtype: int64"
      ]
     },
     "execution_count": 91,
     "metadata": {},
     "output_type": "execute_result"
    }
   ],
   "source": [
    "obs_df['TIME_ON_CODE'].value_counts().sort_index()"
   ]
  },
  {
   "cell_type": "code",
   "execution_count": 92,
   "metadata": {},
   "outputs": [],
   "source": [
    "# derive TOD/use CMAP utilities for now\n",
    "\n",
    "\n",
    "\n",
    "obs_df.loc[obs_df['TIME_ON_CODE'].isin(['MID1', 'MID2', 'MID3', 'MID4', 'MID5', 'MID6']) , 'TOD'] = '9:01 am - 3:00 pm'\n",
    "obs_df.loc[obs_df['TIME_ON_CODE'].isin(['MID2', 'MID3', 'MID4', 'MID5']), 'TOD'] = '10:01 am - 2:00 pm'\n"
   ]
  },
  {
   "cell_type": "code",
   "execution_count": 93,
   "metadata": {
    "scrolled": true
   },
   "outputs": [
    {
     "name": "stdout",
     "output_type": "stream",
     "text": [
      "0.382    14168\n",
      "0.191     2647\n",
      "0.156     2550\n",
      "0.655     1361\n",
      "0.066      348\n",
      "0.361      108\n",
      "0.420       86\n",
      "0.178       10\n",
      "Name: probWTP, dtype: int64\n",
      "0.3435754613997259\n",
      "0.3410564902716421\n"
     ]
    },
    {
     "data": {
      "text/plain": [
       "TOUR_PURPOSE\n",
       "Discretionary   15073.062\n",
       "Maintenance     27182.660\n",
       "School           2039.257\n",
       "University      21664.987\n",
       "Work            57697.512\n",
       "Work sub-tour     350.854\n",
       "Name: linked_weight_scaled, dtype: float64"
      ]
     },
     "execution_count": 93,
     "metadata": {},
     "output_type": "execute_result"
    }
   ],
   "source": [
    "# Impute work tour purpose\n",
    "# Limit to workers, tour purpose is maintenance/discretionary\n",
    "# limit to weekdays? need to ask -- Day_Type_2 == 1\n",
    "\n",
    "obs_df['TOUR_PURPOSE_INIT'] = obs_df['TOUR_PURPOSE']\n",
    "obs_df['imputed_tour_purpose'] = ''\n",
    "\n",
    "# calculate utility work tour based on model coefficients\n",
    "obs_df['uWTP'] = -0.480\n",
    "\n",
    "# original tour purpose\n",
    "obs_df.loc[(obs_df['TOUR_PURPOSE_INIT'] == 'Discretionary'), 'uWTP'] = obs_df[obs_df['TOUR_PURPOSE_INIT'] == 'Discretionary']['uWTP'] + (-0.961)\n",
    "\n",
    "\n",
    "# surveyed hour\n",
    "obs_df.loc[(obs_df['TOD'] == '9:01 am - 3:00 pm'), 'uWTP'] = obs_df[(obs_df['TOD'] == '9:01 am - 3:00 pm')]['uWTP'] + (-1.21)\n",
    "obs_df.loc[(obs_df['TIME_ON_CODE'] == 12), 'uWTP'] = obs_df[(obs_df['TIME_ON_CODE'] == 12)]['uWTP'] + (-0.19 ) # 4pm\n",
    "obs_df.loc[(obs_df['TIME_ON_CODE'] == 13), 'uWTP'] = obs_df[(obs_df['TIME_ON_CODE'] == 13)]['uWTP'] + (-0.365) # 5pm\n",
    "obs_df.loc[(obs_df['TIME_ON_CODE'] == 14) | (obs_df['TIME_ON_CODE'] == 15), 'uWTP'] = obs_df[(obs_df['TIME_ON_CODE'] == 14) | (obs_df['TIME_ON_CODE'] == 15)]['uWTP'] + (-0.932) # 6pm\n",
    "obs_df.loc[(obs_df['TIME_ON_CODE'] == 16), 'uWTP'] = obs_df[(obs_df['TIME_ON_CODE'] == 16)]['uWTP'] + (-1.25) # 7pm\n",
    "obs_df.loc[(obs_df['TIME_ON_CODE'] == 17), 'uWTP'] = obs_df[(obs_df['TIME_ON_CODE'] == 17)]['uWTP'] + (-1.46) # 8pm\n",
    "obs_df.loc[(obs_df['TIME_ON_CODE'] == 18), 'uWTP'] = obs_df[(obs_df['TIME_ON_CODE'] == 18)]['uWTP'] + (-1.12) # >9pm\n",
    "\n",
    "# access mode\n",
    "obs_df.loc[(obs_df['TOUR_MODE'] == 'PNR'), 'uWTP'] = obs_df[(obs_df['TOUR_MODE'] == 'PNR')]['uWTP'] + (1.12) \n",
    "obs_df.loc[(obs_df['TOUR_MODE'] == 'KNR'), 'uWTP'] = obs_df[(obs_df['TOUR_MODE'] == 'KNR')]['uWTP'] + (1.78) \n",
    "\n",
    "# calculate probability\n",
    "obs_df['expuWTP'] = np.exp(obs_df['uWTP'])\n",
    "obs_df['probWTP'] = obs_df['expuWTP']/(1 + obs_df['expuWTP'])\n",
    "\n",
    "print(obs_df['probWTP'].value_counts(dropna=False))\n",
    "\n",
    "# Generate random number\n",
    "np.random.seed(30)\n",
    "obs_df['randn'] = np.random.uniform(0, 1, obs_df.shape[0])\n",
    "\n",
    "obs_df.loc[(obs_df['randn'] < obs_df['probWTP']), 'imputed_tour_purpose'] = 'Work'\n",
    "obs_df.loc[(obs_df['randn'] >= obs_df['probWTP']), 'imputed_tour_purpose'] = 'replace'\n",
    "\n",
    "\n",
    "print(np.mean(obs_df['probWTP']))\n",
    "print(obs_df[obs_df['imputed_tour_purpose'] == 'Work'].shape[0]/\n",
    "      (obs_df[obs_df['imputed_tour_purpose'] == 'Work'].shape[0] + \n",
    "       obs_df[obs_df['imputed_tour_purpose'] == 'replace'].shape[0]))\n",
    "\n",
    "obs_df.loc[(obs_df['hh_employed'] > 0) & \n",
    "           (obs_df['imputed_tour_purpose'] == 'Work') & \n",
    "           (obs_df['TOUR_PURPOSE_INIT'].isin(['Maintenance', 'Discretionary'])), 'TOUR_PURPOSE'] = obs_df[(obs_df['hh_employed'] > 0) & \n",
    "               (obs_df['imputed_tour_purpose'] == 'Work') & \n",
    "               (obs_df['TOUR_PURPOSE_INIT'].isin(['Maintenance', 'Discretionary']))]['imputed_tour_purpose']\n",
    "\n",
    "obs_df.groupby(['TOUR_PURPOSE'])['linked_weight_scaled'].agg(sum).sort_index(level='TOUR_PURPOSE')\n",
    "\n"
   ]
  },
  {
   "cell_type": "code",
   "execution_count": 94,
   "metadata": {},
   "outputs": [],
   "source": [
    "# Derive observed/surveyed hour (as a sub for departure hour)\n",
    "\n",
    "\n",
    "# # pd.to_datetime(obs_df['StartTime']).head()\n",
    "# obs_df['surveyed_hour'] = pd.to_datetime(obs_df['StartTime']).dt.hour\n",
    "\n",
    "# obs_df['surveyed_hour'].value_counts(dropna=False).sort_index(level='surveyed_hour')\n"
   ]
  },
  {
   "cell_type": "code",
   "execution_count": 95,
   "metadata": {},
   "outputs": [
    {
     "name": "stdout",
     "output_type": "stream",
     "text": [
      "0.006    8191\n",
      "0.077    7542\n",
      "0.028    3940\n",
      "0.299    1605\n",
      "Name: probWST, dtype: int64\n",
      "0.05744489944673106\n",
      "0.05968606071999248\n"
     ]
    },
    {
     "data": {
      "text/plain": [
       "TOUR_PURPOSE\n",
       "Discretionary   15062.539\n",
       "Maintenance     27074.904\n",
       "School           2039.257\n",
       "University      21663.534\n",
       "Work            57213.067\n",
       "Work sub-tour     955.031\n",
       "Name: linked_weight_scaled, dtype: float64"
      ]
     },
     "execution_count": 95,
     "metadata": {},
     "output_type": "execute_result"
    }
   ],
   "source": [
    "# Impute work sub-tour purpose\n",
    "# Limit to origin/destination not home\n",
    "\n",
    "# calculate utility work subtour based on model coefficients\n",
    "obs_df['uWST'] = -5.16\n",
    "\n",
    "obs_df.loc[(obs_df['ORIG_PURPOSE'] == 'Work') | (obs_df['DEST_PURPOSE'] == 'Work'), 'uWST'] = \\\n",
    "    obs_df[(obs_df['ORIG_PURPOSE'] == 'Work') | (obs_df['DEST_PURPOSE'] == 'Work')]['uWST'] + (2.68 )\n",
    "obs_df.loc[(obs_df['TOD'] == '10:01 am - 2:00 pm'), 'uWST'] = obs_df[(obs_df['TOD'] == '10:01 am - 2:00 pm')]['uWST'] + (1.63)\n",
    "obs_df.loc[(obs_df['TIME_ON_CODE'] == 8), 'uWST'] = obs_df[(obs_df['TIME_ON_CODE'] == 8)]['uWST'] + (0.458)\n",
    "\n",
    "\n",
    "\n",
    "# calculate probability\n",
    "obs_df['expuWST'] = np.exp(obs_df['uWST'])\n",
    "obs_df['probWST'] = obs_df['expuWST']/(1 + obs_df['expuWST'])\n",
    "\n",
    "print(obs_df['probWST'].value_counts(dropna=False))\n",
    "\n",
    "# Generate random number\n",
    "obs_df['randn'] = np.random.uniform(0, 1, obs_df.shape[0])\n",
    "\n",
    "obs_df.loc[(obs_df['randn'] < obs_df['probWST']), 'imputed_tour_purpose'] = 'Work sub-tour'\n",
    "obs_df.loc[(obs_df['randn'] >= obs_df['probWST']), 'imputed_tour_purpose'] = 'replace'\n",
    "\n",
    "\n",
    "print(np.mean(obs_df['probWST']))\n",
    "print(obs_df[obs_df['imputed_tour_purpose'] == 'Work sub-tour'].shape[0]/\n",
    "      (obs_df[obs_df['imputed_tour_purpose'] == 'Work sub-tour'].shape[0] + \n",
    "       obs_df[obs_df['imputed_tour_purpose'] == 'replace'].shape[0]))\n",
    "\n",
    "obs_df.loc[(obs_df['imputed_tour_purpose'] == 'Work sub-tour') & \n",
    "           (obs_df['ORIG_PURPOSE'] != 'Home') & \n",
    "           (obs_df['DEST_PURPOSE'] != 'Home'), 'TOUR_PURPOSE'] = obs_df[(obs_df['imputed_tour_purpose'] == 'Work sub-tour') & \n",
    "           (obs_df['ORIG_PURPOSE'] != 'Home') & \n",
    "           (obs_df['DEST_PURPOSE'] != 'Home')]['imputed_tour_purpose']\n",
    "\n",
    "obs_df.groupby(['TOUR_PURPOSE'])['linked_weight_scaled'].agg(sum).sort_index(level='TOUR_PURPOSE')\n",
    "\n"
   ]
  },
  {
   "cell_type": "code",
   "execution_count": 96,
   "metadata": {},
   "outputs": [
    {
     "data": {
      "text/plain": [
       "1     7101\n",
       "2     5138\n",
       "3     3448\n",
       "4     2965\n",
       "5     1573\n",
       "6      529\n",
       "7      199\n",
       "10     193\n",
       "8      100\n",
       "9       32\n",
       "Name: COUNT_MEMBER_HH_CODE, dtype: int64"
      ]
     },
     "execution_count": 96,
     "metadata": {},
     "output_type": "execute_result"
    }
   ],
   "source": [
    "\n",
    "obs_df.COUNT_MEMBER_HH_CODE.value_counts()\n"
   ]
  },
  {
   "cell_type": "code",
   "execution_count": 97,
   "metadata": {},
   "outputs": [
    {
     "name": "stdout",
     "output_type": "stream",
     "text": [
      "0.066    10024\n",
      "0.055     5505\n",
      "0.081     2733\n",
      "0.111     1575\n",
      "0.093     1083\n",
      "0.135      358\n",
      "Name: probFJT, dtype: int64\n",
      "0.07092985900343311\n",
      "0.07425509916345521\n"
     ]
    },
    {
     "data": {
      "text/plain": [
       "TOUR_PURPOSE\n",
       "Ind-Discretionary     14228.534\n",
       "Ind-Maintenance       26220.112\n",
       "Joint-Discretionary     834.005\n",
       "Joint-Maintenance       854.792\n",
       "School                 2039.257\n",
       "University            21663.534\n",
       "Work                  57213.067\n",
       "Work sub-tour           955.031\n",
       "Name: linked_weight_scaled, dtype: float64"
      ]
     },
     "execution_count": 97,
     "metadata": {},
     "output_type": "execute_result"
    }
   ],
   "source": [
    "# Impute joint tour\n",
    "# Limit to hhsize >1 and maintenance/discretionary tour purpose (after prev steps)\n",
    "\n",
    "# calculate utility fully joint tour based on model coefficients\n",
    "obs_df['uFJT'] = -2.65\n",
    "\n",
    "# surveyed hour\n",
    "obs_df.loc[(obs_df['TOD'] == '9:01 am - 3:00 pm'), 'uFJT'] = obs_df[(obs_df['TOD'] == '9:01 am - 3:00 pm')]['uFJT'] + (0.567)\n",
    "obs_df.loc[(obs_df['TIME_ON_CODE'] == 'PM2'), 'uWTP'] = obs_df[(obs_df['TIME_ON_CODE'] == 'PM2')]['uWTP'] + (0.3547 ) # 4pm\n",
    "obs_df.loc[(obs_df['TIME_ON_CODE'] == 'PM3'), 'uWTP'] = obs_df[(obs_df['TIME_ON_CODE'] == 'PM3')]['uWTP'] + (0.643) # 5pm\n",
    "obs_df.loc[(obs_df['TIME_ON_CODE'] == 'PM4') | (obs_df['TIME_ON_CODE'] == 'PM5'), 'uWTP'] = \\\n",
    "    obs_df[(obs_df['TIME_ON_CODE'] == 'PM4') | (obs_df['TIME_ON_CODE'] == 'PM5')]['uWTP'] + (1.02 ) # 6pm\n",
    "obs_df.loc[(obs_df['TIME_ON_CODE'] == 'PM6'), 'uWTP'] = obs_df[(obs_df['TIME_ON_CODE'] == 'PM6')]['uWTP'] + (1.23) # 7pm\n",
    "obs_df.loc[(obs_df['TIME_ON_CODE'] =='PM7'), 'uWTP'] = obs_df[(obs_df['TIME_ON_CODE'] == 'PM7')]['uWTP'] + ( 0.997  ) # 8pm\n",
    "obs_df.loc[(obs_df['TOUR_PURPOSE_INIT'] == 'Discretionary'), 'uFJT'] = obs_df[(obs_df['TOUR_PURPOSE_INIT'] == 'Discretionary')]['uFJT'] + (0.227)\n",
    "obs_df.loc[(obs_df['TOUR_PURPOSE_INIT'] == 'Maintenance'), 'uFJT'] = obs_df[(obs_df['TOUR_PURPOSE_INIT'] == 'Maintenance')]['uFJT'] + (-0.197)\n",
    "\n",
    "# calculate probability\n",
    "obs_df['expuFJT'] = np.exp(obs_df['uFJT'])\n",
    "obs_df['probFJT'] = obs_df['expuFJT']/(1 + obs_df['expuFJT'])\n",
    "\n",
    "print(obs_df['probFJT'].value_counts(dropna=False))\n",
    "\n",
    "# Generate random number\n",
    "obs_df['randn'] = np.random.uniform(0, 1, obs_df.shape[0])\n",
    "\n",
    "obs_df.loc[(obs_df['randn'] < obs_df['probFJT']), 'joint_tour_type'] = 'Joint'\n",
    "obs_df.loc[(obs_df['randn'] >= obs_df['probFJT']), 'joint_tour_type'] = 'Ind'\n",
    "\n",
    "\n",
    "print(np.mean(obs_df['probFJT']))\n",
    "print(obs_df[obs_df['joint_tour_type'] == 'Joint'].shape[0]/\n",
    "      (obs_df[obs_df['joint_tour_type'] == 'Joint'].shape[0] + \n",
    "       obs_df[obs_df['joint_tour_type'] == 'Ind'].shape[0]))\n",
    "\n",
    "obs_df.loc[(obs_df['COUNT_MEMBER_HH_CODE'] > 1) & # hhsize > 1\n",
    "           (obs_df['TOUR_PURPOSE'] == 'Discretionary') & \n",
    "           (obs_df['joint_tour_type'] == 'Joint'), 'TOUR_PURPOSE'] = 'Joint-Discretionary'\n",
    "\n",
    "obs_df.loc[(obs_df['TOUR_PURPOSE'] == 'Discretionary'), 'TOUR_PURPOSE'] = 'Ind-Discretionary'\n",
    "\n",
    "obs_df.loc[(obs_df['COUNT_MEMBER_HH_CODE'] > 1) & # hhsize > 1\n",
    "           (obs_df['TOUR_PURPOSE'] == 'Maintenance') & \n",
    "           (obs_df['joint_tour_type'] == 'Joint'), 'TOUR_PURPOSE'] = 'Joint-Maintenance'\n",
    "\n",
    "obs_df.loc[(obs_df['TOUR_PURPOSE'] == 'Maintenance'), 'TOUR_PURPOSE'] = 'Ind-Maintenance'\n",
    "\n",
    "\n",
    "obs_df.groupby(['TOUR_PURPOSE'])['linked_weight_scaled'].agg(sum).sort_index(level='TOUR_PURPOSE')\n",
    "\n"
   ]
  },
  {
   "cell_type": "code",
   "execution_count": 98,
   "metadata": {},
   "outputs": [
    {
     "data": {
      "text/plain": [
       "TOUR_PURPOSE\n",
       "Ind-Discretionary     14228.534\n",
       "Ind-Maintenance       26220.112\n",
       "Joint-Discretionary     834.005\n",
       "Joint-Maintenance       854.792\n",
       "School                 2039.257\n",
       "University            21663.534\n",
       "Work                  57213.067\n",
       "Work sub-tour           955.031\n",
       "Name: linked_weight_scaled, dtype: float64"
      ]
     },
     "execution_count": 98,
     "metadata": {},
     "output_type": "execute_result"
    }
   ],
   "source": [
    "obs_df.groupby(['TOUR_PURPOSE'])['linked_weight_scaled'].agg(sum).sort_index(level='TOUR_PURPOSE')\n"
   ]
  },
  {
   "cell_type": "code",
   "execution_count": 99,
   "metadata": {
    "scrolled": true
   },
   "outputs": [
    {
     "data": {
      "image/png": "[encoded data removed]",
      "text/plain": [
       "<Figure size 1000x700 with 1 Axes>"
      ]
     },
     "metadata": {},
     "output_type": "display_data"
    }
   ],
   "source": [
    "make_percentage_bar_plot(\n",
    "    variable='auto_suff',\n",
    "    title=\"Auto Sufficiency\",\n",
    "    xlabel=\"Auto Sufficiency\",\n",
    "    xlabel_rotation=0)\n",
    "\n"
   ]
  },
  {
   "cell_type": "code",
   "execution_count": 100,
   "metadata": {
    "pycharm": {
     "name": "#%%\n"
    },
    "scrolled": true
   },
   "outputs": [
    {
     "data": {
      "image/png": "[encoded data removed]",
      "text/plain": [
       "<Figure size 1000x700 with 1 Axes>"
      ]
     },
     "metadata": {},
     "output_type": "display_data"
    }
   ],
   "source": [
    "make_percentage_bar_plot(\n",
    "    variable='TOUR_PURPOSE',\n",
    "    title=\"Inferred Tour Purpose\",\n",
    "    xlabel=\"Tour Purpose\",\n",
    "    xlabel_rotation=90)\n"
   ]
  },
  {
   "cell_type": "code",
   "execution_count": 101,
   "metadata": {},
   "outputs": [
    {
     "name": "stdout",
     "output_type": "stream",
     "text": [
      "           linked_weight_scaled  Percent\n",
      "TOUR_MODE                               \n",
      "PNR                   10103.289    8.147\n",
      "Walk                 113905.044   91.853\n"
     ]
    },
    {
     "data": {
      "text/plain": [
       "TOUR_MODE\n",
       "PNR     10103.289\n",
       "Walk   113905.044\n",
       "Name: linked_weight_scaled, dtype: float64"
      ]
     },
     "execution_count": 101,
     "metadata": {},
     "output_type": "execute_result"
    }
   ],
   "source": [
    "obs_df['TOUR_MODE'] = obs_df.apply(lambda row: determine_tour_mode(row), axis=1)\n",
    "access_df = obs_df.groupby(['TOUR_MODE'])['linked_weight_scaled'].agg(sum).sort_index(level='TOUR_MODE').to_frame()\n",
    "access_df['Percent'] = access_df['linked_weight_scaled'] / access_df['linked_weight_scaled'].sum() * 100\n",
    "\n",
    "\n",
    "\n",
    "print(access_df)\n",
    "\n",
    "obs_df.groupby(['TOUR_MODE'])['linked_weight_scaled'].agg(sum).sort_index(level='TOUR_MODE')"
   ]
  },
  {
   "cell_type": "markdown",
   "metadata": {},
   "source": [
    "## Summary tables"
   ]
  },
  {
   "cell_type": "markdown",
   "metadata": {},
   "source": [
    "### Boardings by line"
   ]
  },
  {
   "cell_type": "code",
   "execution_count": 102,
   "metadata": {},
   "outputs": [
    {
     "data": {
      "text/plain": [
       "ROUTE\n",
       "002          3563.502\n",
       "003          4751.336\n",
       "004          3069.665\n",
       "005          6818.195\n",
       "006          3680.643\n",
       "               ...   \n",
       "903           371.340\n",
       "904          1358.373\n",
       "921          3247.049\n",
       "923          5760.991\n",
       "OrangeLINK     38.446\n",
       "Name: unlinked_weight_scaled, Length: 136, dtype: float64"
      ]
     },
     "execution_count": 102,
     "metadata": {},
     "output_type": "execute_result"
    }
   ],
   "source": [
    "\n",
    "obs_df.ROUTE.value_counts()\n",
    "obs_df.groupby(['ROUTE'])['unlinked_weight_scaled'].agg(sum) #.sort_index(level='ROUTE')"
   ]
  },
  {
   "cell_type": "code",
   "execution_count": 103,
   "metadata": {},
   "outputs": [
    {
     "data": {
      "text/html": [
       "<table border=\"1\" class=\"dataframe\">\n",
       "  <thead>\n",
       "    <tr style=\"text-align: right;\">\n",
       "      <th></th>\n",
       "      <th>linked_weight_scaled</th>\n",
       "      <th>Percent</th>\n",
       "    </tr>\n",
       "    <tr>\n",
       "      <th>TOUR_MODE</th>\n",
       "      <th></th>\n",
       "      <th></th>\n",
       "    </tr>\n",
       "  </thead>\n",
       "  <tbody>\n",
       "    <tr>\n",
       "      <th>PNR</th>\n",
       "      <td>10103.289</td>\n",
       "      <td>8.147</td>\n",
       "    </tr>\n",
       "    <tr>\n",
       "      <th>Walk</th>\n",
       "      <td>113905.044</td>\n",
       "      <td>91.853</td>\n",
       "    </tr>\n",
       "  </tbody>\n",
       "</table>"
      ],
      "text/plain": [
       "<IPython.core.display.HTML object>"
      ]
     },
     "metadata": {},
     "output_type": "display_data"
    }
   ],
   "source": [
    "mode_df = obs_df.groupby(['TOUR_MODE'])['linked_weight_scaled'].agg(sum).sort_index(level='TOUR_MODE').to_frame()\n",
    "mode_df['Percent'] = mode_df['linked_weight_scaled'] / mode_df['linked_weight_scaled'].sum() * 100\n",
    "display(HTML(mode_df.to_html()))"
   ]
  },
  {
   "cell_type": "markdown",
   "metadata": {},
   "source": [
    "### Linked trips by transit mode + tour purpose"
   ]
  },
  {
   "cell_type": "code",
   "execution_count": 104,
   "metadata": {},
   "outputs": [
    {
     "data": {
      "text/html": [
       "<div>\n",
       "<style scoped>\n",
       "    .dataframe tbody tr th:only-of-type {\n",
       "        vertical-align: middle;\n",
       "    }\n",
       "\n",
       "    .dataframe tbody tr th {\n",
       "        vertical-align: top;\n",
       "    }\n",
       "\n",
       "    .dataframe thead th {\n",
       "        text-align: right;\n",
       "    }\n",
       "</style>\n",
       "<table border=\"1\" class=\"dataframe\">\n",
       "  <thead>\n",
       "    <tr style=\"text-align: right;\">\n",
       "      <th>TOUR_MODE</th>\n",
       "      <th>PNR</th>\n",
       "      <th>Walk</th>\n",
       "      <th>All</th>\n",
       "      <th>Percent</th>\n",
       "    </tr>\n",
       "    <tr>\n",
       "      <th>TOUR_PURPOSE</th>\n",
       "      <th></th>\n",
       "      <th></th>\n",
       "      <th></th>\n",
       "      <th></th>\n",
       "    </tr>\n",
       "  </thead>\n",
       "  <tbody>\n",
       "    <tr>\n",
       "      <th>Ind-Discretionary</th>\n",
       "      <td>347.730</td>\n",
       "      <td>13880.800</td>\n",
       "      <td>14228.530</td>\n",
       "      <td>11.470</td>\n",
       "    </tr>\n",
       "    <tr>\n",
       "      <th>Ind-Maintenance</th>\n",
       "      <td>492.910</td>\n",
       "      <td>25727.200</td>\n",
       "      <td>26220.110</td>\n",
       "      <td>21.140</td>\n",
       "    </tr>\n",
       "    <tr>\n",
       "      <th>Joint-Discretionary</th>\n",
       "      <td>33.200</td>\n",
       "      <td>800.810</td>\n",
       "      <td>834.000</td>\n",
       "      <td>0.670</td>\n",
       "    </tr>\n",
       "    <tr>\n",
       "      <th>Joint-Maintenance</th>\n",
       "      <td>11.080</td>\n",
       "      <td>843.710</td>\n",
       "      <td>854.790</td>\n",
       "      <td>0.690</td>\n",
       "    </tr>\n",
       "    <tr>\n",
       "      <th>School</th>\n",
       "      <td>125.360</td>\n",
       "      <td>1913.900</td>\n",
       "      <td>2039.260</td>\n",
       "      <td>1.640</td>\n",
       "    </tr>\n",
       "    <tr>\n",
       "      <th>University</th>\n",
       "      <td>2059.660</td>\n",
       "      <td>19603.880</td>\n",
       "      <td>21663.530</td>\n",
       "      <td>17.470</td>\n",
       "    </tr>\n",
       "    <tr>\n",
       "      <th>Work</th>\n",
       "      <td>6960.660</td>\n",
       "      <td>50252.410</td>\n",
       "      <td>57213.070</td>\n",
       "      <td>46.140</td>\n",
       "    </tr>\n",
       "    <tr>\n",
       "      <th>Work sub-tour</th>\n",
       "      <td>72.680</td>\n",
       "      <td>882.350</td>\n",
       "      <td>955.030</td>\n",
       "      <td>0.770</td>\n",
       "    </tr>\n",
       "    <tr>\n",
       "      <th>All</th>\n",
       "      <td>10103.290</td>\n",
       "      <td>113905.040</td>\n",
       "      <td>124008.330</td>\n",
       "      <td>100.000</td>\n",
       "    </tr>\n",
       "    <tr>\n",
       "      <th>Percent</th>\n",
       "      <td>8.150</td>\n",
       "      <td>91.850</td>\n",
       "      <td>100.000</td>\n",
       "      <td>0.000</td>\n",
       "    </tr>\n",
       "  </tbody>\n",
       "</table>\n",
       "</div>"
      ],
      "text/plain": [
       "TOUR_MODE                 PNR       Walk        All  Percent\n",
       "TOUR_PURPOSE                                                \n",
       "Ind-Discretionary     347.730  13880.800  14228.530   11.470\n",
       "Ind-Maintenance       492.910  25727.200  26220.110   21.140\n",
       "Joint-Discretionary    33.200    800.810    834.000    0.670\n",
       "Joint-Maintenance      11.080    843.710    854.790    0.690\n",
       "School                125.360   1913.900   2039.260    1.640\n",
       "University           2059.660  19603.880  21663.530   17.470\n",
       "Work                 6960.660  50252.410  57213.070   46.140\n",
       "Work sub-tour          72.680    882.350    955.030    0.770\n",
       "All                 10103.290 113905.040 124008.330  100.000\n",
       "Percent                 8.150     91.850    100.000    0.000"
      ]
     },
     "execution_count": 104,
     "metadata": {},
     "output_type": "execute_result"
    }
   ],
   "source": [
    "mode_purpose_ct = pd.crosstab(obs_df['TOUR_PURPOSE'], obs_df['TOUR_MODE'], values=obs_df['linked_weight_scaled'], aggfunc=sum, margins=True)\n",
    "mode_purpose_ct = add_percentage_to_crosstab(mode_purpose_ct)\n",
    "mode_purpose_ct.fillna(0, inplace=True)\n",
    "mode_purpose_ct.applymap(lambda x: round(x,2))\n"
   ]
  },
  {
   "cell_type": "markdown",
   "metadata": {},
   "source": [
    "### Linked trips by tour purpose, auto sufficiency, and access mode"
   ]
  },
  {
   "cell_type": "code",
   "execution_count": 105,
   "metadata": {},
   "outputs": [
    {
     "data": {
      "text/html": [
       "<div>\n",
       "<style scoped>\n",
       "    .dataframe tbody tr th:only-of-type {\n",
       "        vertical-align: middle;\n",
       "    }\n",
       "\n",
       "    .dataframe tbody tr th {\n",
       "        vertical-align: top;\n",
       "    }\n",
       "\n",
       "    .dataframe thead tr th {\n",
       "        text-align: left;\n",
       "    }\n",
       "\n",
       "    .dataframe thead tr:last-of-type th {\n",
       "        text-align: right;\n",
       "    }\n",
       "</style>\n",
       "<table border=\"1\" class=\"dataframe\">\n",
       "  <thead>\n",
       "    <tr>\n",
       "      <th>auto_suff</th>\n",
       "      <th colspan=\"2\" halign=\"left\">0</th>\n",
       "      <th colspan=\"2\" halign=\"left\">1</th>\n",
       "      <th colspan=\"2\" halign=\"left\">2</th>\n",
       "      <th>All</th>\n",
       "      <th>Percent</th>\n",
       "    </tr>\n",
       "    <tr>\n",
       "      <th>access_mode</th>\n",
       "      <th>PNR</th>\n",
       "      <th>Walk</th>\n",
       "      <th>PNR</th>\n",
       "      <th>Walk</th>\n",
       "      <th>PNR</th>\n",
       "      <th>Walk</th>\n",
       "      <th></th>\n",
       "      <th></th>\n",
       "    </tr>\n",
       "    <tr>\n",
       "      <th>TOUR_PURPOSE</th>\n",
       "      <th></th>\n",
       "      <th></th>\n",
       "      <th></th>\n",
       "      <th></th>\n",
       "      <th></th>\n",
       "      <th></th>\n",
       "      <th></th>\n",
       "      <th></th>\n",
       "    </tr>\n",
       "  </thead>\n",
       "  <tbody>\n",
       "    <tr>\n",
       "      <th>Ind-Discretionary</th>\n",
       "      <td>83.270</td>\n",
       "      <td>9668.250</td>\n",
       "      <td>25.870</td>\n",
       "      <td>2134.840</td>\n",
       "      <td>34.590</td>\n",
       "      <td>2281.720</td>\n",
       "      <td>14228.530</td>\n",
       "      <td>11.470</td>\n",
       "    </tr>\n",
       "    <tr>\n",
       "      <th>Ind-Maintenance</th>\n",
       "      <td>106.800</td>\n",
       "      <td>18664.360</td>\n",
       "      <td>36.010</td>\n",
       "      <td>3160.860</td>\n",
       "      <td>116.900</td>\n",
       "      <td>4135.180</td>\n",
       "      <td>26220.110</td>\n",
       "      <td>21.140</td>\n",
       "    </tr>\n",
       "    <tr>\n",
       "      <th>Joint-Discretionary</th>\n",
       "      <td>1.570</td>\n",
       "      <td>432.490</td>\n",
       "      <td>2.420</td>\n",
       "      <td>160.320</td>\n",
       "      <td>9.040</td>\n",
       "      <td>228.160</td>\n",
       "      <td>834.000</td>\n",
       "      <td>0.670</td>\n",
       "    </tr>\n",
       "    <tr>\n",
       "      <th>Joint-Maintenance</th>\n",
       "      <td>3.870</td>\n",
       "      <td>401.290</td>\n",
       "      <td>4.240</td>\n",
       "      <td>197.270</td>\n",
       "      <td>2.970</td>\n",
       "      <td>245.150</td>\n",
       "      <td>854.790</td>\n",
       "      <td>0.690</td>\n",
       "    </tr>\n",
       "    <tr>\n",
       "      <th>School</th>\n",
       "      <td>0.000</td>\n",
       "      <td>366.830</td>\n",
       "      <td>60.180</td>\n",
       "      <td>663.180</td>\n",
       "      <td>16.100</td>\n",
       "      <td>932.980</td>\n",
       "      <td>2039.260</td>\n",
       "      <td>1.640</td>\n",
       "    </tr>\n",
       "    <tr>\n",
       "      <th>University</th>\n",
       "      <td>5.730</td>\n",
       "      <td>9062.410</td>\n",
       "      <td>271.810</td>\n",
       "      <td>5112.640</td>\n",
       "      <td>782.090</td>\n",
       "      <td>6428.850</td>\n",
       "      <td>21663.530</td>\n",
       "      <td>17.470</td>\n",
       "    </tr>\n",
       "    <tr>\n",
       "      <th>Work</th>\n",
       "      <td>432.200</td>\n",
       "      <td>24960.610</td>\n",
       "      <td>788.720</td>\n",
       "      <td>16021.680</td>\n",
       "      <td>2520.500</td>\n",
       "      <td>12489.360</td>\n",
       "      <td>57213.070</td>\n",
       "      <td>46.140</td>\n",
       "    </tr>\n",
       "    <tr>\n",
       "      <th>Work sub-tour</th>\n",
       "      <td>8.100</td>\n",
       "      <td>454.680</td>\n",
       "      <td>1.400</td>\n",
       "      <td>231.330</td>\n",
       "      <td>44.190</td>\n",
       "      <td>215.330</td>\n",
       "      <td>955.030</td>\n",
       "      <td>0.770</td>\n",
       "    </tr>\n",
       "    <tr>\n",
       "      <th>All</th>\n",
       "      <td>641.540</td>\n",
       "      <td>64010.910</td>\n",
       "      <td>1190.660</td>\n",
       "      <td>27682.120</td>\n",
       "      <td>3526.380</td>\n",
       "      <td>26956.720</td>\n",
       "      <td>124008.330</td>\n",
       "      <td>100.000</td>\n",
       "    </tr>\n",
       "    <tr>\n",
       "      <th>Percent</th>\n",
       "      <td>0.520</td>\n",
       "      <td>51.620</td>\n",
       "      <td>0.960</td>\n",
       "      <td>22.320</td>\n",
       "      <td>2.840</td>\n",
       "      <td>21.740</td>\n",
       "      <td>100.000</td>\n",
       "      <td>0.000</td>\n",
       "    </tr>\n",
       "  </tbody>\n",
       "</table>\n",
       "</div>"
      ],
      "text/plain": [
       "auto_suff                 0                  1                  2            \\\n",
       "access_mode             PNR      Walk      PNR      Walk      PNR      Walk   \n",
       "TOUR_PURPOSE                                                                  \n",
       "Ind-Discretionary    83.270  9668.250   25.870  2134.840   34.590  2281.720   \n",
       "Ind-Maintenance     106.800 18664.360   36.010  3160.860  116.900  4135.180   \n",
       "Joint-Discretionary   1.570   432.490    2.420   160.320    9.040   228.160   \n",
       "Joint-Maintenance     3.870   401.290    4.240   197.270    2.970   245.150   \n",
       "School                0.000   366.830   60.180   663.180   16.100   932.980   \n",
       "University            5.730  9062.410  271.810  5112.640  782.090  6428.850   \n",
       "Work                432.200 24960.610  788.720 16021.680 2520.500 12489.360   \n",
       "Work sub-tour         8.100   454.680    1.400   231.330   44.190   215.330   \n",
       "All                 641.540 64010.910 1190.660 27682.120 3526.380 26956.720   \n",
       "Percent               0.520    51.620    0.960    22.320    2.840    21.740   \n",
       "\n",
       "auto_suff                  All Percent  \n",
       "access_mode                             \n",
       "TOUR_PURPOSE                            \n",
       "Ind-Discretionary    14228.530  11.470  \n",
       "Ind-Maintenance      26220.110  21.140  \n",
       "Joint-Discretionary    834.000   0.670  \n",
       "Joint-Maintenance      854.790   0.690  \n",
       "School                2039.260   1.640  \n",
       "University           21663.530  17.470  \n",
       "Work                 57213.070  46.140  \n",
       "Work sub-tour          955.030   0.770  \n",
       "All                 124008.330 100.000  \n",
       "Percent                100.000   0.000  "
      ]
     },
     "execution_count": 105,
     "metadata": {},
     "output_type": "execute_result"
    }
   ],
   "source": [
    "purpose_suff_access_ct = pd.crosstab(obs_df['TOUR_PURPOSE'], [obs_df['auto_suff'], obs_df['access_mode']], values=obs_df['linked_weight_scaled'], aggfunc=sum, margins=True)\n",
    "purpose_suff_access_ct = add_percentage_to_crosstab(purpose_suff_access_ct)\n",
    "purpose_suff_access_ct.fillna(0, inplace=True)\n",
    "purpose_suff_access_ct.applymap(lambda x: round(x,2))"
   ]
  },
  {
   "cell_type": "markdown",
   "metadata": {},
   "source": [
    "# Add Friendly Names for Reporting"
   ]
  },
  {
   "cell_type": "code",
   "execution_count": 106,
   "metadata": {},
   "outputs": [
    {
     "data": {
      "text/plain": [
       "array(['121', '122', '123', '003', '120', '902', '901', '923', '921',\n",
       "       '010', '124', '006', '005', '002', '018', '021', '054', '027',\n",
       "       '760', '763', '064', '032', '063', '515', '781', '777', '724',\n",
       "       '774', '022', '850', '721', '074', '353', '017', '009', '667',\n",
       "       '046', '004', '014', '067', '761', '612', '747', '094', '007',\n",
       "       '904', '323', '011', '436', '446', '444', '445', '442', '465',\n",
       "       '480', '440', '061', '489', '495', 'OrangeLINK', '420', '497',\n",
       "       '499', '447', '470', '477', '460', '062', '493', '080', '484',\n",
       "       '475', '490', '472', '071', '540', '755', '025', '070', '722',\n",
       "       '537', '068', '903', '065', '083', '705', '801', '250', '033',\n",
       "       '023', '615', '264', '363', '789', '075', '294', '538', '087',\n",
       "       '723', '219', '645', '539', '768', '600', '270', '717', '698',\n",
       "       '252', '542', '716', '785', '030', '114', '852', '673', '766',\n",
       "       '831', '805', '534', '546', '113', '547', '227', '225', '804',\n",
       "       '824', '115', '578', '275', '776', '695', '690', '795', '790',\n",
       "       '764', '888'], dtype=object)"
      ]
     },
     "execution_count": 106,
     "metadata": {},
     "output_type": "execute_result"
    }
   ],
   "source": [
    "obs_df['ROUTE'].unique()"
   ]
  },
  {
   "cell_type": "code",
   "execution_count": 107,
   "metadata": {},
   "outputs": [
    {
     "data": {
      "text/plain": [
       "Green     3022\n",
       "Blue      2698\n",
       "005        946\n",
       "021        805\n",
       "C Line     676\n",
       "          ... \n",
       "795          4\n",
       "115          3\n",
       "776          2\n",
       "252          2\n",
       "690          1\n",
       "Name: ROUTE_LABEL, Length: 136, dtype: int64"
      ]
     },
     "execution_count": 107,
     "metadata": {},
     "output_type": "execute_result"
    }
   ],
   "source": [
    "route_labels = {\n",
    "    '888': 'Northstar',\n",
    "    '901': 'Blue',\n",
    "    '902': 'Green',\n",
    "    '903': 'Red',\n",
    "    '904': 'Orange',\n",
    "    '921': 'A Line',\n",
    "    '923': 'C Line'\n",
    "}\n",
    "\n",
    "def rl(x):\n",
    "    x = str(x)\n",
    "    if len(x) < 3:\n",
    "        while len(x) < 3:\n",
    "            x = '0' + x\n",
    "    return(x)\n",
    "\n",
    "\n",
    "obs_df['ROUTE_LABEL'] = obs_df['ROUTE'].apply(lambda x: route_labels[x] if x in route_labels.keys() else rl(x))\n",
    "\n",
    "obs_df['ROUTE_LABEL'].value_counts()\n"
   ]
  },
  {
   "cell_type": "markdown",
   "metadata": {},
   "source": [
    "## Write coded output"
   ]
  },
  {
   "cell_type": "code",
   "execution_count": 108,
   "metadata": {
    "pycharm": {
     "name": "#%%\n"
    },
    "scrolled": true
   },
   "outputs": [],
   "source": [
    "obs_df.to_csv(os.path.join(output_path, 'processed_obs.csv'))"
   ]
  },
  {
   "cell_type": "markdown",
   "metadata": {},
   "source": [
    "# Write Validation Data\n",
    "\n",
    "This is to write a few files - a simpler file (by mode) and a detailed file (by route)"
   ]
  },
  {
   "cell_type": "code",
   "execution_count": 109,
   "metadata": {},
   "outputs": [],
   "source": [
    "\"\"\"\n",
    "    '888': 'Northstar',\n",
    "    '901': 'Blue',\n",
    "    '902': 'Green',\n",
    "    '903': 'Red',\n",
    "    '904': 'Orange',\n",
    "    '921': 'A Line',\n",
    "    '923': 'C Line'\n",
    "    \"\"\"\n",
    "\n",
    "\n",
    "obs_df['MODE'] = 'bus'\n",
    "# 888 is the Northstar line\n",
    "obs_df.loc[obs_df['ROUTE'] == '888', 'MODE'] = 'CR'\n",
    "#901/902 are LRT\n",
    "obs_df.loc[obs_df['ROUTE'].isin(['901', '902']), 'MODE'] = 'LRT'\n",
    "# A, C, D, Orange, and Red are BRT\n",
    "#TODO: add D (not in 2018 transit)\n",
    "obs_df.loc[obs_df['ROUTE'].isin(['921', '923', '903', '904']), 'MODE'] = 'BRT'\n",
    "\n",
    "\n",
    "\n",
    "obs_df.groupby(['ROUTE_PROVIDER', 'ROUTE_LABEL']).agg(boardings = ('unlinked_weight_scaled', 'sum')).reset_index().to_excel(os.path.join(VALIDATION_DATA_FOLDER, 'transit_line_validation.xlsx'), index = False)\n",
    "\n",
    "obs_df.groupby(['MODE']).agg(boardings = ('unlinked_weight_scaled', 'sum')).reset_index().to_excel(os.path.join(VALIDATION_DATA_FOLDER, 'transit_line_validation.xlsx'), index = False)\n"
   ]
  }
 ],
 "metadata": {
  "kernelspec": {
   "display_name": "Python 3",
   "language": "python",
   "name": "python3"
  },
  "language_info": {
   "codemirror_mode": {
    "name": "ipython",
    "version": 3
   },
   "file_extension": ".py",
   "mimetype": "text/x-python",
   "name": "python",
   "nbconvert_exporter": "python",
   "pygments_lexer": "ipython3",
   "version": "3.9.16"
  }
 },
 "nbformat": 4,
 "nbformat_minor": 4
}
