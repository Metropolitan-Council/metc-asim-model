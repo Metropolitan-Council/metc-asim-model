{
 "cells": [
  {
   "cell_type": "code",
   "execution_count": 1,
   "metadata": {
    "pycharm": {
     "name": "#%%\n"
    }
   },
   "outputs": [],
   "source": [
    "import pandas as pd\n",
    "pd.set_option(\"display.max_columns\",250)\n",
    "import os\n",
    "import matplotlib.pyplot as plt\n",
    "import numpy as np\n",
    "import seaborn as sns\n",
    "import yaml as yaml\n",
    "# import openpyxl\n",
    "import random\n",
    "\n",
    "sns.set()\n",
    "# import openmatrix as omx\n",
    "# import geopandas\n",
    "# import pyproj\n",
    "# import re\n",
    "# import xlrd\n",
    "from IPython.display import display, HTML"
   ]
  },
  {
   "cell_type": "code",
   "execution_count": 2,
   "metadata": {
    "pycharm": {
     "name": "#%%\n"
    }
   },
   "outputs": [],
   "source": [
    "def add_percentage_to_crosstab(ct):\n",
    "    total_counts = ct['All'][:-1].sum()\n",
    "    ct['Percent'] = ct.apply(lambda row: round(100 * row['All'] / total_counts, 2), axis=1)\n",
    "    ct.loc['Percent'] = ct.apply(lambda col: round(100 * col['All'] / total_counts, 2), axis=0)\n",
    "    ct.loc['Percent', 'Percent'] = pd.NA\n",
    "    return ct"
   ]
  },
  {
   "cell_type": "code",
   "execution_count": 3,
   "metadata": {
    "pycharm": {
     "name": "#%%\n"
    }
   },
   "outputs": [],
   "source": [
    "def make_percentage_bar_plot(variable, title, xlabel, xlabel_rotation):\n",
    "    grouped_df = obs_df.groupby(variable)[\"unlinked_weight_scaled\"].agg(sum)\n",
    "    total_weight = grouped_df.sum()\n",
    "    grouped_df[\"percent\"] = grouped_df/total_weight*100\n",
    "    plt.figure(figsize=(10,7))\n",
    "    grouped_df[\"percent\"].plot.bar()\n",
    "    plt.xlabel(xlabel, fontsize=16)\n",
    "    plt.xticks(rotation=xlabel_rotation)\n",
    "    plt.ylabel(\"Weighted Percent\", fontsize=16)\n",
    "    plt.title(title, fontsize=16)\n",
    "    plt.show()\n",
    "    \n",
    "def make_percentage_bar_plot_cta(variable, title, xlabel, xlabel_rotation):\n",
    "    grouped_df = obs_df.groupby(variable)[\"unlinked_weight_scaled\"].agg(sum)\n",
    "    total_weight = grouped_df.sum()\n",
    "    grouped_df[\"percent\"] = grouped_df/total_weight*100\n",
    "    plt.figure(figsize=(10,7))\n",
    "    grouped_df[\"percent\"].plot.bar()\n",
    "    plt.xlabel(xlabel, fontsize=16)\n",
    "    plt.xticks(rotation=xlabel_rotation)\n",
    "    plt.ylabel(\"Weighted Percent\", fontsize=16)\n",
    "    plt.title(title, fontsize=16)\n",
    "    plt.show()\n",
    "    \n",
    "def make_percentage_bar_plot_metra(variable, title, xlabel, xlabel_rotation):\n",
    "    grouped_df = metra_df.groupby(variable)[\"unlinked_weight_scaled\"].agg(sum)\n",
    "    total_weight = grouped_df.sum()\n",
    "    grouped_df[\"percent\"] = grouped_df/total_weight*100\n",
    "    plt.figure(figsize=(10,7))\n",
    "    grouped_df[\"percent\"].plot.bar()\n",
    "    plt.xlabel(xlabel, fontsize=16)\n",
    "    plt.xticks(rotation=xlabel_rotation)\n",
    "    plt.ylabel(\"Weighted Percent\", fontsize=16)\n",
    "    plt.title(title, fontsize=16)\n",
    "    plt.show()"
   ]
  },
  {
   "cell_type": "code",
   "execution_count": 5,
   "metadata": {
    "pycharm": {
     "name": "#%%\n"
    }
   },
   "outputs": [
    {
     "ename": "TypeError",
     "evalue": "load() missing 1 required positional argument: 'Loader'",
     "output_type": "error",
     "traceback": [
      "\u001b[1;31m---------------------------------------------------------------------------\u001b[0m",
      "\u001b[1;31mTypeError\u001b[0m                                 Traceback (most recent call last)",
      "Cell \u001b[1;32mIn[5], line 2\u001b[0m\n\u001b[0;32m      1\u001b[0m \u001b[39mwith\u001b[39;00m \u001b[39mopen\u001b[39m(\u001b[39mr\u001b[39m\u001b[39m'\u001b[39m\u001b[39mE:\u001b[39m\u001b[39m\\\u001b[39m\u001b[39mMet_Council\u001b[39m\u001b[39m\\\u001b[39m\u001b[39mmetc-asim-model\u001b[39m\u001b[39m\\\u001b[39m\u001b[39msource\u001b[39m\u001b[39m\\\u001b[39m\u001b[39msurvey_data_processing\u001b[39m\u001b[39m\\\u001b[39m\u001b[39mmetc_inputs_phase2.yml\u001b[39m\u001b[39m'\u001b[39m) \u001b[39mas\u001b[39;00m file:\n\u001b[1;32m----> 2\u001b[0m     settings \u001b[39m=\u001b[39m yaml\u001b[39m.\u001b[39;49mload(file)\n\u001b[0;32m      4\u001b[0m obs_path  \u001b[39m=\u001b[39m os\u001b[39m.\u001b[39mpath\u001b[39m.\u001b[39mjoin(settings[\u001b[39m'\u001b[39m\u001b[39mobs_dir\u001b[39m\u001b[39m'\u001b[39m], \u001b[39m'\u001b[39m\u001b[39mMet Council OD 2022.xlsx\u001b[39m\u001b[39m'\u001b[39m, \u001b[39m'\u001b[39m\u001b[39mdata\u001b[39m\u001b[39m'\u001b[39m)\n\u001b[0;32m      6\u001b[0m obs_df \u001b[39m=\u001b[39m pd\u001b[39m.\u001b[39mread_xlsx(obs_path)\n",
      "\u001b[1;31mTypeError\u001b[0m: load() missing 1 required positional argument: 'Loader'"
     ]
    }
   ],
   "source": [
    "\n",
    "with open(r'E:\\Met_Council\\metc-asim-model\\source\\survey_data_processing\\metc_inputs_phase2.yml') as file:\n",
    "    settings = yaml.load(file)\n",
    "\n",
    "obs_path  = os.path.join(settings['obs_dir'], 'Met Council OD 2022.xlsx', 'data')\n",
    "\n",
    "obs_df = pd.read_xlsx(obs_path)\n",
    "\n",
    "output_path = r\"output\"\n"
   ]
  },
  {
   "cell_type": "code",
   "execution_count": 6,
   "metadata": {
    "pycharm": {
     "name": "#%%\n"
    },
    "scrolled": true
   },
   "outputs": [
    {
     "name": "stdout",
     "output_type": "stream",
     "text": [
      "Total entries in the on board survey: 30605\n",
      "Weighted total of entries in the on board survey: 350474.127932107\n"
     ]
    }
   ],
   "source": [
    "print(\"Total entries in the on board survey:\", len(obs_df))\n",
    "print(\"Weighted total of entries in the on board survey:\", obs_df['Unlinked_Weight-AE'].sum())\n",
    "\n"
   ]
  },
  {
   "cell_type": "markdown",
   "metadata": {},
   "source": [
    "# Transit Onboard Survey Data Coding"
   ]
  },
  {
   "cell_type": "markdown",
   "metadata": {},
   "source": [
    "## Recode relevant variables to match between each dataset"
   ]
  },
  {
   "cell_type": "code",
   "execution_count": 7,
   "metadata": {},
   "outputs": [
    {
     "data": {
      "text/plain": [
       "['ID',\n",
       " 'DATE',\n",
       " 'ROUTE_SURVEYED_CODE',\n",
       " 'ROUTE_SURVEYED',\n",
       " 'HOME_OR_HOTEL_ADDR_CITY',\n",
       " 'HOME_OR_HOTEL_ADDR_STATE',\n",
       " 'HOME_OR_HOTEL_ADDR_ZIP',\n",
       " 'HOME_OR_HOTEL_ADDR_LAT_100M',\n",
       " 'HOME_OR_HOTEL_ADDR_LON_100M',\n",
       " 'BOARDING_LOCATION',\n",
       " 'BOARDING_STOPID',\n",
       " 'BOARDING_LAT',\n",
       " 'BOARDING_LON',\n",
       " 'TRANSFERS_FROM_CODE',\n",
       " 'TRANSFERS_FROM',\n",
       " 'TRANSFERS_FROM_FIRST_CODE',\n",
       " 'TRANSFERS_FROM_FIRST',\n",
       " 'TRANSFERS_FROM_FIRST_OTHER',\n",
       " 'TRANSFERS_FROM_SECOND_CODE',\n",
       " 'TRANSFERS_FROM_SECOND',\n",
       " 'TRANSFERS_FROM_SECOND_OTHER',\n",
       " 'TRANSFERS_FROM_THIRD_CODE',\n",
       " 'TRANSFERS_FROM_THIRD',\n",
       " 'TRANSFERS_FROM_THIRD_OTHER',\n",
       " 'TRANSFERS_FROM_FOURTH_CODE',\n",
       " 'TRANSFERS_FROM_FOURTH',\n",
       " 'ORIGIN_PLACE_TYPE_CODE',\n",
       " 'ORIGIN_PLACE_TYPE',\n",
       " 'ORIGIN_CITY',\n",
       " 'ORIGIN_STATE',\n",
       " 'ORIGIN_ZIP',\n",
       " 'ORIGIN_LAT_100M',\n",
       " 'ORIGIN_LON_100M',\n",
       " 'ACCESS_MODE_CODE',\n",
       " 'ACCESS_MODE',\n",
       " 'VEHICLE_ACCESS_PARK_YN_PNR_CODE',\n",
       " 'VEHICLE_ACCESS_PARK_YN_PNR',\n",
       " 'VEHICLE_ACCESS_PARK_PNR_CODE',\n",
       " 'VEHICLE_ACCESS_PARK_PNR',\n",
       " 'VEHICLE_ACCESS_PARK_PNR_OTHER',\n",
       " 'VEHICLE_ACCESS_DROPOFF',\n",
       " 'VEHICLE_ACCESS_DROPOFF_CITY',\n",
       " 'VEHICLE_ACCESS_DROPOFF_STATE',\n",
       " 'VEHICLE_ACCESS_DROPOFF_ZIP',\n",
       " 'VEHICLE_ACCESS_DROPOFF_LAT',\n",
       " 'VEHICLE_ACCESS_DROPOFF_LON',\n",
       " 'ALIGHTING_LOCATION',\n",
       " 'ALIGHTING_STOPID',\n",
       " 'ALIGHTING_LAT',\n",
       " 'ALIGHTING_LON',\n",
       " 'TRANSFERS_TO_CODE',\n",
       " 'TRANSFERS_TO',\n",
       " 'TRANSFERS_TO_FIRST_CODE',\n",
       " 'TRANSFERS_TO_FIRST',\n",
       " 'TRANSFERS_TO_FIRST_OTHER',\n",
       " 'TRANSFERS_TO_SECOND_CODE',\n",
       " 'TRANSFERS_TO_SECOND',\n",
       " 'TRANSFERS_TO_SECOND_OTHER',\n",
       " 'TRANSFERS_TO_THIRD_CODE',\n",
       " 'TRANSFERS_TO_THIRD',\n",
       " 'TRANSFERS_TO_THIRD_OTHER',\n",
       " 'TRANSFERS_TO_FOURTH_CODE',\n",
       " 'TRANSFERS_TO_FOURTH',\n",
       " 'DESTIN_PLACE_TYPE_CODE',\n",
       " 'DESTIN_PLACE_TYPE',\n",
       " 'DESTINATION_CITY',\n",
       " 'DESTINATION_STATE',\n",
       " 'DESTINATION_ZIP',\n",
       " 'DESTINATION_LAT_100M',\n",
       " 'DESTINATION_LON_100M',\n",
       " 'EGRESS_MODE_CODE',\n",
       " 'EGRESS_MODE',\n",
       " 'VEHICLE_EGRESS_PARK_YN_PNR_CODE',\n",
       " 'VEHICLE_EGRESS_PARK_YN_PNR',\n",
       " 'VEHICLE_EGRESS_PARK_PNR_CODE',\n",
       " 'VEHICLE_EGRESS_PARK_PNR',\n",
       " 'VEHICLE_EGRESS_PARK_PNR_OTHER',\n",
       " 'VEHICLE_EGRESS_DROPOFF',\n",
       " 'VEHICLE_EGRESS_DROPOFF_CITY',\n",
       " 'VEHICLE_EGRESS_DROPOFF_STATE',\n",
       " 'VEHICLE_EGRESS_DROPOFF_ZIP',\n",
       " 'VEHICLE_EGRESS_DROPOFF_LAT',\n",
       " 'VEHICLE_EGRESS_DROPOFF_LON',\n",
       " 'TIME_ON_CODE',\n",
       " 'TIME_ON',\n",
       " 'TIME_PERIOD',\n",
       " 'TRIP_IN_OPPOSITE_DIR_CODE',\n",
       " 'TRIP_IN_OPPOSITE_DIR',\n",
       " 'OPP_DIR_TRIP_TIME_CODE',\n",
       " 'OPP_DIR_TRIP_TIME',\n",
       " 'PAYMENT_METHOD_CODE',\n",
       " 'PAYMENT_METHOD',\n",
       " 'FARE_TYPE_CODE',\n",
       " 'FARE_TYPE',\n",
       " 'TRIP_PURPOSE_NO_OTHER_TRIP',\n",
       " 'TRIP_PURPOSE_BUY_A_MEAL_/_BEVERAGE',\n",
       " 'TRIP_PURPOSE_GO_TO_WORK',\n",
       " 'TRIP_PURPOSE_VISIT_FRIEND/RELATIVE_OR_ATTEND_RELIGIOUS/SOC_EVENT',\n",
       " 'TRIP_PURPOSE_GO_TO_SCHOOL',\n",
       " 'TRIP_PURPOSE_GO_SHOPPING',\n",
       " 'TRIP_PURPOSE_OTHER_ERRANDS',\n",
       " 'TRIP_PURPOSE_OTHER',\n",
       " 'VISITOR_CODE',\n",
       " 'VISITOR',\n",
       " 'COUNT_VH_HH_CODE',\n",
       " 'COUNT_VH_HH',\n",
       " 'CAN_USE_VEH_TRIP_CODE',\n",
       " 'CAN_USE_VEH_TRIP',\n",
       " 'COUNT_MEMBER_HH_CODE',\n",
       " 'COUNT_MEMBER_HH',\n",
       " 'COUNT_EMPLOYED_HH_CODE',\n",
       " 'COUNT_EMPLOYED_HH',\n",
       " 'STATUS_EMPLOYMENT_CODE',\n",
       " 'STATUS_EMPLOYMENT',\n",
       " 'STUDENT_STATUS_CODE',\n",
       " 'STUDENT_STATUS',\n",
       " 'FARE_SUBSIDY_CODE',\n",
       " 'FARE_SUBSIDY',\n",
       " 'HAS_DRIVE_LICENSE_CODE',\n",
       " 'HAS_DRIVE_LICENSE',\n",
       " 'AGE_CODE',\n",
       " 'AGE',\n",
       " 'AMERICAN_INDIAN_ALASKAN_NATIVE',\n",
       " 'ASIAN',\n",
       " 'BLACK_AFRICAN_AMERICAN',\n",
       " 'HISPANIC_LATINO',\n",
       " 'NATIVE_HAWAIIAN_PACIFIC_ISLANDER',\n",
       " 'WHITE',\n",
       " 'RACE_ETHNICITY_OTHER',\n",
       " 'INCOME_CODE',\n",
       " 'INCOME',\n",
       " 'HOME_LANG_OTHER_CODE',\n",
       " 'HOME_LANG_OTHER',\n",
       " 'HOME_OTHER_LANG_CODE',\n",
       " 'HOME_OTHER_LANG',\n",
       " 'HOME_OTHER_LANG_OTHER',\n",
       " 'ENGLISH_ABILITY_CODE',\n",
       " 'ENGLISH_ABILITY',\n",
       " 'DISABILITY_CODE',\n",
       " 'DISABILITY',\n",
       " 'GREEN_LINE_INFO_CODE',\n",
       " 'GREEN_LINE_INFO',\n",
       " 'GREEN_INFO2_CODE',\n",
       " 'GREEN_INFO2',\n",
       " 'GENDER_CODE',\n",
       " 'GENDER',\n",
       " 'H_TAZ',\n",
       " 'O_TAZ',\n",
       " 'D_TAZ',\n",
       " 'B_TAZ',\n",
       " 'A_TAZ',\n",
       " 'WGHT_NAME',\n",
       " 'UNLINKED_WGHT_FCTR',\n",
       " 'TOTAL_TRANSFERS',\n",
       " 'LINKED_MULTIPLIER',\n",
       " 'LINKED_WGHT_FCTR',\n",
       " 'ROUTE',\n",
       " 'ROUTE_PROVIDER',\n",
       " 'ROUTE_TYPE',\n",
       " 'TOTAL_TRANSFERS_WITHIN_SYSTEM',\n",
       " 'Manual_Adjustment',\n",
       " 'PNR_Lot_Used',\n",
       " 'PNR_Lot_Used-adj',\n",
       " 'Unlinked_Factor_-_Auto_Occ',\n",
       " 'WGHT_NAME_PNR',\n",
       " 'PNR_Factor',\n",
       " 'Exp_PNR',\n",
       " 'Final_AE_Factor',\n",
       " 'Unlinked_Weight-AE',\n",
       " 'Linked_Weight-AE',\n",
       " 'Payment_Type_',\n",
       " 'Route',\n",
       " 'Boarding',\n",
       " 'Boarding_Student',\n",
       " 'WGHT_NAME_Student',\n",
       " 'c_pass_factor',\n",
       " 'upass_factor',\n",
       " 'HS_Pass_factor',\n",
       " 'Exp_Student']"
      ]
     },
     "execution_count": 7,
     "metadata": {},
     "output_type": "execute_result"
    }
   ],
   "source": [
    "\n",
    "obs_df_orig = obs_df.copy()\n",
    "\n",
    "list(obs_df)\n"
   ]
  },
  {
   "cell_type": "code",
   "execution_count": 8,
   "metadata": {},
   "outputs": [],
   "source": [
    "obs_df = obs_df_orig[['ID', 'ROUTE_SURVEYED_CODE', 'ROUTE_SURVEYED', 'ROUTE', 'ROUTE_PROVIDER','ORIGIN_PLACE_TYPE_CODE','ORIGIN_PLACE_TYPE', \n",
    "                      'ACCESS_MODE_CODE','ACCESS_MODE', 'EGRESS_MODE_CODE', 'EGRESS_MODE',\n",
    "                     'DESTIN_PLACE_TYPE_CODE', 'DESTIN_PLACE_TYPE', \n",
    "                      'TIME_ON', 'TIME_PERIOD', 'TIME_ON_CODE',\n",
    "                      'TRIP_PURPOSE_NO_OTHER_TRIP',\n",
    "                     'TRIP_PURPOSE_BUY_A_MEAL_/_BEVERAGE',\n",
    "                     'TRIP_PURPOSE_GO_TO_WORK',\n",
    "                     'TRIP_PURPOSE_VISIT_FRIEND/RELATIVE_OR_ATTEND_RELIGIOUS/SOC_EVENT',\n",
    "                     'TRIP_PURPOSE_GO_TO_SCHOOL',\n",
    "                     'TRIP_PURPOSE_GO_SHOPPING',\n",
    "                     'TRIP_PURPOSE_OTHER_ERRANDS',\n",
    "                     'TRIP_PURPOSE_OTHER',\n",
    "                      'COUNT_EMPLOYED_HH_CODE', 'COUNT_EMPLOYED_HH',\n",
    "                      'COUNT_VH_HH_CODE', 'COUNT_VH_HH',\n",
    "                      'COUNT_MEMBER_HH_CODE', 'COUNT_MEMBER_HH', 'STATUS_EMPLOYMENT', 'STUDENT_STATUS',\n",
    "                    'HAS_DRIVE_LICENSE', 'AGE', 'INCOME_CODE', 'INCOME', \n",
    "                      'O_TAZ', 'D_TAZ', 'Unlinked_Weight-AE', 'Linked_Weight-AE']].copy()\n",
    "\n",
    "\n",
    "\n"
   ]
  },
  {
   "cell_type": "markdown",
   "metadata": {},
   "source": [
    "### Boardings by route\n",
    "\n",
    "\n",
    "Questions:"
   ]
  },
  {
   "cell_type": "code",
   "execution_count": 9,
   "metadata": {
    "pycharm": {
     "name": "#%%\n"
    }
   },
   "outputs": [
    {
     "data": {
      "text/html": [
       "<table border=\"1\" class=\"dataframe\">\n",
       "  <thead>\n",
       "    <tr style=\"text-align: right;\">\n",
       "      <th></th>\n",
       "      <th>Unlinked_Weight-AE</th>\n",
       "      <th>Percent</th>\n",
       "    </tr>\n",
       "    <tr>\n",
       "      <th>ROUTE_PROVIDER</th>\n",
       "      <th></th>\n",
       "      <th></th>\n",
       "    </tr>\n",
       "  </thead>\n",
       "  <tbody>\n",
       "    <tr>\n",
       "      <th>MVTA</th>\n",
       "      <td>10386.425806</td>\n",
       "      <td>2.963536</td>\n",
       "    </tr>\n",
       "    <tr>\n",
       "      <th>Maple Grove</th>\n",
       "      <td>3509.824504</td>\n",
       "      <td>1.001450</td>\n",
       "    </tr>\n",
       "    <tr>\n",
       "      <th>Met Council</th>\n",
       "      <td>11222.951323</td>\n",
       "      <td>3.202220</td>\n",
       "    </tr>\n",
       "    <tr>\n",
       "      <th>Metro Transit</th>\n",
       "      <td>297493.573266</td>\n",
       "      <td>84.883177</td>\n",
       "    </tr>\n",
       "    <tr>\n",
       "      <th>Plymouth</th>\n",
       "      <td>1829.987180</td>\n",
       "      <td>0.522146</td>\n",
       "    </tr>\n",
       "    <tr>\n",
       "      <th>Southwest</th>\n",
       "      <td>4286.000000</td>\n",
       "      <td>1.222915</td>\n",
       "    </tr>\n",
       "    <tr>\n",
       "      <th>U of M</th>\n",
       "      <td>21745.365854</td>\n",
       "      <td>6.204557</td>\n",
       "    </tr>\n",
       "  </tbody>\n",
       "</table>"
      ],
      "text/plain": [
       "<IPython.core.display.HTML object>"
      ]
     },
     "metadata": {},
     "output_type": "display_data"
    }
   ],
   "source": [
    "obs_route_df = obs_df.groupby(['ROUTE_PROVIDER'])['Unlinked_Weight-AE'].agg(sum).sort_index(level='ROUTE_PROVIDER').to_frame()\n",
    "obs_route_df['Percent'] = obs_route_df['Unlinked_Weight-AE'] / obs_route_df['Unlinked_Weight-AE'].sum() * 100\n",
    "\n",
    "# print(route_dict.head())\n",
    "display(HTML(obs_route_df.to_html()))"
   ]
  },
  {
   "cell_type": "code",
   "execution_count": 10,
   "metadata": {},
   "outputs": [],
   "source": [
    "def code_purpose(value):\n",
    "    if (value == 2):\n",
    "        return 'Work'\n",
    "    elif (value == 1):\n",
    "        return 'Home'\n",
    "    elif (value == 3):\n",
    "        return 'University'\n",
    "    elif (value == 9): # airport\n",
    "        return 'Maintenance'\n",
    "    elif (value == 8): # social\n",
    "        return 'Discretionary'\n",
    "    elif (value == 5): # medical\n",
    "        return 'Maintenance'\n",
    "    elif (value == 7): # recreation\n",
    "        return 'Discretionary'\n",
    "    elif (value == 6): # shop\n",
    "        return 'Maintenance'\n",
    "    elif (value == 10): # sporting\n",
    "         return 'Discretionary'\n",
    "    elif (value == 'Shopping'):\n",
    "        return 'Maintenance'\n",
    "    elif (value == 11): # work related\n",
    "        return 'Maintenance'\n",
    "    \n",
    "    elif (value == 12): # hotel\n",
    "        return 'Maintenance'\n",
    "    elif (value == 4):\n",
    "        return 'K-12 school'\n",
    "    elif (value == 99):\n",
    "        return 'Maintenance'\n",
    "\n",
    "\n",
    "\n"
   ]
  },
  {
   "cell_type": "code",
   "execution_count": 11,
   "metadata": {
    "pycharm": {
     "name": "#%%\n"
    }
   },
   "outputs": [],
   "source": [
    "obs_df['ORIG_PURPOSE'] = obs_df['ORIGIN_PLACE_TYPE_CODE'].apply(lambda value: code_purpose(value))\n",
    "\n",
    "obs_df['DEST_PURPOSE'] = obs_df['DESTIN_PLACE_TYPE_CODE'].apply(lambda value: code_purpose(value))\n"
   ]
  },
  {
   "cell_type": "code",
   "execution_count": 12,
   "metadata": {},
   "outputs": [
    {
     "name": "stdout",
     "output_type": "stream",
     "text": [
      "Home             15295\n",
      "Work              8175\n",
      "Discretionary     2856\n",
      "Maintenance       2053\n",
      "University        1629\n",
      "K-12 school        483\n",
      "Name: ORIG_PURPOSE, dtype: int64\n",
      "Home             11691\n",
      "Work              9339\n",
      "Discretionary     4294\n",
      "Maintenance       2424\n",
      "University        2170\n",
      "K-12 school        573\n",
      "Name: DEST_PURPOSE, dtype: int64\n"
     ]
    }
   ],
   "source": [
    "print(obs_df['ORIG_PURPOSE'].value_counts())\n",
    "print(obs_df['DEST_PURPOSE'].value_counts())\n"
   ]
  },
  {
   "cell_type": "markdown",
   "metadata": {},
   "source": [
    "### Access mode\n",
    "\n",
    "* 1 - PNR (driving, carshare)\n",
    "* 2 - KNR (dropped off, taxi/TNC)\n",
    "* 3 - Walk (includes bike, scooter, skateboard)\n",
    "\n",
    "Questions:\n",
    "* Should taxi be TNC?\n"
   ]
  },
  {
   "cell_type": "code",
   "execution_count": 13,
   "metadata": {},
   "outputs": [],
   "source": [
    "# Code access/egress before imputation\n",
    "\n",
    "def code_access_mode(value):\n",
    "    if (value in  [4, 9, 10, 3, 12, 8]):\n",
    "        return 'KNR'\n",
    "    elif (value in [7, 6, 5]):\n",
    "        return 'PNR'\n",
    "    return 'Walk'\n",
    "\n",
    "\n",
    "obs_df['access_mode'] = obs_df['ACCESS_MODE_CODE'].apply(lambda value: code_access_mode(value))\n",
    "obs_df['egress_mode'] = obs_df['EGRESS_MODE_CODE'].apply(lambda value: code_access_mode(value))\n"
   ]
  },
  {
   "cell_type": "code",
   "execution_count": 14,
   "metadata": {
    "pycharm": {
     "name": "#%%\n"
    },
    "scrolled": false
   },
   "outputs": [
    {
     "data": {
      "text/html": [
       "<div>\n",
       "<style scoped>\n",
       "    .dataframe tbody tr th:only-of-type {\n",
       "        vertical-align: middle;\n",
       "    }\n",
       "\n",
       "    .dataframe tbody tr th {\n",
       "        vertical-align: top;\n",
       "    }\n",
       "\n",
       "    .dataframe thead th {\n",
       "        text-align: right;\n",
       "    }\n",
       "</style>\n",
       "<table border=\"1\" class=\"dataframe\">\n",
       "  <thead>\n",
       "    <tr style=\"text-align: right;\">\n",
       "      <th>egress_mode</th>\n",
       "      <th>KNR</th>\n",
       "      <th>PNR</th>\n",
       "      <th>Walk</th>\n",
       "      <th>All</th>\n",
       "      <th>Percent</th>\n",
       "    </tr>\n",
       "    <tr>\n",
       "      <th>access_mode</th>\n",
       "      <th></th>\n",
       "      <th></th>\n",
       "      <th></th>\n",
       "      <th></th>\n",
       "      <th></th>\n",
       "    </tr>\n",
       "  </thead>\n",
       "  <tbody>\n",
       "    <tr>\n",
       "      <th>KNR</th>\n",
       "      <td>3965.11</td>\n",
       "      <td>125.69</td>\n",
       "      <td>8574.30</td>\n",
       "      <td>12665.11</td>\n",
       "      <td>3.61</td>\n",
       "    </tr>\n",
       "    <tr>\n",
       "      <th>PNR</th>\n",
       "      <td>98.44</td>\n",
       "      <td>302.24</td>\n",
       "      <td>19553.46</td>\n",
       "      <td>19954.14</td>\n",
       "      <td>5.69</td>\n",
       "    </tr>\n",
       "    <tr>\n",
       "      <th>Walk</th>\n",
       "      <td>6329.09</td>\n",
       "      <td>18673.86</td>\n",
       "      <td>292851.93</td>\n",
       "      <td>317854.88</td>\n",
       "      <td>90.69</td>\n",
       "    </tr>\n",
       "    <tr>\n",
       "      <th>All</th>\n",
       "      <td>10392.64</td>\n",
       "      <td>19101.79</td>\n",
       "      <td>320979.69</td>\n",
       "      <td>350474.13</td>\n",
       "      <td>100.00</td>\n",
       "    </tr>\n",
       "    <tr>\n",
       "      <th>Percent</th>\n",
       "      <td>2.97</td>\n",
       "      <td>5.45</td>\n",
       "      <td>91.58</td>\n",
       "      <td>100.00</td>\n",
       "      <td>0.00</td>\n",
       "    </tr>\n",
       "  </tbody>\n",
       "</table>\n",
       "</div>"
      ],
      "text/plain": [
       "egress_mode       KNR       PNR       Walk        All  Percent\n",
       "access_mode                                                   \n",
       "KNR           3965.11    125.69    8574.30   12665.11     3.61\n",
       "PNR             98.44    302.24   19553.46   19954.14     5.69\n",
       "Walk          6329.09  18673.86  292851.93  317854.88    90.69\n",
       "All          10392.64  19101.79  320979.69  350474.13   100.00\n",
       "Percent          2.97      5.45      91.58     100.00     0.00"
      ]
     },
     "execution_count": 14,
     "metadata": {},
     "output_type": "execute_result"
    }
   ],
   "source": [
    "orig_dest_ct = pd.crosstab(obs_df['access_mode'], obs_df['egress_mode'], values=obs_df['Unlinked_Weight-AE'], aggfunc=sum, margins=True)\n",
    "orig_dest_ct = add_percentage_to_crosstab(orig_dest_ct)\n",
    "orig_dest_ct.fillna(0, inplace=True)\n",
    "orig_dest_ct.applymap(lambda x: round(x,2))\n"
   ]
  },
  {
   "cell_type": "markdown",
   "metadata": {},
   "source": [
    "### Auto Sufficiency\n",
    "* 0 for households with no autos\n",
    "* 1 for households that have 0 < autos < number of workers\n",
    "* 2 for households that have 0 < autos >= number of workers\n",
    "\n",
    "Questions:\n",
    "* Auto suff for Metra was imputed in R based on CMAP data\n",
    "  * Mainly resulted in auto suff \"vehicles greater than or equal to workers\"\n",
    "  * Does that make sense for commuter rail?\n",
    "* Some missing hh employed or hh veh in CTA"
   ]
  },
  {
   "cell_type": "code",
   "execution_count": 15,
   "metadata": {},
   "outputs": [],
   "source": [
    "obs_df['auto_suff'] = -1\n",
    "\n"
   ]
  },
  {
   "cell_type": "code",
   "execution_count": 16,
   "metadata": {},
   "outputs": [],
   "source": [
    "\n",
    "obs_df.loc[obs_df.COUNT_VH_HH_CODE != '10P', 'hh_veh'] = obs_df.COUNT_VH_HH_CODE\n",
    "obs_df.loc[obs_df.COUNT_VH_HH_CODE == '10P','hh_veh'] = 10\n",
    "obs_df['hh_veh'] = pd.to_numeric(obs_df['hh_veh'])\n",
    "\n",
    "obs_df.loc[pd.isna(obs_df.COUNT_EMPLOYED_HH_CODE), 'hh_employed'] = 0\n",
    "\n",
    "obs_df['hh_employed'] = pd.to_numeric(obs_df['COUNT_EMPLOYED_HH_CODE'])\n",
    "obs_df.loc[obs_df.hh_veh < obs_df.hh_employed, 'auto_suff'] = 1\n",
    "obs_df.loc[obs_df.hh_veh >= obs_df.hh_employed, 'auto_suff'] = 2\n",
    "obs_df.loc[obs_df.hh_veh == 0, 'auto_suff'] = 0\n",
    "\n"
   ]
  },
  {
   "cell_type": "code",
   "execution_count": 17,
   "metadata": {},
   "outputs": [
    {
     "name": "stdout",
     "output_type": "stream",
     "text": [
      " 2    0.366509\n",
      " 0    0.325241\n",
      " 1    0.258585\n",
      "-1    0.049665\n",
      "Name: auto_suff, dtype: float64\n",
      "2    0.385663\n",
      "0    0.342238\n",
      "1    0.272099\n",
      "Name: auto_suff, dtype: float64\n",
      "0.0     9954\n",
      "1.0     8978\n",
      "2.0     7264\n",
      "3.0     2016\n",
      "4.0      591\n",
      "5.0      184\n",
      "6.0       54\n",
      "10.0      23\n",
      "7.0       13\n",
      "8.0        5\n",
      "9.0        3\n",
      "Name: hh_veh, dtype: int64\n",
      "2.0     11801\n",
      "1.0      8619\n",
      "3.0      4030\n",
      "0.0      2417\n",
      "4.0      1485\n",
      "5.0       437\n",
      "6.0       142\n",
      "10.0       75\n",
      "7.0        46\n",
      "8.0        22\n",
      "9.0        11\n",
      "Name: hh_employed, dtype: int64\n"
     ]
    }
   ],
   "source": [
    "print(obs_df['auto_suff'].value_counts(normalize = True))\n",
    "print(obs_df[obs_df['auto_suff'] >=0]['auto_suff'].value_counts(normalize = True))\n",
    "print(obs_df['hh_veh'].value_counts())\n",
    "print(obs_df['hh_employed'].value_counts())\n",
    "\n"
   ]
  },
  {
   "cell_type": "code",
   "execution_count": 18,
   "metadata": {},
   "outputs": [
    {
     "name": "stdout",
     "output_type": "stream",
     "text": [
      "[2 0 1 ... 2 0 2]\n"
     ]
    }
   ],
   "source": [
    "# impute autosuff based on overall distribution\n",
    "\n",
    "# 0    0.342\n",
    "# 1    0.272\n",
    "# 2    0.386\n",
    "random.seed(413)\n",
    "\n",
    "m = obs_df[obs_df['auto_suff']<0].shape[0]\n",
    "\n",
    "s = np.random.choice([0, 1, 2],\n",
    "                     p=[ 0.342, 0.272,0.386], \n",
    "                     size = m)\n",
    "print(s)\n",
    "\n",
    "obs_df.loc[obs_df['auto_suff'] < 0, 'auto_suff'] = s"
   ]
  },
  {
   "cell_type": "code",
   "execution_count": 19,
   "metadata": {},
   "outputs": [
    {
     "name": "stdout",
     "output_type": "stream",
     "text": [
      "350474.127932107\n",
      "272362.71444986097\n",
      "scaled weights\n",
      "350474.127932107\n",
      "272362.71444986097\n"
     ]
    }
   ],
   "source": [
    "# # Scale to boardings in oct 2018\n",
    "# pd.set_option('display.max_rows', 130)\n",
    "\n",
    "# metcouncil_boardings = ...\n",
    "\n",
    "# Assume updated weights will have right boarding sum?\n",
    "# Scale missing purposes\n",
    "\n",
    "\n",
    "weight_sum = obs_df['Unlinked_Weight-AE'].sum()\n",
    "linked_weight_sum =  obs_df['Linked_Weight-AE'].sum()\n",
    "print(weight_sum)\n",
    "print(linked_weight_sum)\n",
    "obs_df = obs_df[~obs_df['ORIGIN_PLACE_TYPE_CODE'].isnull()]\n",
    "\n",
    "weight_sum_2 =  obs_df['Unlinked_Weight-AE'].sum()\n",
    "linked_weight_sum_2 =  obs_df['Linked_Weight-AE'].sum()\n",
    "\n",
    "obs_df['unlinked_weight_scaled'] = obs_df['Unlinked_Weight-AE'] * (weight_sum/weight_sum_2)\n",
    "obs_df['linked_weight_scaled'] = obs_df['Linked_Weight-AE'] * (linked_weight_sum/linked_weight_sum_2)\n",
    "print('scaled weights')\n",
    "print(obs_df.unlinked_weight_scaled.sum())\n",
    "print(obs_df.linked_weight_scaled.sum())\n"
   ]
  },
  {
   "cell_type": "code",
   "execution_count": null,
   "metadata": {},
   "outputs": [],
   "source": []
  },
  {
   "cell_type": "markdown",
   "metadata": {},
   "source": [
    "#### Impute tour purposes for non-work tours:\n",
    "\n",
    "Impute work tours/sub-tours and joint tour purposes where applicable using time of day.\n",
    "\n",
    "* Impute work tours from maintenance/discretionary tours \n",
    "* Impute work sub-tours where neither end is home\n",
    "* Impute joint tours from maintenance/discretionary tours that remain\n",
    "\n",
    "Metra is only first half of the day, so have to do it on regular metra dataset before combining\n",
    "\n"
   ]
  },
  {
   "cell_type": "code",
   "execution_count": 20,
   "metadata": {},
   "outputs": [
    {
     "data": {
      "text/plain": [
       "7:00 - 8:00 am         3526\n",
       "4:00 - 5:00 pm         3290\n",
       "5:00 - 6:00 pm         2827\n",
       "8:00 - 9:00 am         2688\n",
       "3:00 - 4:00 pm         2527\n",
       "10:00 - 11:00 am       2053\n",
       "9:00 - 10:00 am        2050\n",
       "6:00 - 7:00 am         1905\n",
       "7:00 - 8:00 pm         1801\n",
       "11:00 am - 12:00 pm    1422\n",
       "12:00 pm - 1:00 pm     1189\n",
       "6:30 - 7:00 pm         1088\n",
       "2:00 - 3:00 pm         1068\n",
       "6:00 - 6:30 pm         1031\n",
       "1:00 - 2:00 pm          705\n",
       "8:00 - 9:00 pm          653\n",
       "11:00 - 12:00 pm        525\n",
       "Before 6:00 am          117\n",
       "After 9:00 pm            26\n",
       "Name: TIME_ON, dtype: int64"
      ]
     },
     "execution_count": 20,
     "metadata": {},
     "output_type": "execute_result"
    }
   ],
   "source": [
    "obs_df.TIME_ON.value_counts()\n",
    "# metra_df.Time.value_counts()"
   ]
  },
  {
   "cell_type": "markdown",
   "metadata": {},
   "source": [
    "### Tour Purpose\n",
    "\n",
    "* Work (home-based-work or work-based tour)\n",
    "* School\n",
    "* Other - use a hierarchy\n"
   ]
  },
  {
   "cell_type": "code",
   "execution_count": 21,
   "metadata": {
    "pycharm": {
     "name": "#%%\n"
    },
    "scrolled": true
   },
   "outputs": [
    {
     "data": {
      "text/html": [
       "<div>\n",
       "<style scoped>\n",
       "    .dataframe tbody tr th:only-of-type {\n",
       "        vertical-align: middle;\n",
       "    }\n",
       "\n",
       "    .dataframe tbody tr th {\n",
       "        vertical-align: top;\n",
       "    }\n",
       "\n",
       "    .dataframe thead th {\n",
       "        text-align: right;\n",
       "    }\n",
       "</style>\n",
       "<table border=\"1\" class=\"dataframe\">\n",
       "  <thead>\n",
       "    <tr style=\"text-align: right;\">\n",
       "      <th>DEST_PURPOSE</th>\n",
       "      <th>Discretionary</th>\n",
       "      <th>Home</th>\n",
       "      <th>K-12 school</th>\n",
       "      <th>Maintenance</th>\n",
       "      <th>University</th>\n",
       "      <th>Work</th>\n",
       "      <th>All</th>\n",
       "    </tr>\n",
       "    <tr>\n",
       "      <th>ORIG_PURPOSE</th>\n",
       "      <th></th>\n",
       "      <th></th>\n",
       "      <th></th>\n",
       "      <th></th>\n",
       "      <th></th>\n",
       "      <th></th>\n",
       "      <th></th>\n",
       "    </tr>\n",
       "  </thead>\n",
       "  <tbody>\n",
       "    <tr>\n",
       "      <th>Discretionary</th>\n",
       "      <td>2.00</td>\n",
       "      <td>5.48</td>\n",
       "      <td>0.12</td>\n",
       "      <td>0.83</td>\n",
       "      <td>0.43</td>\n",
       "      <td>1.00</td>\n",
       "      <td>9.86</td>\n",
       "    </tr>\n",
       "    <tr>\n",
       "      <th>Home</th>\n",
       "      <td>9.13</td>\n",
       "      <td>0.02</td>\n",
       "      <td>1.97</td>\n",
       "      <td>5.48</td>\n",
       "      <td>6.79</td>\n",
       "      <td>26.14</td>\n",
       "      <td>49.52</td>\n",
       "    </tr>\n",
       "    <tr>\n",
       "      <th>K-12 school</th>\n",
       "      <td>0.20</td>\n",
       "      <td>1.41</td>\n",
       "      <td>0.02</td>\n",
       "      <td>0.03</td>\n",
       "      <td>0.05</td>\n",
       "      <td>0.13</td>\n",
       "      <td>1.84</td>\n",
       "    </tr>\n",
       "    <tr>\n",
       "      <th>Maintenance</th>\n",
       "      <td>0.85</td>\n",
       "      <td>4.81</td>\n",
       "      <td>0.03</td>\n",
       "      <td>0.57</td>\n",
       "      <td>0.08</td>\n",
       "      <td>0.36</td>\n",
       "      <td>6.71</td>\n",
       "    </tr>\n",
       "    <tr>\n",
       "      <th>University</th>\n",
       "      <td>0.64</td>\n",
       "      <td>4.58</td>\n",
       "      <td>0.02</td>\n",
       "      <td>0.15</td>\n",
       "      <td>1.27</td>\n",
       "      <td>0.42</td>\n",
       "      <td>7.06</td>\n",
       "    </tr>\n",
       "    <tr>\n",
       "      <th>Work</th>\n",
       "      <td>1.93</td>\n",
       "      <td>21.39</td>\n",
       "      <td>0.02</td>\n",
       "      <td>0.69</td>\n",
       "      <td>0.37</td>\n",
       "      <td>0.62</td>\n",
       "      <td>25.02</td>\n",
       "    </tr>\n",
       "    <tr>\n",
       "      <th>All</th>\n",
       "      <td>14.74</td>\n",
       "      <td>37.68</td>\n",
       "      <td>2.18</td>\n",
       "      <td>7.75</td>\n",
       "      <td>8.99</td>\n",
       "      <td>28.67</td>\n",
       "      <td>100.00</td>\n",
       "    </tr>\n",
       "  </tbody>\n",
       "</table>\n",
       "</div>"
      ],
      "text/plain": [
       "DEST_PURPOSE   Discretionary   Home  K-12 school  Maintenance  University  \\\n",
       "ORIG_PURPOSE                                                                \n",
       "Discretionary           2.00   5.48         0.12         0.83        0.43   \n",
       "Home                    9.13   0.02         1.97         5.48        6.79   \n",
       "K-12 school             0.20   1.41         0.02         0.03        0.05   \n",
       "Maintenance             0.85   4.81         0.03         0.57        0.08   \n",
       "University              0.64   4.58         0.02         0.15        1.27   \n",
       "Work                    1.93  21.39         0.02         0.69        0.37   \n",
       "All                    14.74  37.68         2.18         7.75        8.99   \n",
       "\n",
       "DEST_PURPOSE    Work     All  \n",
       "ORIG_PURPOSE                  \n",
       "Discretionary   1.00    9.86  \n",
       "Home           26.14   49.52  \n",
       "K-12 school     0.13    1.84  \n",
       "Maintenance     0.36    6.71  \n",
       "University      0.42    7.06  \n",
       "Work            0.62   25.02  \n",
       "All            28.67  100.00  "
      ]
     },
     "execution_count": 21,
     "metadata": {},
     "output_type": "execute_result"
    }
   ],
   "source": [
    "purpose_ct = pd.crosstab(\n",
    "    obs_df['ORIG_PURPOSE'],\n",
    "    obs_df['DEST_PURPOSE'],\n",
    "    values=obs_df['unlinked_weight_scaled'],\n",
    "    aggfunc=sum,\n",
    "    normalize='all',\n",
    "    margins=True)*100\n",
    "# purpose_ct = add_percentage_to_crosstab(purpose_ct)\n",
    "# purpose_ct.fillna(0, inplace=True)\n",
    "purpose_ct.applymap(lambda x: round(x,2))"
   ]
  },
  {
   "cell_type": "code",
   "execution_count": 22,
   "metadata": {
    "pycharm": {
     "name": "#%%\n"
    }
   },
   "outputs": [],
   "source": [
    "def determine_tour_purpose(orig_purpose, dest_purpose):\n",
    "    if (orig_purpose == 'Work') & (dest_purpose == 'Work'):\n",
    "        return 'Work sub-tour'\n",
    "    if (orig_purpose == 'Work') | (dest_purpose == 'Work'):\n",
    "        return 'Work'\n",
    "    if (orig_purpose == 'Other work') | (dest_purpose == 'Other work'):\n",
    "        return 'Maintenance'\n",
    "    if (orig_purpose == 'University') | (dest_purpose == 'University'):\n",
    "        return 'University'\n",
    "    if (orig_purpose == 'K-12 school') | (dest_purpose == 'K-12 school'):\n",
    "        return 'School'\n",
    "    if (orig_purpose == 'Maintenance') | (dest_purpose == 'Maintenance'):\n",
    "        return 'Maintenance'\n",
    "    if (orig_purpose == 'Discretionary') | (dest_purpose == 'Discretionary'):\n",
    "        return 'Discretionary'\n",
    "    if (orig_purpose == 'Home') & (dest_purpose != 'Home'):\n",
    "        return dest_purpose\n",
    "    if (orig_purpose != 'Home') & (dest_purpose == 'Home'):\n",
    "        return orig_purpose\n",
    "    if (orig_purpose == 'Home') & (dest_purpose == 'Home'):\n",
    "        return 'Discretionary'\n",
    "    if orig_purpose == dest_purpose:\n",
    "        return orig_purpose\n",
    "    return dest_purpose\n",
    "\n",
    "obs_df['TOUR_PURPOSE'] = obs_df.apply(lambda row: determine_tour_purpose(row['ORIG_PURPOSE'], row['DEST_PURPOSE']), axis=1)\n",
    "\n",
    "# home-home as other discrectionary\n",
    "# Social/visiting vs. other discretionary\n",
    "# Recreation & sporting in \"other discretionary\"\n"
   ]
  },
  {
   "cell_type": "code",
   "execution_count": 23,
   "metadata": {
    "pycharm": {
     "name": "#%%\n"
    },
    "scrolled": true
   },
   "outputs": [
    {
     "data": {
      "text/plain": [
       "TOUR_PURPOSE\n",
       "Discretionary     43847.228655\n",
       "Maintenance       33937.855884\n",
       "School             8937.711657\n",
       "University        40840.006454\n",
       "Work             143004.575059\n",
       "Work sub-tour      1795.336742\n",
       "Name: linked_weight_scaled, dtype: float64"
      ]
     },
     "execution_count": 23,
     "metadata": {},
     "output_type": "execute_result"
    }
   ],
   "source": [
    "# use trip weights instead\n",
    "obs_df['TOUR_PURPOSE'].value_counts(dropna=False)\n",
    "obs_df.groupby(['TOUR_PURPOSE'])['linked_weight_scaled'].agg(sum).sort_index(level='TOUR_PURPOSE')\n"
   ]
  },
  {
   "cell_type": "code",
   "execution_count": 24,
   "metadata": {
    "scrolled": true
   },
   "outputs": [
    {
     "data": {
      "text/plain": [
       "TOUR_PURPOSE\n",
       "Discretionary     58242.161940\n",
       "Maintenance       43958.250436\n",
       "School            13257.389708\n",
       "University        49020.267665\n",
       "Work             183837.778131\n",
       "Work sub-tour      2158.280051\n",
       "Name: unlinked_weight_scaled, dtype: float64"
      ]
     },
     "execution_count": 24,
     "metadata": {},
     "output_type": "execute_result"
    }
   ],
   "source": [
    "obs_df.groupby(['TOUR_PURPOSE'])['unlinked_weight_scaled'].agg(sum).sort_index(level='TOUR_PURPOSE')"
   ]
  },
  {
   "cell_type": "code",
   "execution_count": 25,
   "metadata": {
    "pycharm": {
     "name": "#%%\n"
    }
   },
   "outputs": [
    {
     "name": "stdout",
     "output_type": "stream",
     "text": [
      "           unlinked_weight_scaled  Percent\n",
      "TOUR_MODE                                 \n",
      "KNR                     19110.257    5.453\n",
      "PNR                     39250.223   11.199\n",
      "Walk                   292113.648   83.348\n"
     ]
    },
    {
     "data": {
      "text/plain": [
       "TOUR_MODE\n",
       "KNR     19110.257\n",
       "PNR     39250.223\n",
       "Walk   292113.648\n",
       "Name: unlinked_weight_scaled, dtype: float64"
      ]
     },
     "execution_count": 25,
     "metadata": {},
     "output_type": "execute_result"
    }
   ],
   "source": [
    "# access/egress individually coded earlier\n",
    "pd.set_option('display.float_format', lambda x: '%.3f' % x)\n",
    "# code access based on both access/egress\n",
    "def determine_tour_mode(row):\n",
    "    if (row['access_mode'] == 'PNR') | (row['egress_mode'] == 'PNR'):\n",
    "        return 'PNR'\n",
    "    if (row['access_mode'] == 'TNR') | (row['egress_mode'] == 'TNR'):\n",
    "        return 'TNR'\n",
    "    if (row['access_mode'] == 'KNR') | (row['egress_mode'] == 'KNR'):\n",
    "        return 'KNR'\n",
    "    return 'Walk'\n",
    "\n",
    "obs_df['TOUR_MODE'] = obs_df.apply(lambda row: determine_tour_mode(row), axis=1)\n",
    "access_df = obs_df.groupby(['TOUR_MODE'])['unlinked_weight_scaled'].agg(sum).sort_index(level='TOUR_MODE').to_frame()\n",
    "access_df['Percent'] = access_df['unlinked_weight_scaled'] / access_df['unlinked_weight_scaled'].sum() * 100\n",
    "\n",
    "\n",
    "\n",
    "print(access_df)\n",
    "\n",
    "obs_df.groupby(['TOUR_MODE'])['unlinked_weight_scaled'].agg(sum).sort_index(level='TOUR_MODE')"
   ]
  },
  {
   "cell_type": "code",
   "execution_count": 26,
   "metadata": {},
   "outputs": [],
   "source": [
    "# derive TOD/use CMAP utilities for now\n",
    "\n",
    "obs_df.loc[(obs_df['TIME_ON_CODE']>=5) & (obs_df['TIME_ON_CODE'] <=11), 'TOD'] = '9:01 am - 3:00 pm'\n",
    "obs_df.loc[(obs_df['TIME_ON_CODE']>=6) & (obs_df['TIME_ON_CODE'] <=9), 'TOD'] = '10:01 am - 2:00 pm'\n"
   ]
  },
  {
   "cell_type": "code",
   "execution_count": 27,
   "metadata": {
    "scrolled": true
   },
   "outputs": [
    {
     "name": "stdout",
     "output_type": "stream",
     "text": [
      "0.382    9221\n",
      "0.156    3716\n",
      "0.655    2331\n",
      "0.338    1931\n",
      "0.300    1659\n",
      "0.191    1578\n",
      "0.196    1314\n",
      "0.151    1121\n",
      "0.066     801\n",
      "0.786     799\n",
      "0.611     784\n",
      "0.361     719\n",
      "0.568     507\n",
      "0.085     492\n",
      "0.064     428\n",
      "0.141     401\n",
      "0.126     392\n",
      "0.164     370\n",
      "0.522     300\n",
      "0.052     188\n",
      "0.718     175\n",
      "0.752     160\n",
      "0.584     138\n",
      "0.428     134\n",
      "0.591     110\n",
      "0.512     100\n",
      "0.352      86\n",
      "0.420      65\n",
      "0.295      60\n",
      "0.178      49\n",
      "0.287      44\n",
      "0.335      43\n",
      "0.494      42\n",
      "0.356      38\n",
      "0.222      31\n",
      "0.537      30\n",
      "0.246      25\n",
      "0.460      24\n",
      "0.172      22\n",
      "0.306      21\n",
      "0.375      15\n",
      "0.168      12\n",
      "0.072       9\n",
      "0.144       3\n",
      "0.545       3\n",
      "Name: probWTP, dtype: int64\n",
      "0.33865062576825417\n",
      "0.336787904627595\n"
     ]
    },
    {
     "data": {
      "text/plain": [
       "TOUR_PURPOSE\n",
       "Discretionary    38829.714\n",
       "Maintenance      27587.142\n",
       "School            8937.712\n",
       "University       40840.006\n",
       "Work            154372.803\n",
       "Work sub-tour     1795.337\n",
       "Name: linked_weight_scaled, dtype: float64"
      ]
     },
     "execution_count": 27,
     "metadata": {},
     "output_type": "execute_result"
    }
   ],
   "source": [
    "# Impute work tour purpose\n",
    "# Limit to workers, tour purpose is maintenance/discretionary\n",
    "# limit to weekdays? need to ask -- Day_Type_2 == 1\n",
    "\n",
    "obs_df['TOUR_PURPOSE_INIT'] = obs_df['TOUR_PURPOSE']\n",
    "obs_df['imputed_tour_purpose'] = ''\n",
    "\n",
    "# calculate utility work tour based on model coefficients\n",
    "obs_df['uWTP'] = -0.480\n",
    "\n",
    "# original tour purpose\n",
    "obs_df.loc[(obs_df['TOUR_PURPOSE_INIT'] == 'Discretionary'), 'uWTP'] = obs_df[obs_df['TOUR_PURPOSE_INIT'] == 'Discretionary']['uWTP'] + (-0.961)\n",
    "\n",
    "\n",
    "# surveyed hour\n",
    "obs_df.loc[(obs_df['TOD'] == '9:01 am - 3:00 pm'), 'uWTP'] = obs_df[(obs_df['TOD'] == '9:01 am - 3:00 pm')]['uWTP'] + (-1.21)\n",
    "obs_df.loc[(obs_df['TIME_ON_CODE'] == 12), 'uWTP'] = obs_df[(obs_df['TIME_ON_CODE'] == 12)]['uWTP'] + (-0.19 ) # 4pm\n",
    "obs_df.loc[(obs_df['TIME_ON_CODE'] == 13), 'uWTP'] = obs_df[(obs_df['TIME_ON_CODE'] == 13)]['uWTP'] + (-0.365) # 5pm\n",
    "obs_df.loc[(obs_df['TIME_ON_CODE'] == 14) | (obs_df['TIME_ON_CODE'] == 15), 'uWTP'] = obs_df[(obs_df['TIME_ON_CODE'] == 14) | (obs_df['TIME_ON_CODE'] == 15)]['uWTP'] + (-0.932) # 6pm\n",
    "obs_df.loc[(obs_df['TIME_ON_CODE'] == 16), 'uWTP'] = obs_df[(obs_df['TIME_ON_CODE'] == 16)]['uWTP'] + (-1.25) # 7pm\n",
    "obs_df.loc[(obs_df['TIME_ON_CODE'] == 17), 'uWTP'] = obs_df[(obs_df['TIME_ON_CODE'] == 17)]['uWTP'] + (-1.46) # 8pm\n",
    "obs_df.loc[(obs_df['TIME_ON_CODE'] == 18), 'uWTP'] = obs_df[(obs_df['TIME_ON_CODE'] == 18)]['uWTP'] + (-1.12) # >9pm\n",
    "\n",
    "# access mode\n",
    "obs_df.loc[(obs_df['TOUR_MODE'] == 'PNR'), 'uWTP'] = obs_df[(obs_df['TOUR_MODE'] == 'PNR')]['uWTP'] + (1.12) \n",
    "obs_df.loc[(obs_df['TOUR_MODE'] == 'KNR'), 'uWTP'] = obs_df[(obs_df['TOUR_MODE'] == 'KNR')]['uWTP'] + (1.78) \n",
    "\n",
    "# calculate probability\n",
    "obs_df['expuWTP'] = np.exp(obs_df['uWTP'])\n",
    "obs_df['probWTP'] = obs_df['expuWTP']/(1 + obs_df['expuWTP'])\n",
    "\n",
    "print(obs_df['probWTP'].value_counts(dropna=False))\n",
    "\n",
    "# Generate random number\n",
    "np.random.seed(30)\n",
    "obs_df['randn'] = np.random.uniform(0, 1, obs_df.shape[0])\n",
    "\n",
    "obs_df.loc[(obs_df['randn'] < obs_df['probWTP']), 'imputed_tour_purpose'] = 'Work'\n",
    "obs_df.loc[(obs_df['randn'] >= obs_df['probWTP']), 'imputed_tour_purpose'] = 'replace'\n",
    "\n",
    "\n",
    "print(np.mean(obs_df['probWTP']))\n",
    "print(obs_df[obs_df['imputed_tour_purpose'] == 'Work'].shape[0]/\n",
    "      (obs_df[obs_df['imputed_tour_purpose'] == 'Work'].shape[0] + \n",
    "       obs_df[obs_df['imputed_tour_purpose'] == 'replace'].shape[0]))\n",
    "\n",
    "obs_df.loc[(obs_df['hh_employed'] > 0) & \n",
    "           (obs_df['imputed_tour_purpose'] == 'Work') & \n",
    "           (obs_df['TOUR_PURPOSE_INIT'].isin(['Maintenance', 'Discretionary'])), 'TOUR_PURPOSE'] = obs_df[(obs_df['hh_employed'] > 0) & \n",
    "               (obs_df['imputed_tour_purpose'] == 'Work') & \n",
    "               (obs_df['TOUR_PURPOSE_INIT'].isin(['Maintenance', 'Discretionary']))]['imputed_tour_purpose']\n",
    "\n",
    "obs_df.groupby(['TOUR_PURPOSE'])['linked_weight_scaled'].agg(sum).sort_index(level='TOUR_PURPOSE')\n",
    "\n"
   ]
  },
  {
   "cell_type": "code",
   "execution_count": 28,
   "metadata": {},
   "outputs": [],
   "source": [
    "# Derive observed/surveyed hour (as a sub for departure hour)\n",
    "\n",
    "\n",
    "# # pd.to_datetime(obs_df['StartTime']).head()\n",
    "# obs_df['surveyed_hour'] = pd.to_datetime(obs_df['StartTime']).dt.hour\n",
    "\n",
    "# obs_df['surveyed_hour'].value_counts(dropna=False).sort_index(level='surveyed_hour')\n"
   ]
  },
  {
   "cell_type": "code",
   "execution_count": 29,
   "metadata": {},
   "outputs": [
    {
     "name": "stdout",
     "output_type": "stream",
     "text": [
      "0.077    15160\n",
      "0.006     9437\n",
      "0.028     2968\n",
      "0.299     1737\n",
      "0.044      754\n",
      "0.403      435\n",
      "Name: probWST, dtype: int64\n",
      "0.06686333099126178\n",
      "0.06962710307959726\n"
     ]
    },
    {
     "data": {
      "text/plain": [
       "TOUR_PURPOSE\n",
       "Discretionary    38686.081\n",
       "Maintenance      27508.104\n",
       "School            8935.653\n",
       "University       40686.600\n",
       "Work            152001.199\n",
       "Work sub-tour     4545.077\n",
       "Name: linked_weight_scaled, dtype: float64"
      ]
     },
     "execution_count": 29,
     "metadata": {},
     "output_type": "execute_result"
    }
   ],
   "source": [
    "# Impute work sub-tour purpose\n",
    "# Limit to origin/destination not home\n",
    "\n",
    "# calculate utility work subtour based on model coefficients\n",
    "obs_df['uWST'] = -5.16\n",
    "\n",
    "obs_df.loc[(obs_df['ORIG_PURPOSE'] == 'Work') | (obs_df['DEST_PURPOSE'] == 'Work'), 'uWST'] = \\\n",
    "    obs_df[(obs_df['ORIG_PURPOSE'] == 'Work') | (obs_df['DEST_PURPOSE'] == 'Work')]['uWST'] + (2.68 )\n",
    "obs_df.loc[(obs_df['TOD'] == '10:01 am - 2:00 pm'), 'uWST'] = obs_df[(obs_df['TOD'] == '10:01 am - 2:00 pm')]['uWST'] + (1.63)\n",
    "obs_df.loc[(obs_df['TIME_ON_CODE'] == 8), 'uWST'] = obs_df[(obs_df['TIME_ON_CODE'] == 8)]['uWST'] + (0.458)\n",
    "\n",
    "\n",
    "\n",
    "# calculate probability\n",
    "obs_df['expuWST'] = np.exp(obs_df['uWST'])\n",
    "obs_df['probWST'] = obs_df['expuWST']/(1 + obs_df['expuWST'])\n",
    "\n",
    "print(obs_df['probWST'].value_counts(dropna=False))\n",
    "\n",
    "# Generate random number\n",
    "obs_df['randn'] = np.random.uniform(0, 1, obs_df.shape[0])\n",
    "\n",
    "obs_df.loc[(obs_df['randn'] < obs_df['probWST']), 'imputed_tour_purpose'] = 'Work sub-tour'\n",
    "obs_df.loc[(obs_df['randn'] >= obs_df['probWST']), 'imputed_tour_purpose'] = 'replace'\n",
    "\n",
    "\n",
    "print(np.mean(obs_df['probWST']))\n",
    "print(obs_df[obs_df['imputed_tour_purpose'] == 'Work sub-tour'].shape[0]/\n",
    "      (obs_df[obs_df['imputed_tour_purpose'] == 'Work sub-tour'].shape[0] + \n",
    "       obs_df[obs_df['imputed_tour_purpose'] == 'replace'].shape[0]))\n",
    "\n",
    "obs_df.loc[(obs_df['imputed_tour_purpose'] == 'Work sub-tour') & \n",
    "           (obs_df['ORIG_PURPOSE'] != 'Home') & \n",
    "           (obs_df['DEST_PURPOSE'] != 'Home'), 'TOUR_PURPOSE'] = obs_df[(obs_df['imputed_tour_purpose'] == 'Work sub-tour') & \n",
    "           (obs_df['ORIG_PURPOSE'] != 'Home') & \n",
    "           (obs_df['DEST_PURPOSE'] != 'Home')]['imputed_tour_purpose']\n",
    "\n",
    "obs_df.groupby(['TOUR_PURPOSE'])['linked_weight_scaled'].agg(sum).sort_index(level='TOUR_PURPOSE')\n",
    "\n"
   ]
  },
  {
   "cell_type": "code",
   "execution_count": 30,
   "metadata": {},
   "outputs": [
    {
     "data": {
      "text/plain": [
       "2.000     8502\n",
       "1.000     6140\n",
       "3.000     5457\n",
       "4.000     4733\n",
       "5.000     2417\n",
       "6.000     1010\n",
       "7.000      321\n",
       "10.000     231\n",
       "8.000      197\n",
       "9.000       77\n",
       "Name: COUNT_MEMBER_HH_CODE, dtype: int64"
      ]
     },
     "execution_count": 30,
     "metadata": {},
     "output_type": "execute_result"
    }
   ],
   "source": [
    "\n",
    "obs_df.COUNT_MEMBER_HH_CODE.value_counts()\n"
   ]
  },
  {
   "cell_type": "code",
   "execution_count": 31,
   "metadata": {},
   "outputs": [
    {
     "ename": "SyntaxError",
     "evalue": "invalid syntax (<ipython-input-31-610a16155018>, line 13)",
     "output_type": "error",
     "traceback": [
      "\u001b[1;36m  File \u001b[1;32m\"<ipython-input-31-610a16155018>\"\u001b[1;36m, line \u001b[1;32m13\u001b[0m\n\u001b[1;33m    obs_df.loc[(obs_df['TIME_ON_CODE'] == 15), 'uWTP'] = obs_df[(obs_df['TIME_ON_CODE'] == 16)]['uWTP'] + (1.23) # 7pm\u001b[0m\n\u001b[1;37m    ^\u001b[0m\n\u001b[1;31mSyntaxError\u001b[0m\u001b[1;31m:\u001b[0m invalid syntax\n"
     ]
    }
   ],
   "source": [
    "# Impute joint tour\n",
    "# Limit to hhsize >1 and maintenance/discretionary tour purpose (after prev steps)\n",
    "\n",
    "# calculate utility fully joint tour based on model coefficients\n",
    "obs_df['uFJT'] = -2.65\n",
    "\n",
    "# surveyed hour\n",
    "obs_df.loc[(obs_df['TOD'] == '9:01 am - 3:00 pm'), 'uFJT'] = obs_df[(obs_df['TOD'] == '9:01 am - 3:00 pm')]['uFJT'] + (0.567)\n",
    "obs_df.loc[(obs_df['TIME_ON_CODE'] == 12), 'uWTP'] = obs_df[(obs_df['TIME_ON_CODE'] == 12)]['uWTP'] + (0.3547 ) # 4pm\n",
    "obs_df.loc[(obs_df['TIME_ON_CODE'] == 13), 'uWTP'] = obs_df[(obs_df['TIME_ON_CODE'] == 13)]['uWTP'] + (0.643) # 5pm\n",
    "obs_df.loc[(obs_df['TIME_ON_CODE'] == 14) | (obs_df['TIME_ON_CODE'] == 15), 'uWTP'] = \\\n",
    "    obs_df[[(obs_df['TIME_ON_CODE'] == 14) | (obs_df['TIME_ON_CODE'] == 15)]['uWTP'] + (1.02 ) # 6pm\n",
    "obs_df.loc[(obs_df['TIME_ON_CODE'] == 15), 'uWTP'] = obs_df[(obs_df['TIME_ON_CODE'] == 16)]['uWTP'] + (1.23) # 7pm\n",
    "obs_df.loc[(obs_df['TIME_ON_CODE'] == 16), 'uWTP'] = obs_df[(obs_df['TIME_ON_CODE'] == 17)]['uWTP'] + ( 0.997  ) # 8pm\n",
    "obs_df.loc[(obs_df['TOUR_PURPOSE_INIT'] == 'Discretionary'), 'uFJT'] = obs_df[(obs_df['TOUR_PURPOSE_INIT'] == 'Discretionary')]['uFJT'] + (0.227)\n",
    "obs_df.loc[(obs_df['TOUR_PURPOSE_INIT'] == 'Maintenance'), 'uFJT'] = obs_df[(obs_df['TOUR_PURPOSE_INIT'] == 'Maintenance')]['uFJT'] + (-0.197)\n",
    "\n",
    "# calculate probability\n",
    "obs_df['expuFJT'] = np.exp(obs_df['uFJT'])\n",
    "obs_df['probFJT'] = obs_df['expuFJT']/(1 + obs_df['expuFJT'])\n",
    "\n",
    "print(obs_df['probFJT'].value_counts(dropna=False))\n",
    "\n",
    "# Generate random number\n",
    "obs_df['randn'] = np.random.uniform(0, 1, obs_df.shape[0])\n",
    "\n",
    "obs_df.loc[(obs_df['randn'] < obs_df['probFJT']), 'joint_tour_type'] = 'Joint'\n",
    "obs_df.loc[(obs_df['randn'] >= obs_df['probFJT']), 'joint_tour_type'] = 'Ind'\n",
    "\n",
    "\n",
    "print(np.mean(obs_df['probFJT']))\n",
    "print(obs_df[obs_df['joint_tour_type'] == 'Joint'].shape[0]/\n",
    "      (obs_df[obs_df['joint_tour_type'] == 'Joint'].shape[0] + \n",
    "       obs_df[obs_df['joint_tour_type'] == 'Ind'].shape[0]))\n",
    "\n",
    "obs_df.loc[(obs_df['COUNT_MEMBER_HH_CODE'] > 1) & # hhsize > 1\n",
    "           (obs_df['TOUR_PURPOSE'] == 'Discretionary') & \n",
    "           (obs_df['joint_tour_type'] == 'Joint'), 'TOUR_PURPOSE'] = 'Joint-Discretionary'\n",
    "\n",
    "obs_df.loc[(obs_df['TOUR_PURPOSE'] == 'Discretionary'), 'TOUR_PURPOSE'] = 'Ind-Discretionary'\n",
    "\n",
    "obs_df.loc[(obs_df['COUNT_MEMBER_HH_CODE'] > 1) & # hhsize > 1\n",
    "           (obs_df['TOUR_PURPOSE'] == 'Maintenance') & \n",
    "           (obs_df['joint_tour_type'] == 'Joint'), 'TOUR_PURPOSE'] = 'Joint-Maintenance'\n",
    "\n",
    "obs_df.loc[(obs_df['TOUR_PURPOSE'] == 'Maintenance'), 'TOUR_PURPOSE'] = 'Ind-Maintenance'\n",
    "\n",
    "\n",
    "obs_df.groupby(['TOUR_PURPOSE'])['linked_weight_scaled'].agg(sum).sort_index(level='TOUR_PURPOSE')\n",
    "\n"
   ]
  },
  {
   "cell_type": "code",
   "execution_count": null,
   "metadata": {},
   "outputs": [],
   "source": [
    "obs_df.groupby(['TOUR_PURPOSE'])['linked_weight_scaled'].agg(sum).sort_index(level='TOUR_PURPOSE')\n"
   ]
  },
  {
   "cell_type": "markdown",
   "metadata": {},
   "source": [
    "## Combine with reverse metra data"
   ]
  },
  {
   "cell_type": "code",
   "execution_count": null,
   "metadata": {
    "scrolled": true
   },
   "outputs": [],
   "source": [
    "make_percentage_bar_plot(\n",
    "    variable='auto_suff',\n",
    "    title=\"Auto Sufficiency\",\n",
    "    xlabel=\"Auto Sufficiency\",\n",
    "    xlabel_rotation=0)\n",
    "\n"
   ]
  },
  {
   "cell_type": "code",
   "execution_count": null,
   "metadata": {
    "pycharm": {
     "name": "#%%\n"
    },
    "scrolled": true
   },
   "outputs": [],
   "source": [
    "make_percentage_bar_plot(\n",
    "    variable='TOUR_PURPOSE',\n",
    "    title=\"Inferred Tour Purpose\",\n",
    "    xlabel=\"Tour Purpose\",\n",
    "    xlabel_rotation=90)\n"
   ]
  },
  {
   "cell_type": "code",
   "execution_count": null,
   "metadata": {},
   "outputs": [],
   "source": [
    "obs_df['TOUR_MODE'] = obs_df.apply(lambda row: determine_tour_mode(row), axis=1)\n",
    "access_df = obs_df.groupby(['TOUR_MODE'])['linked_weight_scaled'].agg(sum).sort_index(level='TOUR_MODE').to_frame()\n",
    "access_df['Percent'] = access_df['linked_weight_scaled'] / access_df['linked_weight_scaled'].sum() * 100\n",
    "\n",
    "\n",
    "\n",
    "print(access_df)\n",
    "\n",
    "obs_df.groupby(['TOUR_MODE'])['linked_weight_scaled'].agg(sum).sort_index(level='TOUR_MODE')"
   ]
  },
  {
   "cell_type": "markdown",
   "metadata": {},
   "source": [
    "## Summary tables"
   ]
  },
  {
   "cell_type": "markdown",
   "metadata": {},
   "source": [
    "### Boardings by line"
   ]
  },
  {
   "cell_type": "code",
   "execution_count": null,
   "metadata": {},
   "outputs": [],
   "source": [
    "\n",
    "obs_df.ROUTE.value_counts()\n",
    "obs_df.groupby(['ROUTE'])['unlinked_weight_scaled'].agg(sum).sort_index(level='ROUTE')"
   ]
  },
  {
   "cell_type": "code",
   "execution_count": null,
   "metadata": {},
   "outputs": [],
   "source": [
    "mode_df = obs_df.groupby(['TOUR_MODE'])['linked_weight_scaled'].agg(sum).sort_index(level='TOUR_MODE').to_frame()\n",
    "mode_df['Percent'] = mode_df['linked_weight_scaled'] / mode_df['linked_weight_scaled'].sum() * 100\n",
    "display(HTML(mode_df.to_html()))"
   ]
  },
  {
   "cell_type": "markdown",
   "metadata": {},
   "source": [
    "### Linked trips by transit mode + tour purpose"
   ]
  },
  {
   "cell_type": "code",
   "execution_count": null,
   "metadata": {},
   "outputs": [],
   "source": [
    "mode_purpose_ct = pd.crosstab(obs_df['TOUR_PURPOSE'], obs_df['TOUR_MODE'], values=obs_df['linked_weight_scaled'], aggfunc=sum, margins=True)\n",
    "mode_purpose_ct = add_percentage_to_crosstab(mode_purpose_ct)\n",
    "mode_purpose_ct.fillna(0, inplace=True)\n",
    "mode_purpose_ct.applymap(lambda x: round(x,2))\n"
   ]
  },
  {
   "cell_type": "markdown",
   "metadata": {},
   "source": [
    "### Linked trips by tour purpose, auto sufficiency, and access mode"
   ]
  },
  {
   "cell_type": "code",
   "execution_count": null,
   "metadata": {},
   "outputs": [],
   "source": [
    "purpose_suff_access_ct = pd.crosstab(obs_df['TOUR_PURPOSE'], [obs_df['auto_suff'], obs_df['access_mode']], values=obs_df['linked_weight_scaled'], aggfunc=sum, margins=True)\n",
    "purpose_suff_access_ct = add_percentage_to_crosstab(purpose_suff_access_ct)\n",
    "purpose_suff_access_ct.fillna(0, inplace=True)\n",
    "purpose_suff_access_ct.applymap(lambda x: round(x,2))"
   ]
  },
  {
   "cell_type": "markdown",
   "metadata": {},
   "source": [
    "## Write coded output"
   ]
  },
  {
   "cell_type": "code",
   "execution_count": null,
   "metadata": {
    "pycharm": {
     "name": "#%%\n"
    },
    "scrolled": true
   },
   "outputs": [],
   "source": [
    "obs_df.to_csv(os.path.join(output_path, 'processed_obs.csv'))"
   ]
  }
 ],
 "metadata": {
  "kernelspec": {
   "display_name": "Python 3",
   "language": "python",
   "name": "python3"
  },
  "language_info": {
   "codemirror_mode": {
    "name": "ipython",
    "version": 3
   },
   "file_extension": ".py",
   "mimetype": "text/x-python",
   "name": "python",
   "nbconvert_exporter": "python",
   "pygments_lexer": "ipython3",
   "version": "3.9.16"
  }
 },
 "nbformat": 4,
 "nbformat_minor": 4
}
