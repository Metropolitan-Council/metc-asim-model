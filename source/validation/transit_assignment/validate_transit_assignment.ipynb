{
 "cells": [
  {
   "cell_type": "code",
   "execution_count": 101,
   "metadata": {},
   "outputs": [],
   "source": [
    "import pandas as pd\n",
    "import numpy as np\n",
    "import sys\n",
    "import os\n",
    "from IPython.display import display\n",
    "import matplotlib\n",
    "import matplotlib.pyplot as plt\n",
    "import seaborn as sns\n",
    "from simpledbf import Dbf5\n",
    "import openmatrix as omx\n",
    "import re\n",
    "import geopandas as gpd\n",
    "from shapely.geometry import Point, LineString\n",
    "\n",
    "TRANSIT_INPUT = r'E:\\Met_Council\\metc-asim-model\\Input_2022\\transit\\PT_2022.lin'\n",
    "NODES = gpd.read_file(r'E:\\Met_Council\\metc-asim-model\\Base_2022\\transit\\node.dbf')\n",
    "MODEL_OUTPUT = r'E:\\Met_Council\\metc-asim-model\\Base_2022'\n",
    "OBS_SURVEY_PATH = r'E:\\Met_Council\\survey_data\\Phase2\\OBS_survey'\n",
    "ITERATION = 3\n",
    "ASIM_EXPANSION_FACTOR = 0.20767\n",
    "\n",
    "# obs_survey = pd.read_excel(os.path.join(OBS_SURVEY_PATH, 'Met Council OD 2022.xlsx'), \"data\")\n",
    "# obs_survey.to_pickle(os.path.join(OBS_SURVEY_PATH, 'obs_survey.pkl'))\n",
    "obs_survey = pd.read_pickle(os.path.join(OBS_SURVEY_PATH, 'obs_survey.pkl'))"
   ]
  },
  {
   "cell_type": "code",
   "execution_count": 102,
   "metadata": {},
   "outputs": [],
   "source": [
    "def read_card(input_file, group_id, key_id, nxy_table):\n",
    "    with open(input_file, 'r') as fr:\n",
    "        lines = fr.readlines()\n",
    "    lines = [line.rstrip('\\n') for line in lines]\n",
    "    lines = [line for line in lines if line[0] != ';']\n",
    "    lines = ''.join(lines)\n",
    "    lines = lines.split(group_id)\n",
    "    lines = [dict(re.findall(r'(\\S+)\\s*\\=\\s*(.*?)\\s*(?=\\S+\\s*\\=|$)', line)) for line in lines]\n",
    "    out_lines = []\n",
    "    for line in lines:\n",
    "        if 'NAME' in line.keys():\n",
    "            x = {}\n",
    "            x['route_id'] = line['NAME']\n",
    "            for k, v in line.items():\n",
    "                if not k in ['NAME', 'N']:\n",
    "                    x[k] = v.replace('\"',\"\").replace(',','')\n",
    "            coords = nxy_table.loc[[abs(int(n)) for n in line['N'].replace('\\n','').replace(' ', '').split(',')]]\n",
    "            geom = LineString([tuple(x) for x in coords.to_numpy()])\n",
    "            x['geometry'] = geom\n",
    "            out_lines.append(x)             \n",
    "    return out_lines"
   ]
  },
  {
   "cell_type": "code",
   "execution_count": 103,
   "metadata": {},
   "outputs": [],
   "source": [
    "model_transit_lines = gpd.GeoDataFrame(read_card(r'E:\\Met_Council\\metc-asim-model\\Input_2022\\transit\\PT_2022.lin', 'LINE', 'NAME', NODES[['N', 'X', 'Y']].set_index('N')))\n",
    "\n",
    "#.to_file('trn_routes.shp')"
   ]
  },
  {
   "cell_type": "markdown",
   "metadata": {},
   "source": [
    "# ActivitySim Output\n",
    "\n",
    "This is for diagnostics"
   ]
  },
  {
   "cell_type": "code",
   "execution_count": 104,
   "metadata": {},
   "outputs": [],
   "source": [
    "# Read Asim Outputs\n",
    "# tours = pd.read_csv(os.path.join(MODEL_OUTPUT, 'ActivitySim', 'output', 'final_tours.csv'))\n",
    "# trips = pd.read_csv(os.path.join(MODEL_OUTPUT, 'ActivitySim', 'output', 'final_trips.csv'))\n"
   ]
  },
  {
   "cell_type": "code",
   "execution_count": 105,
   "metadata": {},
   "outputs": [
    {
     "name": "stdout",
     "output_type": "stream",
     "text": [
      "Period: EA, table: DriveToTransit, sum: 481.0\n",
      "Period: EA, table: TrnDriveEgress, sum: 1196.0\n",
      "Period: EA, table: WalkToTransit, sum: 4219.199999999999\n",
      "File closed\n",
      "Period: AM, table: DriveToTransit, sum: 5750.0\n",
      "Period: AM, table: TrnDriveEgress, sum: 405.0\n",
      "Period: AM, table: WalkToTransit, sum: 23911.240000000045\n",
      "File closed\n",
      "Period: MD, table: DriveToTransit, sum: 6192.499999999999\n",
      "Period: MD, table: TrnDriveEgress, sum: 993.0\n",
      "Period: MD, table: WalkToTransit, sum: 21790.0\n",
      "File closed\n",
      "Period: PM, table: DriveToTransit, sum: 2955.3800000000006\n",
      "Period: PM, table: TrnDriveEgress, sum: 5634.0\n",
      "Period: PM, table: WalkToTransit, sum: 28348.0\n",
      "File closed\n",
      "Period: NT, table: DriveToTransit, sum: 560.0\n",
      "Period: NT, table: TrnDriveEgress, sum: 3444.0\n",
      "Period: NT, table: WalkToTransit, sum: 14291.0\n",
      "File closed\n"
     ]
    }
   ],
   "source": [
    "trn_mode_period = []\n",
    "for period in ['EA', 'AM', 'MD', 'PM', 'NT']:\n",
    "    try:\n",
    "        #omx_file = omx.open_file(os.path.join(MODEL_OUTPUT, 'ActivitySim', 'output', f'transit_{period}.omx'), 'r')\n",
    "        omx_file = omx.open_file(os.path.join(MODEL_OUTPUT, 'transit', f'XIT_TRIP_{ITERATION}_{period}_CLEAN.omx'), 'r')\n",
    "        \n",
    "        for table in omx_file.list_matrices():\n",
    "            print(f\"Period: {period}, table: {table}, sum: {np.array(omx_file[table]).sum()}\")\n",
    "            trn_mode_period.append([period, table, np.array(omx_file[table]).sum()])\n",
    "\n",
    "    finally:\n",
    "        omx_file.close()\n",
    "        print(\"File closed\")\n",
    "\n",
    "trn_mode_period = pd.DataFrame(trn_mode_period, columns = ['period', 'table', 'trips'])\n"
   ]
  },
  {
   "cell_type": "code",
   "execution_count": 106,
   "metadata": {},
   "outputs": [
    {
     "data": {
      "text/html": [
       "<style type=\"text/css\">\n",
       "</style>\n",
       "<table id=\"T_13230\">\n",
       "  <thead>\n",
       "    <tr>\n",
       "      <th class=\"index_name level0\" >table</th>\n",
       "      <th id=\"T_13230_level0_col0\" class=\"col_heading level0 col0\" >DriveToTransit</th>\n",
       "      <th id=\"T_13230_level0_col1\" class=\"col_heading level0 col1\" >TrnDriveEgress</th>\n",
       "      <th id=\"T_13230_level0_col2\" class=\"col_heading level0 col2\" >WalkToTransit</th>\n",
       "    </tr>\n",
       "    <tr>\n",
       "      <th class=\"index_name level0\" >period</th>\n",
       "      <th class=\"blank col0\" >&nbsp;</th>\n",
       "      <th class=\"blank col1\" >&nbsp;</th>\n",
       "      <th class=\"blank col2\" >&nbsp;</th>\n",
       "    </tr>\n",
       "  </thead>\n",
       "  <tbody>\n",
       "    <tr>\n",
       "      <th id=\"T_13230_level0_row0\" class=\"row_heading level0 row0\" >AM</th>\n",
       "      <td id=\"T_13230_row0_col0\" class=\"data row0 col0\" >5,750</td>\n",
       "      <td id=\"T_13230_row0_col1\" class=\"data row0 col1\" >405</td>\n",
       "      <td id=\"T_13230_row0_col2\" class=\"data row0 col2\" >23,911</td>\n",
       "    </tr>\n",
       "    <tr>\n",
       "      <th id=\"T_13230_level0_row1\" class=\"row_heading level0 row1\" >EA</th>\n",
       "      <td id=\"T_13230_row1_col0\" class=\"data row1 col0\" >481</td>\n",
       "      <td id=\"T_13230_row1_col1\" class=\"data row1 col1\" >1,196</td>\n",
       "      <td id=\"T_13230_row1_col2\" class=\"data row1 col2\" >4,219</td>\n",
       "    </tr>\n",
       "    <tr>\n",
       "      <th id=\"T_13230_level0_row2\" class=\"row_heading level0 row2\" >MD</th>\n",
       "      <td id=\"T_13230_row2_col0\" class=\"data row2 col0\" >6,192</td>\n",
       "      <td id=\"T_13230_row2_col1\" class=\"data row2 col1\" >993</td>\n",
       "      <td id=\"T_13230_row2_col2\" class=\"data row2 col2\" >21,790</td>\n",
       "    </tr>\n",
       "    <tr>\n",
       "      <th id=\"T_13230_level0_row3\" class=\"row_heading level0 row3\" >NT</th>\n",
       "      <td id=\"T_13230_row3_col0\" class=\"data row3 col0\" >560</td>\n",
       "      <td id=\"T_13230_row3_col1\" class=\"data row3 col1\" >3,444</td>\n",
       "      <td id=\"T_13230_row3_col2\" class=\"data row3 col2\" >14,291</td>\n",
       "    </tr>\n",
       "    <tr>\n",
       "      <th id=\"T_13230_level0_row4\" class=\"row_heading level0 row4\" >PM</th>\n",
       "      <td id=\"T_13230_row4_col0\" class=\"data row4 col0\" >2,955</td>\n",
       "      <td id=\"T_13230_row4_col1\" class=\"data row4 col1\" >5,634</td>\n",
       "      <td id=\"T_13230_row4_col2\" class=\"data row4 col2\" >28,348</td>\n",
       "    </tr>\n",
       "    <tr>\n",
       "      <th id=\"T_13230_level0_row5\" class=\"row_heading level0 row5\" >Total</th>\n",
       "      <td id=\"T_13230_row5_col0\" class=\"data row5 col0\" >15,939</td>\n",
       "      <td id=\"T_13230_row5_col1\" class=\"data row5 col1\" >11,672</td>\n",
       "      <td id=\"T_13230_row5_col2\" class=\"data row5 col2\" >92,559</td>\n",
       "    </tr>\n",
       "  </tbody>\n",
       "</table>\n"
      ],
      "text/plain": [
       "<pandas.io.formats.style.Styler at 0x173a4170430>"
      ]
     },
     "execution_count": 106,
     "metadata": {},
     "output_type": "execute_result"
    }
   ],
   "source": [
    "model_pertrip_totals = pd.concat([\n",
    "    trn_mode_period.pivot(index = 'period', columns = 'table', values = 'trips'),\n",
    "    trn_mode_period.groupby('table').agg(trips = ('trips', 'sum')).assign(period = 'Total').reset_index().pivot(index = 'period', columns = 'table', values = 'trips')\n",
    "])\n",
    "\n",
    "model_linked_trips = model_pertrip_totals[model_pertrip_totals.index == 'Total'].sum(1)\n",
    "\n",
    "model_pertrip_totals.style.format('{:,.0f}')"
   ]
  },
  {
   "cell_type": "code",
   "execution_count": 107,
   "metadata": {},
   "outputs": [],
   "source": [
    "trnload = {}\n",
    "\n",
    "for per in ['EA', 'AM', 'MD', 'PM', 'NT']:\n",
    "    for am in ['WK', 'DR', 'DRE']:\n",
    "        trnload[f'{per}_{am}'] = Dbf5(os.path.join(MODEL_OUTPUT, 'transit', f'XIT_{am}_LD_{ITERATION}_{per}.dbf')).to_dataframe()\n"
   ]
  },
  {
   "cell_type": "markdown",
   "metadata": {},
   "source": [
    "# Read Survey Data"
   ]
  },
  {
   "cell_type": "code",
   "execution_count": 108,
   "metadata": {},
   "outputs": [],
   "source": [
    "obs_survey['ROUTE_NAME'] = obs_survey['ROUTE_DIRECTIONCode'].apply(lambda x: x[x.find(\"_\") + 3: x.rfind(\"_\")])\n",
    "obs_ridership = obs_survey.groupby('ROUTE_NAME').agg(obs_ridership = ('Final_unlinked_weight_fctr', 'sum')) #, wtd_linked_trips = ('Final_Linked_weight_fctr', 'sum'))"
   ]
  },
  {
   "cell_type": "code",
   "execution_count": 109,
   "metadata": {},
   "outputs": [
    {
     "name": "stdout",
     "output_type": "stream",
     "text": [
      "Survey trips: 124,008; ridership: 147,929; tranfer rate is  1.1929\n"
     ]
    }
   ],
   "source": [
    "obs_transfer = obs_survey.Final_unlinked_weight_fctr.sum() / obs_survey.Final_Linked_weight_fctr.sum()\n",
    "print(f\"Survey trips: {obs_survey.Final_Linked_weight_fctr.sum():,.0f}; ridership: {obs_survey.Final_unlinked_weight_fctr.sum():,.0f}; tranfer rate is {obs_transfer: ,.4f}\")"
   ]
  },
  {
   "cell_type": "markdown",
   "metadata": {},
   "source": [
    "# Read Model Output"
   ]
  },
  {
   "cell_type": "code",
   "execution_count": 110,
   "metadata": {},
   "outputs": [],
   "source": [
    "trn_summary = pd.concat(trnload)\n",
    "# trn_summary.groupby('MODE').agg(distance = ('DIST', 'sum'), time = ('TIME', 'sum'), boards = ('ONA', 'sum')).assign(speed = lambda x: x['distance'] / (x['time'] / 60.0))"
   ]
  },
  {
   "cell_type": "code",
   "execution_count": 111,
   "metadata": {},
   "outputs": [],
   "source": [
    "trn_summary['ROUTE_NAME'] = ''\n",
    "trn_summary.loc[trn_summary['NAME'].str.find(\"_\") > 0, 'ROUTE_NAME'] = trn_summary['NAME'].apply(lambda x: x[:x.find(\"_\")])\n",
    "\n",
    "trn_summary.groupby(['NAME', 'MODE', 'OPERATOR']).agg(boards = ('ONA', 'sum')).to_excel(\"trn_line_summ.xlsx\")\n",
    "trn_valid_summary = obs_ridership.join(trn_summary[~trn_summary['NAME'].isin(['*1', '*2', '*3', '*4'])].groupby(['ROUTE_NAME', 'MODE']).agg(DIST = ('DIST', 'sum'), TIME = ('TIME', 'sum'), model_ridership = ('ONA', 'sum')), how = 'left')\n",
    "\n",
    "trn_valid_summary.to_excel('transit_loadings.xlsx')"
   ]
  },
  {
   "cell_type": "code",
   "execution_count": 112,
   "metadata": {},
   "outputs": [
    {
     "data": {
      "text/html": [
       "<style type=\"text/css\">\n",
       "</style>\n",
       "<table id=\"T_12ddb\">\n",
       "  <thead>\n",
       "    <tr>\n",
       "      <th class=\"blank level0\" >&nbsp;</th>\n",
       "      <th id=\"T_12ddb_level0_col0\" class=\"col_heading level0 col0\" >0</th>\n",
       "    </tr>\n",
       "  </thead>\n",
       "  <tbody>\n",
       "    <tr>\n",
       "      <th id=\"T_12ddb_level0_row0\" class=\"row_heading level0 row0\" >model_ridership</th>\n",
       "      <td id=\"T_12ddb_row0_col0\" class=\"data row0 col0\" >150,339</td>\n",
       "    </tr>\n",
       "    <tr>\n",
       "      <th id=\"T_12ddb_level0_row1\" class=\"row_heading level0 row1\" >obs_ridership</th>\n",
       "      <td id=\"T_12ddb_row1_col0\" class=\"data row1 col0\" >147,691</td>\n",
       "    </tr>\n",
       "  </tbody>\n",
       "</table>\n"
      ],
      "text/plain": [
       "<pandas.io.formats.style.Styler at 0x1738dbe8c40>"
      ]
     },
     "execution_count": 112,
     "metadata": {},
     "output_type": "execute_result"
    }
   ],
   "source": [
    "pd.DataFrame(trn_valid_summary[['model_ridership', 'obs_ridership']].sum()).style.format('{:,.0f}')"
   ]
  },
  {
   "cell_type": "code",
   "execution_count": 113,
   "metadata": {},
   "outputs": [
    {
     "name": "stdout",
     "output_type": "stream",
     "text": [
      "Observed Transfer Rate: 1.19; Model Transfer Rate:  1.25\n"
     ]
    }
   ],
   "source": [
    "mod_transfer = trn_valid_summary['model_ridership'].sum() / model_linked_trips['Total']\n",
    "print(f\"Observed Transfer Rate: {obs_transfer:0.2f}; Model Transfer Rate: {mod_transfer: 0.2f}\")"
   ]
  },
  {
   "cell_type": "code",
   "execution_count": 114,
   "metadata": {},
   "outputs": [
    {
     "name": "stdout",
     "output_type": "stream",
     "text": [
      "Difference: 2,648 (1.79%)\n"
     ]
    }
   ],
   "source": [
    "vmt_diff = trn_valid_summary['model_ridership'].sum() - trn_valid_summary['obs_ridership'].sum()\n",
    "pct_diff = vmt_diff / trn_valid_summary['obs_ridership'].sum()\n",
    "print(f\"Difference: {vmt_diff:,.0f} ({pct_diff:.2%})\")"
   ]
  },
  {
   "cell_type": "code",
   "execution_count": 115,
   "metadata": {},
   "outputs": [
    {
     "data": {
      "text/html": [
       "<style type=\"text/css\">\n",
       "</style>\n",
       "<table id=\"T_0f25d\">\n",
       "  <thead>\n",
       "    <tr>\n",
       "      <th class=\"blank level0\" >&nbsp;</th>\n",
       "      <th id=\"T_0f25d_level0_col0\" class=\"col_heading level0 col0\" >model</th>\n",
       "      <th id=\"T_0f25d_level0_col1\" class=\"col_heading level0 col1\" >obs</th>\n",
       "      <th id=\"T_0f25d_level0_col2\" class=\"col_heading level0 col2\" >diff</th>\n",
       "      <th id=\"T_0f25d_level0_col3\" class=\"col_heading level0 col3\" >pdiff</th>\n",
       "    </tr>\n",
       "    <tr>\n",
       "      <th class=\"index_name level0\" >transit_mode</th>\n",
       "      <th class=\"blank col0\" >&nbsp;</th>\n",
       "      <th class=\"blank col1\" >&nbsp;</th>\n",
       "      <th class=\"blank col2\" >&nbsp;</th>\n",
       "      <th class=\"blank col3\" >&nbsp;</th>\n",
       "    </tr>\n",
       "  </thead>\n",
       "  <tbody>\n",
       "    <tr>\n",
       "      <th id=\"T_0f25d_level0_row0\" class=\"row_heading level0 row0\" >Bus</th>\n",
       "      <td id=\"T_0f25d_row0_col0\" class=\"data row0 col0\" >124,477</td>\n",
       "      <td id=\"T_0f25d_row0_col1\" class=\"data row0 col1\" >121,190</td>\n",
       "      <td id=\"T_0f25d_row0_col2\" class=\"data row0 col2\" >3,287</td>\n",
       "      <td id=\"T_0f25d_row0_col3\" class=\"data row0 col3\" >2.7%</td>\n",
       "    </tr>\n",
       "    <tr>\n",
       "      <th id=\"T_0f25d_level0_row1\" class=\"row_heading level0 row1\" >CRT</th>\n",
       "      <td id=\"T_0f25d_row1_col0\" class=\"data row1 col0\" >258</td>\n",
       "      <td id=\"T_0f25d_row1_col1\" class=\"data row1 col1\" >361</td>\n",
       "      <td id=\"T_0f25d_row1_col2\" class=\"data row1 col2\" >-103</td>\n",
       "      <td id=\"T_0f25d_row1_col3\" class=\"data row1 col3\" >-28.5%</td>\n",
       "    </tr>\n",
       "    <tr>\n",
       "      <th id=\"T_0f25d_level0_row2\" class=\"row_heading level0 row2\" >LRT</th>\n",
       "      <td id=\"T_0f25d_row2_col0\" class=\"data row2 col0\" >25,603</td>\n",
       "      <td id=\"T_0f25d_row2_col1\" class=\"data row2 col1\" >26,139</td>\n",
       "      <td id=\"T_0f25d_row2_col2\" class=\"data row2 col2\" >-536</td>\n",
       "      <td id=\"T_0f25d_row2_col3\" class=\"data row2 col3\" >-2.1%</td>\n",
       "    </tr>\n",
       "    <tr>\n",
       "      <th id=\"T_0f25d_level0_row3\" class=\"row_heading level0 row3\" >total</th>\n",
       "      <td id=\"T_0f25d_row3_col0\" class=\"data row3 col0\" >150,339</td>\n",
       "      <td id=\"T_0f25d_row3_col1\" class=\"data row3 col1\" >147,691</td>\n",
       "      <td id=\"T_0f25d_row3_col2\" class=\"data row3 col2\" >2,648</td>\n",
       "      <td id=\"T_0f25d_row3_col3\" class=\"data row3 col3\" >1.8%</td>\n",
       "    </tr>\n",
       "  </tbody>\n",
       "</table>\n"
      ],
      "text/plain": [
       "<pandas.io.formats.style.Styler at 0x1738b72d580>"
      ]
     },
     "execution_count": 115,
     "metadata": {},
     "output_type": "execute_result"
    }
   ],
   "source": [
    "trn_valid_summary.reset_index(inplace = True)\n",
    "trn_valid_summary['transit_mode'] = 'Bus'\n",
    "trn_valid_summary.loc[trn_valid_summary['MODE'] == 8, 'transit_mode'] = 'LRT'\n",
    "trn_valid_summary.loc[trn_valid_summary['MODE'] == 9, 'transit_mode'] = 'CRT'\n",
    "mode_summary = pd.DataFrame(trn_valid_summary.groupby('transit_mode').agg(model = ('model_ridership', 'sum'), obs = ('obs_ridership', 'sum')))\n",
    "mode_summary.loc['total'] = mode_summary.sum(0)\n",
    "mode_summary['diff'] = mode_summary['model'] - mode_summary['obs']\n",
    "mode_summary['pdiff'] = mode_summary['diff'] / mode_summary['obs']\n",
    "\n",
    "mode_summary.style.format({'model': '{:,.0f}', 'obs': '{:,.0f}', 'diff': '{:,.0f}', 'pdiff':'{:,.1%}'})"
   ]
  },
  {
   "cell_type": "code",
   "execution_count": 116,
   "metadata": {},
   "outputs": [
    {
     "data": {
      "image/png": "[encoded data removed]",
      "text/plain": [
       "<Figure size 1600x1000 with 1 Axes>"
      ]
     },
     "metadata": {},
     "output_type": "display_data"
    }
   ],
   "source": [
    "fig = plt.figure(figsize=(16,10))\n",
    "color_guide = {'Bus': 'blue', 'LRT': 'green', 'CRT': 'orange'}\n",
    "ax = fig.add_subplot()\n",
    "sc = ax.plot([0, np.max(trn_valid_summary[['model_ridership', 'obs_ridership']].max())], [0, np.max(trn_valid_summary[['model_ridership', 'obs_ridership']].max())], c = 'red')\n",
    "for m in trn_valid_summary['transit_mode'].unique():\n",
    "    ax.scatter(trn_valid_summary[trn_valid_summary['transit_mode'] == m]['obs_ridership'], \n",
    "        trn_valid_summary[trn_valid_summary['transit_mode'] == m]['model_ridership'], marker='o', \n",
    "        c = color_guide[m], label = m)\n",
    "plt.title(\"2022 Transit Ridership Comparison\")\n",
    "\n",
    "plt.legend(loc='upper left')\n",
    "ax.set_xlabel('Observed Ridership')\n",
    "ax.set_ylabel('Model Ridership')\n",
    "plt.show()"
   ]
  },
  {
   "cell_type": "code",
   "execution_count": 117,
   "metadata": {},
   "outputs": [],
   "source": [
    "model_transit_lines['ROUTE_NAME'] = model_transit_lines['route_id'].apply(lambda x: x[1:x.find(\"_\")])\n",
    "model_transit_lines['o_rider'] = np.array(trn_valid_summary.reset_index()[['ROUTE_NAME', 'obs_ridership']].set_index('ROUTE_NAME').reindex(model_transit_lines['ROUTE_NAME']).fillna(0))\n",
    "model_transit_lines['m_rider'] = np.array(trn_valid_summary.reset_index()[['ROUTE_NAME', 'model_ridership']].set_index('ROUTE_NAME').reindex(model_transit_lines['ROUTE_NAME']).fillna(0))\n",
    "\n",
    "# diff, abs_diff, pct_diff\n",
    "model_transit_lines['diff'] = model_transit_lines['m_rider'] - model_transit_lines['o_rider']\n",
    "model_transit_lines['a_diff'] = abs(model_transit_lines['diff'])\n",
    "model_transit_lines['p_diff'] = model_transit_lines.apply(lambda x: x['diff'] / x['o_rider'] if x['o_rider'] > 0 else 0, axis = 1)\n",
    "\n",
    "model_transit_lines.to_file('trn_routes.shp')"
   ]
  }
 ],
 "metadata": {
  "kernelspec": {
   "display_name": "asim_asr_dev",
   "language": "python",
   "name": "python3"
  },
  "language_info": {
   "codemirror_mode": {
    "name": "ipython",
    "version": 3
   },
   "file_extension": ".py",
   "mimetype": "text/x-python",
   "name": "python",
   "nbconvert_exporter": "python",
   "pygments_lexer": "ipython3",
   "version": "3.9.16"
  }
 },
 "nbformat": 4,
 "nbformat_minor": 2
}
