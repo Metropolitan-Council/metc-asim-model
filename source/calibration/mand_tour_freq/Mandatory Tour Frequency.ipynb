{
 "cells": [
  {
   "cell_type": "code",
   "execution_count": 2,
   "metadata": {},
   "outputs": [],
   "source": [
    "\"\"\"\n",
    "Script written by Andrew Rohne. This prepares updates for the CDAP model for ONLY FT, PT, U, NW, and R - skips \n",
    "SchPD, SchD, and PS because they were not in use in Met Coucil.\n",
    "\n",
    "Needs: \n",
    "  1: Visualizer Survey folder - reads one of the CSVs\n",
    "  2: ActivitySim person output\n",
    "\n",
    "How To Use:\n",
    "  1: Set the project_dir (cell 2) to the base of your project - this should include the visualizer summary inputs and the model data\n",
    "  2: Set the output folder (where some CSV files are saved)\n",
    "  2: Fix the census_auto_ownership_file (text should be relative to project_dir)\n",
    "  3: Fix the hh file (again, should be relative to project_dir)\n",
    "  4: You'll probably need to update some fields\n",
    "  \n",
    "\n",
    "\"\"\"\n",
    "import sys\n",
    "import pandas as pd\n",
    "import os\n",
    "import numpy as np\n",
    "pd.options.display.max_columns = 50\n",
    "import matplotlib\n",
    "import matplotlib.pyplot as plt\n",
    "import seaborn as sns\n",
    " \n",
    "ASIM_OUTPUT = r\"E:\\Met_Council\\metc-asim-model\\Base_2018\\activitysim\\output\"\n",
    "ASIM_CONFIGS_PATH = r'E:\\Met_Council\\metc-asim-model\\source\\activitysim\\configs'\n",
    "SURVEY_SUMMARY_PATH = r'E:\\Met_Council\\metc-asim-model\\Input\\Visualizer\\base'\n",
    "SYNPOP_INPUT = r'E:\\Met_Council\\metc-asim-model\\Input\\socioeconomic'\n",
    "SURVEY_PATH = r'E:\\Met_Council\\survey_data\\Phase1\\SPA_Inputs'\n",
    "CENSUS_SUMMARY_PATH = r'E:\\Met_Council\\metc-asim-model\\Input\\Visualizer\\census'\n",
    "\n",
    "# asim_out_folder = 'E:\\\\Projects\\\\Clients\\\\MetCouncilASIM\\\\tasks\\\\metc-asim-model\\\\activitysim\\\\output'\n",
    "# vis_survey_summaries = 'E:\\\\Projects\\\\Clients\\\\MetCouncilASIM\\\\tasks\\\\metc-asim-model\\\\Visualizer\\\\data\\\\base'\n",
    "# asim_config_folder = 'E:\\\\Projects\\\\Clients\\\\MetCouncilASIM\\\\tasks\\\\metc-asim-model\\\\activitysim\\\\configs'\n",
    "\n",
    "PERTYPEMAP = {1: 'FT Worker', 2: 'PT Worker', 3: 'Univ Student', 4: 'Nonworker', 5: 'Retired', 6: 'Driving Age Student', 7: 'Pre-Driving Student', 8: 'Preschool'}\n",
    "\n",
    "mtfMap = {1: 'work1', 2: 'work2', 3: 'school1', 4: 'school2', 5: 'work_and_school'}\n",
    "MTF_LEVEL = {v: k for k, v in mtfMap.items()}\n",
    "\n",
    "coef_map = {1: {'work1': 'coef_ft_worker_work1_asc', 'work2': 'coef_ft_worker_work2_asc', 'school1': 'coef_ft_worker_school1_asc', 'school2': 'coef_ft_worker_school2_asc', 'work_and_school': 'coef_ft_worker_work_and_school_asc'},\n",
    "            2: {'work1': 'coef_pt_worker_work1_asc', 'work2': 'coef_pt_worker_work2_asc', 'school1': 'coef_pt_worker_school1_asc', 'school2': 'coef_pt_worker_school2_asc', 'work_and_school': 'coef_pt_worker_work_and_school_asc'},\n",
    "            3: {'work1': 'coef_univ_work1_asc', 'work2': 'coef_univ_work2_asc', 'school1': 'coef_univ_school1_asc', 'school2': 'coef_univ_school2_asc', 'work_and_school': 'coef_univ_work_and_school_asc'},\n",
    "            6: {'work1': 'coef_driving_age_child_work1_asc', 'work2': 'coef_driving_age_child_work2_asc', 'school1': 'coef_driving_age_child_school1_asc', 'school2': 'coef_driving_age_child_school2_asc', 'work_and_school': 'coef_driving_age_child_work_and_school_asc'},\n",
    "            7: {'work1': 'coef_pre_driving_age_work1_asc', 'work2': 'coef_pre_driving_age_work2_asc', 'school1': 'coef_pre_driving_age_school1_asc', 'school2': 'coef_pre_driving_age_school2_asc', 'work_and_school': 'coef_pre_driving_age_work_and_school_asc'},\n",
    "            8: {'work1': 'coef_preschool_work1_asc', 'work2': 'coef_preschool_work2_asc', 'school1': 'coef_preschool_school1_asc', 'school2': 'coef_preschool_school2_asc', 'work_and_school': 'coef_preschool_work_and_school_asc'}\n",
    "    \n",
    "}"
   ]
  },
  {
   "cell_type": "code",
   "execution_count": 3,
   "metadata": {},
   "outputs": [],
   "source": [
    "# Read targets and current\n",
    "target = pd.read_csv(os.path.join(SURVEY_SUMMARY_PATH, \"mtfSummary.csv\"), comment = \"#\").rename(columns = {'freq': 'ObsN'})\n",
    "person = pd.read_csv(os.path.join(ASIM_OUTPUT, \"final_persons.csv\"))\n",
    "hh = pd.read_csv(os.path.join(ASIM_OUTPUT, \"final_households.csv\"))\n",
    "model_sample_rate = hh['sample_rate'].value_counts().index[0]"
   ]
  },
  {
   "cell_type": "code",
   "execution_count": 4,
   "metadata": {},
   "outputs": [
    {
     "data": {
      "text/html": [
       "<style type=\"text/css\">\n",
       "</style>\n",
       "<table id=\"T_219b8\">\n",
       "  <thead>\n",
       "    <tr>\n",
       "      <th class=\"blank level0\" >&nbsp;</th>\n",
       "      <th id=\"T_219b8_level0_col0\" class=\"col_heading level0 col0\" >ptype</th>\n",
       "      <th id=\"T_219b8_level0_col1\" class=\"col_heading level0 col1\" >mandatory_tour_frequency</th>\n",
       "      <th id=\"T_219b8_level0_col2\" class=\"col_heading level0 col2\" >ObsN</th>\n",
       "      <th id=\"T_219b8_level0_col3\" class=\"col_heading level0 col3\" >ModN</th>\n",
       "      <th id=\"T_219b8_level0_col4\" class=\"col_heading level0 col4\" >ObsPct</th>\n",
       "      <th id=\"T_219b8_level0_col5\" class=\"col_heading level0 col5\" >ModPct</th>\n",
       "      <th id=\"T_219b8_level0_col6\" class=\"col_heading level0 col6\" >coef_adj</th>\n",
       "    </tr>\n",
       "  </thead>\n",
       "  <tbody>\n",
       "    <tr>\n",
       "      <th id=\"T_219b8_level0_row0\" class=\"row_heading level0 row0\" >0</th>\n",
       "      <td id=\"T_219b8_row0_col0\" class=\"data row0 col0\" >1.000000</td>\n",
       "      <td id=\"T_219b8_row0_col1\" class=\"data row0 col1\" >work1</td>\n",
       "      <td id=\"T_219b8_row0_col2\" class=\"data row0 col2\" >577,799</td>\n",
       "      <td id=\"T_219b8_row0_col3\" class=\"data row0 col3\" >608,309</td>\n",
       "      <td id=\"T_219b8_row0_col4\" class=\"data row0 col4\" >94.02%</td>\n",
       "      <td id=\"T_219b8_row0_col5\" class=\"data row0 col5\" >91.88%</td>\n",
       "      <td id=\"T_219b8_row0_col6\" class=\"data row0 col6\" >0.023025</td>\n",
       "    </tr>\n",
       "    <tr>\n",
       "      <th id=\"T_219b8_level0_row1\" class=\"row_heading level0 row1\" >1</th>\n",
       "      <td id=\"T_219b8_row1_col0\" class=\"data row1 col0\" >1.000000</td>\n",
       "      <td id=\"T_219b8_row1_col1\" class=\"data row1 col1\" >work2</td>\n",
       "      <td id=\"T_219b8_row1_col2\" class=\"data row1 col2\" >36,203</td>\n",
       "      <td id=\"T_219b8_row1_col3\" class=\"data row1 col3\" >53,773</td>\n",
       "      <td id=\"T_219b8_row1_col4\" class=\"data row1 col4\" >5.89%</td>\n",
       "      <td id=\"T_219b8_row1_col5\" class=\"data row1 col5\" >8.12%</td>\n",
       "      <td id=\"T_219b8_row1_col6\" class=\"data row1 col6\" >-0.321163</td>\n",
       "    </tr>\n",
       "    <tr>\n",
       "      <th id=\"T_219b8_level0_row2\" class=\"row_heading level0 row2\" >2</th>\n",
       "      <td id=\"T_219b8_row2_col0\" class=\"data row2 col0\" >1.000000</td>\n",
       "      <td id=\"T_219b8_row2_col1\" class=\"data row2 col1\" >school1</td>\n",
       "      <td id=\"T_219b8_row2_col2\" class=\"data row2 col2\" >539</td>\n",
       "      <td id=\"T_219b8_row2_col3\" class=\"data row2 col3\" >0</td>\n",
       "      <td id=\"T_219b8_row2_col4\" class=\"data row2 col4\" >0.09%</td>\n",
       "      <td id=\"T_219b8_row2_col5\" class=\"data row2 col5\" >0.00%</td>\n",
       "      <td id=\"T_219b8_row2_col6\" class=\"data row2 col6\" >0.000000</td>\n",
       "    </tr>\n",
       "    <tr>\n",
       "      <th id=\"T_219b8_level0_row3\" class=\"row_heading level0 row3\" >3</th>\n",
       "      <td id=\"T_219b8_row3_col0\" class=\"data row3 col0\" >1.000000</td>\n",
       "      <td id=\"T_219b8_row3_col1\" class=\"data row3 col1\" >school2</td>\n",
       "      <td id=\"T_219b8_row3_col2\" class=\"data row3 col2\" >20</td>\n",
       "      <td id=\"T_219b8_row3_col3\" class=\"data row3 col3\" >0</td>\n",
       "      <td id=\"T_219b8_row3_col4\" class=\"data row3 col4\" >0.00%</td>\n",
       "      <td id=\"T_219b8_row3_col5\" class=\"data row3 col5\" >0.00%</td>\n",
       "      <td id=\"T_219b8_row3_col6\" class=\"data row3 col6\" >0.000000</td>\n",
       "    </tr>\n",
       "    <tr>\n",
       "      <th id=\"T_219b8_level0_row4\" class=\"row_heading level0 row4\" >4</th>\n",
       "      <td id=\"T_219b8_row4_col0\" class=\"data row4 col0\" >2.000000</td>\n",
       "      <td id=\"T_219b8_row4_col1\" class=\"data row4 col1\" >work1</td>\n",
       "      <td id=\"T_219b8_row4_col2\" class=\"data row4 col2\" >90,759</td>\n",
       "      <td id=\"T_219b8_row4_col3\" class=\"data row4 col3\" >118,495</td>\n",
       "      <td id=\"T_219b8_row4_col4\" class=\"data row4 col4\" >91.94%</td>\n",
       "      <td id=\"T_219b8_row4_col5\" class=\"data row4 col5\" >93.63%</td>\n",
       "      <td id=\"T_219b8_row4_col6\" class=\"data row4 col6\" >-0.018165</td>\n",
       "    </tr>\n",
       "    <tr>\n",
       "      <th id=\"T_219b8_level0_row5\" class=\"row_heading level0 row5\" >5</th>\n",
       "      <td id=\"T_219b8_row5_col0\" class=\"data row5 col0\" >2.000000</td>\n",
       "      <td id=\"T_219b8_row5_col1\" class=\"data row5 col1\" >work2</td>\n",
       "      <td id=\"T_219b8_row5_col2\" class=\"data row5 col2\" >7,956</td>\n",
       "      <td id=\"T_219b8_row5_col3\" class=\"data row5 col3\" >8,067</td>\n",
       "      <td id=\"T_219b8_row5_col4\" class=\"data row5 col4\" >8.06%</td>\n",
       "      <td id=\"T_219b8_row5_col5\" class=\"data row5 col5\" >6.37%</td>\n",
       "      <td id=\"T_219b8_row5_col6\" class=\"data row5 col6\" >0.234613</td>\n",
       "    </tr>\n",
       "    <tr>\n",
       "      <th id=\"T_219b8_level0_row6\" class=\"row_heading level0 row6\" >6</th>\n",
       "      <td id=\"T_219b8_row6_col0\" class=\"data row6 col0\" >3.000000</td>\n",
       "      <td id=\"T_219b8_row6_col1\" class=\"data row6 col1\" >school1</td>\n",
       "      <td id=\"T_219b8_row6_col2\" class=\"data row6 col2\" >24,242</td>\n",
       "      <td id=\"T_219b8_row6_col3\" class=\"data row6 col3\" >20,742</td>\n",
       "      <td id=\"T_219b8_row6_col4\" class=\"data row6 col4\" >45.57%</td>\n",
       "      <td id=\"T_219b8_row6_col5\" class=\"data row6 col5\" >49.13%</td>\n",
       "      <td id=\"T_219b8_row6_col6\" class=\"data row6 col6\" >-0.075179</td>\n",
       "    </tr>\n",
       "    <tr>\n",
       "      <th id=\"T_219b8_level0_row7\" class=\"row_heading level0 row7\" >7</th>\n",
       "      <td id=\"T_219b8_row7_col0\" class=\"data row7 col0\" >3.000000</td>\n",
       "      <td id=\"T_219b8_row7_col1\" class=\"data row7 col1\" >school2</td>\n",
       "      <td id=\"T_219b8_row7_col2\" class=\"data row7 col2\" >2,248</td>\n",
       "      <td id=\"T_219b8_row7_col3\" class=\"data row7 col3\" >1,814</td>\n",
       "      <td id=\"T_219b8_row7_col4\" class=\"data row7 col4\" >4.23%</td>\n",
       "      <td id=\"T_219b8_row7_col5\" class=\"data row7 col5\" >4.30%</td>\n",
       "      <td id=\"T_219b8_row7_col6\" class=\"data row7 col6\" >-0.016949</td>\n",
       "    </tr>\n",
       "    <tr>\n",
       "      <th id=\"T_219b8_level0_row8\" class=\"row_heading level0 row8\" >8</th>\n",
       "      <td id=\"T_219b8_row8_col0\" class=\"data row8 col0\" >3.000000</td>\n",
       "      <td id=\"T_219b8_row8_col1\" class=\"data row8 col1\" >work1</td>\n",
       "      <td id=\"T_219b8_row8_col2\" class=\"data row8 col2\" >25,085</td>\n",
       "      <td id=\"T_219b8_row8_col3\" class=\"data row8 col3\" >18,567</td>\n",
       "      <td id=\"T_219b8_row8_col4\" class=\"data row8 col4\" >47.16%</td>\n",
       "      <td id=\"T_219b8_row8_col5\" class=\"data row8 col5\" >43.98%</td>\n",
       "      <td id=\"T_219b8_row8_col6\" class=\"data row8 col6\" >0.069761</td>\n",
       "    </tr>\n",
       "    <tr>\n",
       "      <th id=\"T_219b8_level0_row9\" class=\"row_heading level0 row9\" >9</th>\n",
       "      <td id=\"T_219b8_row9_col0\" class=\"data row9 col0\" >3.000000</td>\n",
       "      <td id=\"T_219b8_row9_col1\" class=\"data row9 col1\" >work2</td>\n",
       "      <td id=\"T_219b8_row9_col2\" class=\"data row9 col2\" >384</td>\n",
       "      <td id=\"T_219b8_row9_col3\" class=\"data row9 col3\" >268</td>\n",
       "      <td id=\"T_219b8_row9_col4\" class=\"data row9 col4\" >0.72%</td>\n",
       "      <td id=\"T_219b8_row9_col5\" class=\"data row9 col5\" >0.63%</td>\n",
       "      <td id=\"T_219b8_row9_col6\" class=\"data row9 col6\" >0.128714</td>\n",
       "    </tr>\n",
       "    <tr>\n",
       "      <th id=\"T_219b8_level0_row10\" class=\"row_heading level0 row10\" >10</th>\n",
       "      <td id=\"T_219b8_row10_col0\" class=\"data row10 col0\" >3.000000</td>\n",
       "      <td id=\"T_219b8_row10_col1\" class=\"data row10 col1\" >work_and_school</td>\n",
       "      <td id=\"T_219b8_row10_col2\" class=\"data row10 col2\" >1,234</td>\n",
       "      <td id=\"T_219b8_row10_col3\" class=\"data row10 col3\" >825</td>\n",
       "      <td id=\"T_219b8_row10_col4\" class=\"data row10 col4\" >2.32%</td>\n",
       "      <td id=\"T_219b8_row10_col5\" class=\"data row10 col5\" >1.95%</td>\n",
       "      <td id=\"T_219b8_row10_col6\" class=\"data row10 col6\" >0.171586</td>\n",
       "    </tr>\n",
       "    <tr>\n",
       "      <th id=\"T_219b8_level0_row11\" class=\"row_heading level0 row11\" >11</th>\n",
       "      <td id=\"T_219b8_row11_col0\" class=\"data row11 col0\" >6.000000</td>\n",
       "      <td id=\"T_219b8_row11_col1\" class=\"data row11 col1\" >school1</td>\n",
       "      <td id=\"T_219b8_row11_col2\" class=\"data row11 col2\" >10,896</td>\n",
       "      <td id=\"T_219b8_row11_col3\" class=\"data row11 col3\" >79,954</td>\n",
       "      <td id=\"T_219b8_row11_col4\" class=\"data row11 col4\" >78.36%</td>\n",
       "      <td id=\"T_219b8_row11_col5\" class=\"data row11 col5\" >73.05%</td>\n",
       "      <td id=\"T_219b8_row11_col6\" class=\"data row11 col6\" >0.070158</td>\n",
       "    </tr>\n",
       "    <tr>\n",
       "      <th id=\"T_219b8_level0_row12\" class=\"row_heading level0 row12\" >12</th>\n",
       "      <td id=\"T_219b8_row12_col0\" class=\"data row12 col0\" >6.000000</td>\n",
       "      <td id=\"T_219b8_row12_col1\" class=\"data row12 col1\" >school2</td>\n",
       "      <td id=\"T_219b8_row12_col2\" class=\"data row12 col2\" >23</td>\n",
       "      <td id=\"T_219b8_row12_col3\" class=\"data row12 col3\" >165</td>\n",
       "      <td id=\"T_219b8_row12_col4\" class=\"data row12 col4\" >0.17%</td>\n",
       "      <td id=\"T_219b8_row12_col5\" class=\"data row12 col5\" >0.15%</td>\n",
       "      <td id=\"T_219b8_row12_col6\" class=\"data row12 col6\" >0.105124</td>\n",
       "    </tr>\n",
       "    <tr>\n",
       "      <th id=\"T_219b8_level0_row13\" class=\"row_heading level0 row13\" >13</th>\n",
       "      <td id=\"T_219b8_row13_col0\" class=\"data row13 col0\" >6.000000</td>\n",
       "      <td id=\"T_219b8_row13_col1\" class=\"data row13 col1\" >work1</td>\n",
       "      <td id=\"T_219b8_row13_col2\" class=\"data row13 col2\" >2,476</td>\n",
       "      <td id=\"T_219b8_row13_col3\" class=\"data row13 col3\" >24,242</td>\n",
       "      <td id=\"T_219b8_row13_col4\" class=\"data row13 col4\" >17.81%</td>\n",
       "      <td id=\"T_219b8_row13_col5\" class=\"data row13 col5\" >22.15%</td>\n",
       "      <td id=\"T_219b8_row13_col6\" class=\"data row13 col6\" >-0.218253</td>\n",
       "    </tr>\n",
       "    <tr>\n",
       "      <th id=\"T_219b8_level0_row14\" class=\"row_heading level0 row14\" >14</th>\n",
       "      <td id=\"T_219b8_row14_col0\" class=\"data row14 col0\" >6.000000</td>\n",
       "      <td id=\"T_219b8_row14_col1\" class=\"data row14 col1\" >work_and_school</td>\n",
       "      <td id=\"T_219b8_row14_col2\" class=\"data row14 col2\" >509</td>\n",
       "      <td id=\"T_219b8_row14_col3\" class=\"data row14 col3\" >5,082</td>\n",
       "      <td id=\"T_219b8_row14_col4\" class=\"data row14 col4\" >3.66%</td>\n",
       "      <td id=\"T_219b8_row14_col5\" class=\"data row14 col5\" >4.64%</td>\n",
       "      <td id=\"T_219b8_row14_col6\" class=\"data row14 col6\" >-0.237831</td>\n",
       "    </tr>\n",
       "    <tr>\n",
       "      <th id=\"T_219b8_level0_row15\" class=\"row_heading level0 row15\" >15</th>\n",
       "      <td id=\"T_219b8_row15_col0\" class=\"data row15 col0\" >7.000000</td>\n",
       "      <td id=\"T_219b8_row15_col1\" class=\"data row15 col1\" >school1</td>\n",
       "      <td id=\"T_219b8_row15_col2\" class=\"data row15 col2\" >134,836</td>\n",
       "      <td id=\"T_219b8_row15_col3\" class=\"data row15 col3\" >408,134</td>\n",
       "      <td id=\"T_219b8_row15_col4\" class=\"data row15 col4\" >94.13%</td>\n",
       "      <td id=\"T_219b8_row15_col5\" class=\"data row15 col5\" >97.49%</td>\n",
       "      <td id=\"T_219b8_row15_col6\" class=\"data row15 col6\" >-0.035125</td>\n",
       "    </tr>\n",
       "    <tr>\n",
       "      <th id=\"T_219b8_level0_row16\" class=\"row_heading level0 row16\" >16</th>\n",
       "      <td id=\"T_219b8_row16_col0\" class=\"data row16 col0\" >7.000000</td>\n",
       "      <td id=\"T_219b8_row16_col1\" class=\"data row16 col1\" >school2</td>\n",
       "      <td id=\"T_219b8_row16_col2\" class=\"data row16 col2\" >8,413</td>\n",
       "      <td id=\"T_219b8_row16_col3\" class=\"data row16 col3\" >10,500</td>\n",
       "      <td id=\"T_219b8_row16_col4\" class=\"data row16 col4\" >5.87%</td>\n",
       "      <td id=\"T_219b8_row16_col5\" class=\"data row16 col5\" >2.51%</td>\n",
       "      <td id=\"T_219b8_row16_col6\" class=\"data row16 col6\" >0.850844</td>\n",
       "    </tr>\n",
       "    <tr>\n",
       "      <th id=\"T_219b8_level0_row17\" class=\"row_heading level0 row17\" >17</th>\n",
       "      <td id=\"T_219b8_row17_col0\" class=\"data row17 col0\" >8.000000</td>\n",
       "      <td id=\"T_219b8_row17_col1\" class=\"data row17 col1\" >school1</td>\n",
       "      <td id=\"T_219b8_row17_col2\" class=\"data row17 col2\" >202</td>\n",
       "      <td id=\"T_219b8_row17_col3\" class=\"data row17 col3\" >3,376</td>\n",
       "      <td id=\"T_219b8_row17_col4\" class=\"data row17 col4\" >67.83%</td>\n",
       "      <td id=\"T_219b8_row17_col5\" class=\"data row17 col5\" >96.47%</td>\n",
       "      <td id=\"T_219b8_row17_col6\" class=\"data row17 col6\" >-0.352120</td>\n",
       "    </tr>\n",
       "    <tr>\n",
       "      <th id=\"T_219b8_level0_row18\" class=\"row_heading level0 row18\" >18</th>\n",
       "      <td id=\"T_219b8_row18_col0\" class=\"data row18 col0\" >8.000000</td>\n",
       "      <td id=\"T_219b8_row18_col1\" class=\"data row18 col1\" >school2</td>\n",
       "      <td id=\"T_219b8_row18_col2\" class=\"data row18 col2\" >96</td>\n",
       "      <td id=\"T_219b8_row18_col3\" class=\"data row18 col3\" >124</td>\n",
       "      <td id=\"T_219b8_row18_col4\" class=\"data row18 col4\" >32.17%</td>\n",
       "      <td id=\"T_219b8_row18_col5\" class=\"data row18 col5\" >3.53%</td>\n",
       "      <td id=\"T_219b8_row18_col6\" class=\"data row18 col6\" >2.208305</td>\n",
       "    </tr>\n",
       "  </tbody>\n",
       "</table>\n"
      ],
      "text/plain": [
       "<pandas.io.formats.style.Styler at 0x241a17f1550>"
      ]
     },
     "execution_count": 4,
     "metadata": {},
     "output_type": "execute_result"
    }
   ],
   "source": [
    "mtfSummary = person.groupby(['ptype', 'mandatory_tour_frequency']).agg(ModN = ('person_id', 'count')).reset_index()\n",
    "mtfSummary['ModN'] = mtfSummary['ModN'] / model_sample_rate\n",
    "target['mandatory_tour_frequency'] = target['mtf'].map(mtfMap)\n",
    "compare = mtfSummary.merge(target, left_on = ['ptype', 'mandatory_tour_frequency'], right_on = ['PERTYPE', 'mandatory_tour_frequency'], how = 'outer')\n",
    "compare['ptype'].fillna(compare['PERTYPE'], inplace = True)\n",
    "compare['ObsN'].fillna(0, inplace = True)\n",
    "compare['ModN'].fillna(0, inplace = True)\n",
    "gpSum = compare.groupby('ptype').agg(ModTot = ('ModN', 'sum'), ObsTot = ('ObsN', 'sum')).reset_index()\n",
    "compare = compare.merge(gpSum, on = \"ptype\")\n",
    "compare['ModPct'] = compare['ModN'] / compare['ModTot']\n",
    "compare['ObsPct'] = compare['ObsN'] / compare['ObsTot']\n",
    "compare['coef_adj'] = np.log(compare['ObsPct'] / compare['ModPct'], where = ((compare['ModPct'] > 0) & (compare['ObsPct'] > 0)))\n",
    "compare[['ptype', 'mandatory_tour_frequency', 'ObsN', 'ModN', 'ObsPct', 'ModPct', 'coef_adj']].style.format(formatter = {'ObsN': \"{:,.0f}\", 'ModN': \"{:,.0f}\", 'ObsPct': \"{:.2%}\".format, 'ModPct': \"{:.2%}\".format}).to_excel(r\"debug\\tour_mtf.xlsx\")\n",
    "compare[['ptype', 'mandatory_tour_frequency', 'ObsN', 'ModN', 'ObsPct', 'ModPct', 'coef_adj']].style.format(formatter = {'ObsN': \"{:,.0f}\", 'ModN': \"{:,.0f}\", 'ObsPct': \"{:.2%}\".format, 'ModPct': \"{:.2%}\".format})"
   ]
  },
  {
   "cell_type": "code",
   "execution_count": 5,
   "metadata": {},
   "outputs": [
    {
     "name": "stderr",
     "output_type": "stream",
     "text": [
      "C:\\Users\\andrew.rohne\\AppData\\Local\\Temp\\2\\ipykernel_13356\\1622689745.py:9: MatplotlibDeprecationWarning: Auto-removal of overlapping axes is deprecated since 3.6 and will be removed two minor releases later; explicitly call ax.remove() as needed.\n",
      "  ax = plt.subplot(plot_idx + pi)\n",
      "C:\\Users\\andrew.rohne\\AppData\\Local\\Temp\\2\\ipykernel_13356\\1622689745.py:9: MatplotlibDeprecationWarning: Auto-removal of overlapping axes is deprecated since 3.6 and will be removed two minor releases later; explicitly call ax.remove() as needed.\n",
      "  ax = plt.subplot(plot_idx + pi)\n",
      "C:\\Users\\andrew.rohne\\AppData\\Local\\Temp\\2\\ipykernel_13356\\1622689745.py:9: MatplotlibDeprecationWarning: Auto-removal of overlapping axes is deprecated since 3.6 and will be removed two minor releases later; explicitly call ax.remove() as needed.\n",
      "  ax = plt.subplot(plot_idx + pi)\n",
      "C:\\Users\\andrew.rohne\\AppData\\Local\\Temp\\2\\ipykernel_13356\\1622689745.py:9: MatplotlibDeprecationWarning: Auto-removal of overlapping axes is deprecated since 3.6 and will be removed two minor releases later; explicitly call ax.remove() as needed.\n",
      "  ax = plt.subplot(plot_idx + pi)\n",
      "C:\\Users\\andrew.rohne\\AppData\\Local\\Temp\\2\\ipykernel_13356\\1622689745.py:9: MatplotlibDeprecationWarning: Auto-removal of overlapping axes is deprecated since 3.6 and will be removed two minor releases later; explicitly call ax.remove() as needed.\n",
      "  ax = plt.subplot(plot_idx + pi)\n",
      "C:\\Users\\andrew.rohne\\AppData\\Local\\Temp\\2\\ipykernel_13356\\1622689745.py:9: MatplotlibDeprecationWarning: Auto-removal of overlapping axes is deprecated since 3.6 and will be removed two minor releases later; explicitly call ax.remove() as needed.\n",
      "  ax = plt.subplot(plot_idx + pi)\n"
     ]
    },
    {
     "data": {
      "image/png": "[encoded data removed]",
      "text/plain": [
       "<Figure size 2000x1000 with 6 Axes>"
      ]
     },
     "metadata": {},
     "output_type": "display_data"
    }
   ],
   "source": [
    "source_dict = {'ObsPct': 'Observed', 'ModPct': 'ActivitySim'}\n",
    "plot_data = pd.melt(compare[['ptype', 'mandatory_tour_frequency', 'ObsPct', 'ModPct']], value_name = 'percent', value_vars = ['ObsPct', 'ModPct'], id_vars = ['ptype', 'mandatory_tour_frequency'])\n",
    "plot_data['source'] = plot_data['variable'].map(source_dict)\n",
    "plot_data['mtf_level'] = plot_data['mandatory_tour_frequency'].map(MTF_LEVEL)\n",
    "fig, ax = plt.subplots(2, 4, figsize=(20, 10))\n",
    "plot_idx = 230\n",
    "\n",
    "for pi, ptype in zip(np.arange(1, 7), [1, 2, 3, 6, 7, 8]):\n",
    "    ax = plt.subplot(plot_idx + pi)\n",
    "    plot_dat = pd.DataFrame({'mtf_level': [1, 2, 3, 4, 5]}).merge(plot_data[plot_data['ptype'] == ptype], how = 'left', on = 'mtf_level')\n",
    "    sns.barplot(data = plot_dat, x = 'mtf_level', y = 'percent', hue = 'source')\n",
    "    plt.title(f\"MTF for {PERTYPEMAP[ptype]}\")\n",
    "    # plt.xticks(fontsize=16, rotation = 90)\n",
    "    # plt.yticks(fontsize=16)\n",
    "    plt.ylabel('Percent')\n",
    "    plt.xlabel('Mandatory Tour Freq')\n",
    "    ax.set_xticks([0, 1, 2, 3, 4], labels = mtfMap.values())\n",
    "    ax.yaxis.set_major_formatter(matplotlib.ticker.StrMethodFormatter('{x:,.0%}'))"
   ]
  },
  {
   "cell_type": "code",
   "execution_count": 6,
   "metadata": {},
   "outputs": [
    {
     "data": {
      "text/html": [
       "<div>\n",
       "<style scoped>\n",
       "    .dataframe tbody tr th:only-of-type {\n",
       "        vertical-align: middle;\n",
       "    }\n",
       "\n",
       "    .dataframe tbody tr th {\n",
       "        vertical-align: top;\n",
       "    }\n",
       "\n",
       "    .dataframe thead th {\n",
       "        text-align: right;\n",
       "    }\n",
       "</style>\n",
       "<table border=\"1\" class=\"dataframe\">\n",
       "  <thead>\n",
       "    <tr style=\"text-align: right;\">\n",
       "      <th></th>\n",
       "      <th>coefficient_name</th>\n",
       "      <th>value</th>\n",
       "      <th>constrain</th>\n",
       "    </tr>\n",
       "  </thead>\n",
       "  <tbody>\n",
       "    <tr>\n",
       "      <th>0</th>\n",
       "      <td>coef_ft_worker_work2_asc</td>\n",
       "      <td>-2.413708</td>\n",
       "      <td>F</td>\n",
       "    </tr>\n",
       "    <tr>\n",
       "      <th>1</th>\n",
       "      <td>coef_pt_worker_work2_asc</td>\n",
       "      <td>-2.661649</td>\n",
       "      <td>F</td>\n",
       "    </tr>\n",
       "    <tr>\n",
       "      <th>2</th>\n",
       "      <td>coef_univ_school2_asc</td>\n",
       "      <td>-3.534336</td>\n",
       "      <td>F</td>\n",
       "    </tr>\n",
       "    <tr>\n",
       "      <th>3</th>\n",
       "      <td>coef_univ_work1_asc</td>\n",
       "      <td>2.155513</td>\n",
       "      <td>F</td>\n",
       "    </tr>\n",
       "    <tr>\n",
       "      <th>4</th>\n",
       "      <td>coef_univ_work2_asc</td>\n",
       "      <td>-2.736091</td>\n",
       "      <td>F</td>\n",
       "    </tr>\n",
       "    <tr>\n",
       "      <th>5</th>\n",
       "      <td>coef_univ_work_and_school_asc</td>\n",
       "      <td>-1.615953</td>\n",
       "      <td>F</td>\n",
       "    </tr>\n",
       "    <tr>\n",
       "      <th>6</th>\n",
       "      <td>coef_driving_age_child_school2_asc</td>\n",
       "      <td>-6.365850</td>\n",
       "      <td>F</td>\n",
       "    </tr>\n",
       "    <tr>\n",
       "      <th>7</th>\n",
       "      <td>coef_driving_age_child_work1_asc</td>\n",
       "      <td>-1.862419</td>\n",
       "      <td>F</td>\n",
       "    </tr>\n",
       "    <tr>\n",
       "      <th>8</th>\n",
       "      <td>coef_driving_age_child_work_and_school_asc</td>\n",
       "      <td>-3.057978</td>\n",
       "      <td>F</td>\n",
       "    </tr>\n",
       "    <tr>\n",
       "      <th>9</th>\n",
       "      <td>coef_pre_driving_age_child_school2_asc</td>\n",
       "      <td>-3.970300</td>\n",
       "      <td>F</td>\n",
       "    </tr>\n",
       "    <tr>\n",
       "      <th>10</th>\n",
       "      <td>coef_preschool_school2_asc</td>\n",
       "      <td>-3.543047</td>\n",
       "      <td>F</td>\n",
       "    </tr>\n",
       "  </tbody>\n",
       "</table>\n",
       "</div>"
      ],
      "text/plain": [
       "                              coefficient_name     value constrain\n",
       "0                     coef_ft_worker_work2_asc -2.413708         F\n",
       "1                     coef_pt_worker_work2_asc -2.661649         F\n",
       "2                        coef_univ_school2_asc -3.534336         F\n",
       "3                          coef_univ_work1_asc  2.155513         F\n",
       "4                          coef_univ_work2_asc -2.736091         F\n",
       "5                coef_univ_work_and_school_asc -1.615953         F\n",
       "6           coef_driving_age_child_school2_asc -6.365850         F\n",
       "7             coef_driving_age_child_work1_asc -1.862419         F\n",
       "8   coef_driving_age_child_work_and_school_asc -3.057978         F\n",
       "9       coef_pre_driving_age_child_school2_asc -3.970300         F\n",
       "10                  coef_preschool_school2_asc -3.543047         F"
      ]
     },
     "execution_count": 6,
     "metadata": {},
     "output_type": "execute_result"
    }
   ],
   "source": [
    "asim_config = pd.read_csv(os.path.join(ASIM_CONFIGS_PATH,'mandatory_tour_frequency_coeffs.csv'))\n",
    "asim_config[asim_config['coefficient_name'].str.contains('asc')]\n"
   ]
  },
  {
   "cell_type": "markdown",
   "metadata": {},
   "source": [
    "# Full-Time Workers"
   ]
  },
  {
   "cell_type": "code",
   "execution_count": 7,
   "metadata": {},
   "outputs": [
    {
     "name": "stderr",
     "output_type": "stream",
     "text": [
      "C:\\Users\\andrew.rohne\\AppData\\Local\\Temp\\2\\ipykernel_13356\\636628803.py:3: SettingWithCopyWarning: \n",
      "A value is trying to be set on a copy of a slice from a DataFrame.\n",
      "Try using .loc[row_indexer,col_indexer] = value instead\n",
      "\n",
      "See the caveats in the documentation: https://pandas.pydata.org/pandas-docs/stable/user_guide/indexing.html#returning-a-view-versus-a-copy\n",
      "  compare_ft['coefficient_name'] = compare_ft['mandatory_tour_frequency'].map(coef_map[1])\n"
     ]
    },
    {
     "data": {
      "text/html": [
       "<div>\n",
       "<style scoped>\n",
       "    .dataframe tbody tr th:only-of-type {\n",
       "        vertical-align: middle;\n",
       "    }\n",
       "\n",
       "    .dataframe tbody tr th {\n",
       "        vertical-align: top;\n",
       "    }\n",
       "\n",
       "    .dataframe thead th {\n",
       "        text-align: right;\n",
       "    }\n",
       "</style>\n",
       "<table border=\"1\" class=\"dataframe\">\n",
       "  <thead>\n",
       "    <tr style=\"text-align: right;\">\n",
       "      <th></th>\n",
       "      <th>mandatory_tour_frequency</th>\n",
       "      <th>ModPct</th>\n",
       "      <th>ObsPct</th>\n",
       "      <th>coef_adj</th>\n",
       "    </tr>\n",
       "  </thead>\n",
       "  <tbody>\n",
       "    <tr>\n",
       "      <th>0</th>\n",
       "      <td>work2</td>\n",
       "      <td>0.081218</td>\n",
       "      <td>0.058908</td>\n",
       "      <td>-0.321163</td>\n",
       "    </tr>\n",
       "  </tbody>\n",
       "</table>\n",
       "</div>"
      ],
      "text/plain": [
       "  mandatory_tour_frequency    ModPct    ObsPct  coef_adj\n",
       "0                    work2  0.081218  0.058908 -0.321163"
      ]
     },
     "execution_count": 7,
     "metadata": {},
     "output_type": "execute_result"
    }
   ],
   "source": [
    "asimcfg_ft = asim_config[asim_config['coefficient_name'].str.contains('ft\\_worker.+asc')]\n",
    "compare_ft = compare[compare['ptype'] == 1]\n",
    "compare_ft['coefficient_name'] = compare_ft['mandatory_tour_frequency'].map(coef_map[1])\n",
    "compare_ft = compare_ft.merge(asimcfg_ft, on = 'coefficient_name')\n",
    "#asimcfg_ft\n",
    "compare_ft['new_coef'] = compare_ft['value'] + compare_ft['coef_adj']\n",
    "\n",
    "compare_ft[['mandatory_tour_frequency', 'ModPct', 'ObsPct', 'coef_adj']]"
   ]
  },
  {
   "cell_type": "code",
   "execution_count": 8,
   "metadata": {},
   "outputs": [
    {
     "name": "stdout",
     "output_type": "stream",
     "text": [
      "coefficient_name,new_coef,constrain\n",
      "coef_ft_worker_work2_asc,-2.734870871334827,F\n"
     ]
    }
   ],
   "source": [
    "compare_ft[['coefficient_name', 'new_coef', 'constrain']].to_csv(sys.stdout, index = False)"
   ]
  },
  {
   "cell_type": "markdown",
   "metadata": {},
   "source": [
    "# Part-Time Workers"
   ]
  },
  {
   "cell_type": "code",
   "execution_count": 9,
   "metadata": {},
   "outputs": [
    {
     "name": "stdout",
     "output_type": "stream",
     "text": [
      "coefficient_name,new_coef,constrain\n",
      "coef_pt_worker_work2_asc,-2.4270356406880467,F\n"
     ]
    },
    {
     "name": "stderr",
     "output_type": "stream",
     "text": [
      "C:\\Users\\andrew.rohne\\AppData\\Local\\Temp\\2\\ipykernel_13356\\3456883487.py:3: SettingWithCopyWarning: \n",
      "A value is trying to be set on a copy of a slice from a DataFrame.\n",
      "Try using .loc[row_indexer,col_indexer] = value instead\n",
      "\n",
      "See the caveats in the documentation: https://pandas.pydata.org/pandas-docs/stable/user_guide/indexing.html#returning-a-view-versus-a-copy\n",
      "  compare_pt['coefficient_name'] = compare_pt['mandatory_tour_frequency'].map(coef_map[2])\n"
     ]
    }
   ],
   "source": [
    "asimcfg_pt = asim_config[asim_config['coefficient_name'].str.contains('pt\\_worker.+asc')]\n",
    "compare_pt = compare[compare['ptype'] == 2]\n",
    "compare_pt['coefficient_name'] = compare_pt['mandatory_tour_frequency'].map(coef_map[2])\n",
    "compare_pt = compare_pt.merge(asimcfg_pt, on = 'coefficient_name')\n",
    "#asimcfg_ft\n",
    "compare_pt['new_coef'] = compare_pt['value'] + compare_pt['coef_adj']\n",
    "\n",
    "compare_pt[['coefficient_name', 'new_coef', 'constrain']].to_csv(sys.stdout, index = False)"
   ]
  },
  {
   "cell_type": "markdown",
   "metadata": {},
   "source": [
    "# University Students"
   ]
  },
  {
   "cell_type": "code",
   "execution_count": 10,
   "metadata": {},
   "outputs": [
    {
     "name": "stderr",
     "output_type": "stream",
     "text": [
      "C:\\Users\\andrew.rohne\\AppData\\Local\\Temp\\2\\ipykernel_13356\\125818102.py:3: SettingWithCopyWarning: \n",
      "A value is trying to be set on a copy of a slice from a DataFrame.\n",
      "Try using .loc[row_indexer,col_indexer] = value instead\n",
      "\n",
      "See the caveats in the documentation: https://pandas.pydata.org/pandas-docs/stable/user_guide/indexing.html#returning-a-view-versus-a-copy\n",
      "  compare_u['coefficient_name'] = compare_u['mandatory_tour_frequency'].map(coef_map[3])\n"
     ]
    },
    {
     "data": {
      "text/html": [
       "<div>\n",
       "<style scoped>\n",
       "    .dataframe tbody tr th:only-of-type {\n",
       "        vertical-align: middle;\n",
       "    }\n",
       "\n",
       "    .dataframe tbody tr th {\n",
       "        vertical-align: top;\n",
       "    }\n",
       "\n",
       "    .dataframe thead th {\n",
       "        text-align: right;\n",
       "    }\n",
       "</style>\n",
       "<table border=\"1\" class=\"dataframe\">\n",
       "  <thead>\n",
       "    <tr style=\"text-align: right;\">\n",
       "      <th></th>\n",
       "      <th>mandatory_tour_frequency</th>\n",
       "      <th>ModPct</th>\n",
       "      <th>ObsPct</th>\n",
       "      <th>coef_adj</th>\n",
       "    </tr>\n",
       "  </thead>\n",
       "  <tbody>\n",
       "    <tr>\n",
       "      <th>0</th>\n",
       "      <td>school2</td>\n",
       "      <td>0.042979</td>\n",
       "      <td>0.042257</td>\n",
       "      <td>-0.016949</td>\n",
       "    </tr>\n",
       "    <tr>\n",
       "      <th>1</th>\n",
       "      <td>work1</td>\n",
       "      <td>0.439805</td>\n",
       "      <td>0.471581</td>\n",
       "      <td>0.069761</td>\n",
       "    </tr>\n",
       "    <tr>\n",
       "      <th>2</th>\n",
       "      <td>work2</td>\n",
       "      <td>0.006349</td>\n",
       "      <td>0.007221</td>\n",
       "      <td>0.128714</td>\n",
       "    </tr>\n",
       "    <tr>\n",
       "      <th>3</th>\n",
       "      <td>work_and_school</td>\n",
       "      <td>0.019536</td>\n",
       "      <td>0.023193</td>\n",
       "      <td>0.171586</td>\n",
       "    </tr>\n",
       "  </tbody>\n",
       "</table>\n",
       "</div>"
      ],
      "text/plain": [
       "  mandatory_tour_frequency    ModPct    ObsPct  coef_adj\n",
       "0                  school2  0.042979  0.042257 -0.016949\n",
       "1                    work1  0.439805  0.471581  0.069761\n",
       "2                    work2  0.006349  0.007221  0.128714\n",
       "3          work_and_school  0.019536  0.023193  0.171586"
      ]
     },
     "execution_count": 10,
     "metadata": {},
     "output_type": "execute_result"
    }
   ],
   "source": [
    "asimcfg_u = asim_config[asim_config['coefficient_name'].str.contains('univ.+asc')]\n",
    "compare_u = compare[compare['ptype'] == 3]\n",
    "compare_u['coefficient_name'] = compare_u['mandatory_tour_frequency'].map(coef_map[3])\n",
    "compare_u = compare_u.merge(asimcfg_u, on = 'coefficient_name')\n",
    "compare_u['new_coef'] = compare_u['value'] + compare_u['coef_adj']\n",
    "\n",
    "compare_u[['mandatory_tour_frequency', 'ModPct', 'ObsPct', 'coef_adj']]"
   ]
  },
  {
   "cell_type": "code",
   "execution_count": 11,
   "metadata": {},
   "outputs": [
    {
     "name": "stdout",
     "output_type": "stream",
     "text": [
      "coefficient_name,new_coef,constrain\n",
      "coef_univ_school2_asc,-3.5512847494002244,F\n",
      "coef_univ_work1_asc,2.225273674885237,F\n",
      "coef_univ_work2_asc,-2.607376641921995,F\n",
      "coef_univ_work_and_school_asc,-1.444366242621167,F\n"
     ]
    }
   ],
   "source": [
    "compare_u[['coefficient_name', 'new_coef', 'constrain']].to_csv(sys.stdout, index = False)"
   ]
  },
  {
   "cell_type": "markdown",
   "metadata": {},
   "source": [
    "# School Driving"
   ]
  },
  {
   "cell_type": "code",
   "execution_count": 12,
   "metadata": {},
   "outputs": [
    {
     "name": "stderr",
     "output_type": "stream",
     "text": [
      "C:\\Users\\andrew.rohne\\AppData\\Local\\Temp\\2\\ipykernel_13356\\3080770004.py:3: SettingWithCopyWarning: \n",
      "A value is trying to be set on a copy of a slice from a DataFrame.\n",
      "Try using .loc[row_indexer,col_indexer] = value instead\n",
      "\n",
      "See the caveats in the documentation: https://pandas.pydata.org/pandas-docs/stable/user_guide/indexing.html#returning-a-view-versus-a-copy\n",
      "  compare_sd['coefficient_name'] = compare_sd['mandatory_tour_frequency'].map(coef_map[6])\n"
     ]
    },
    {
     "data": {
      "text/html": [
       "<div>\n",
       "<style scoped>\n",
       "    .dataframe tbody tr th:only-of-type {\n",
       "        vertical-align: middle;\n",
       "    }\n",
       "\n",
       "    .dataframe tbody tr th {\n",
       "        vertical-align: top;\n",
       "    }\n",
       "\n",
       "    .dataframe thead th {\n",
       "        text-align: right;\n",
       "    }\n",
       "</style>\n",
       "<table border=\"1\" class=\"dataframe\">\n",
       "  <thead>\n",
       "    <tr style=\"text-align: right;\">\n",
       "      <th></th>\n",
       "      <th>coefficient_name</th>\n",
       "      <th>ModPct</th>\n",
       "      <th>ObsPct</th>\n",
       "      <th>coef_adj</th>\n",
       "    </tr>\n",
       "  </thead>\n",
       "  <tbody>\n",
       "    <tr>\n",
       "      <th>0</th>\n",
       "      <td>coef_driving_age_child_school2_asc</td>\n",
       "      <td>0.001507</td>\n",
       "      <td>0.001674</td>\n",
       "      <td>0.105124</td>\n",
       "    </tr>\n",
       "    <tr>\n",
       "      <th>1</th>\n",
       "      <td>coef_driving_age_child_work1_asc</td>\n",
       "      <td>0.221505</td>\n",
       "      <td>0.178073</td>\n",
       "      <td>-0.218253</td>\n",
       "    </tr>\n",
       "    <tr>\n",
       "      <th>2</th>\n",
       "      <td>coef_driving_age_child_work_and_school_asc</td>\n",
       "      <td>0.046439</td>\n",
       "      <td>0.036610</td>\n",
       "      <td>-0.237831</td>\n",
       "    </tr>\n",
       "  </tbody>\n",
       "</table>\n",
       "</div>"
      ],
      "text/plain": [
       "                             coefficient_name    ModPct    ObsPct  coef_adj\n",
       "0          coef_driving_age_child_school2_asc  0.001507  0.001674  0.105124\n",
       "1            coef_driving_age_child_work1_asc  0.221505  0.178073 -0.218253\n",
       "2  coef_driving_age_child_work_and_school_asc  0.046439  0.036610 -0.237831"
      ]
     },
     "execution_count": 12,
     "metadata": {},
     "output_type": "execute_result"
    }
   ],
   "source": [
    "asimcfg_sd = asim_config[asim_config['coefficient_name'].str.contains('driving.+asc')]\n",
    "compare_sd = compare[compare['ptype'] == 6]\n",
    "compare_sd['coefficient_name'] = compare_sd['mandatory_tour_frequency'].map(coef_map[6])\n",
    "compare_sd = compare_sd.merge(asimcfg_sd, on = 'coefficient_name')\n",
    "compare_sd['new_coef'] = compare_sd['value'] + compare_sd['coef_adj']\n",
    "\n",
    "compare_sd[['coefficient_name', 'ModPct', 'ObsPct', 'coef_adj']]"
   ]
  },
  {
   "cell_type": "code",
   "execution_count": 13,
   "metadata": {},
   "outputs": [
    {
     "name": "stdout",
     "output_type": "stream",
     "text": [
      "coefficient_name,new_coef,constrain\n",
      "coef_driving_age_child_school2_asc,-6.260726224759518,F\n",
      "coef_driving_age_child_work1_asc,-2.0806727916335572,F\n",
      "coef_driving_age_child_work_and_school_asc,-3.295808929581195,F\n"
     ]
    }
   ],
   "source": [
    "compare_sd[['coefficient_name', 'new_coef', 'constrain']].to_csv(sys.stdout, index = False)"
   ]
  },
  {
   "cell_type": "markdown",
   "metadata": {},
   "source": [
    "# Preschool"
   ]
  },
  {
   "cell_type": "code",
   "execution_count": 14,
   "metadata": {},
   "outputs": [
    {
     "name": "stderr",
     "output_type": "stream",
     "text": [
      "C:\\Users\\andrew.rohne\\AppData\\Local\\Temp\\2\\ipykernel_13356\\1988977082.py:3: SettingWithCopyWarning: \n",
      "A value is trying to be set on a copy of a slice from a DataFrame.\n",
      "Try using .loc[row_indexer,col_indexer] = value instead\n",
      "\n",
      "See the caveats in the documentation: https://pandas.pydata.org/pandas-docs/stable/user_guide/indexing.html#returning-a-view-versus-a-copy\n",
      "  compare_ps['coefficient_name'] = compare_ps['mandatory_tour_frequency'].map(coef_map[8])\n"
     ]
    },
    {
     "data": {
      "text/html": [
       "<div>\n",
       "<style scoped>\n",
       "    .dataframe tbody tr th:only-of-type {\n",
       "        vertical-align: middle;\n",
       "    }\n",
       "\n",
       "    .dataframe tbody tr th {\n",
       "        vertical-align: top;\n",
       "    }\n",
       "\n",
       "    .dataframe thead th {\n",
       "        text-align: right;\n",
       "    }\n",
       "</style>\n",
       "<table border=\"1\" class=\"dataframe\">\n",
       "  <thead>\n",
       "    <tr style=\"text-align: right;\">\n",
       "      <th></th>\n",
       "      <th>mandatory_tour_frequency</th>\n",
       "      <th>ModPct</th>\n",
       "      <th>ObsPct</th>\n",
       "      <th>coef_adj</th>\n",
       "    </tr>\n",
       "  </thead>\n",
       "  <tbody>\n",
       "    <tr>\n",
       "      <th>0</th>\n",
       "      <td>school2</td>\n",
       "      <td>0.035346</td>\n",
       "      <td>0.321659</td>\n",
       "      <td>2.208305</td>\n",
       "    </tr>\n",
       "  </tbody>\n",
       "</table>\n",
       "</div>"
      ],
      "text/plain": [
       "  mandatory_tour_frequency    ModPct    ObsPct  coef_adj\n",
       "0                  school2  0.035346  0.321659  2.208305"
      ]
     },
     "execution_count": 14,
     "metadata": {},
     "output_type": "execute_result"
    }
   ],
   "source": [
    "asimcfg_ps = asim_config[asim_config['coefficient_name'].str.contains('preschool.+asc')]\n",
    "compare_ps = compare[compare['ptype'] == 8]\n",
    "compare_ps['coefficient_name'] = compare_ps['mandatory_tour_frequency'].map(coef_map[8])\n",
    "compare_ps = compare_ps.merge(asimcfg_ps, on = 'coefficient_name')\n",
    "compare_ps['new_coef'] = compare_ps['value'] + compare_ps['coef_adj']\n",
    "\n",
    "compare_ps[['mandatory_tour_frequency', 'ModPct', 'ObsPct', 'coef_adj']]"
   ]
  },
  {
   "cell_type": "code",
   "execution_count": 15,
   "metadata": {},
   "outputs": [
    {
     "name": "stdout",
     "output_type": "stream",
     "text": [
      "coefficient_name,new_coef,constrain\n",
      "coef_preschool_school2_asc,-1.334742688861081,F\n"
     ]
    }
   ],
   "source": [
    "compare_ps[['coefficient_name', 'new_coef', 'constrain']].to_csv(sys.stdout, index = False)"
   ]
  }
 ],
 "metadata": {
  "kernelspec": {
   "display_name": "Python 3",
   "language": "python",
   "name": "python3"
  },
  "language_info": {
   "codemirror_mode": {
    "name": "ipython",
    "version": 3
   },
   "file_extension": ".py",
   "mimetype": "text/x-python",
   "name": "python",
   "nbconvert_exporter": "python",
   "pygments_lexer": "ipython3",
   "version": "3.9.16"
  }
 },
 "nbformat": 4,
 "nbformat_minor": 4
}
